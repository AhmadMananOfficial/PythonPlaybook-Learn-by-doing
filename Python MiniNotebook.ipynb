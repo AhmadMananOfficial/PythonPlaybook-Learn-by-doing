{
 "cells": [
  {
   "cell_type": "markdown",
   "id": "2e06b144",
   "metadata": {},
   "source": [
    "---\n",
    "\n",
    "## Welcome! 🌟\n",
    "\n",
    "> **Author**: Ahmad Manan Akram  \n",
    "> **Started**: 14/04/2025  \n",
    "> **Thanks to**: ChatGPT😂 \n",
    "\n",
    "Welcome to your fun-filled journey into Python! 🚀. This notebook is your **complete, beginner-friendly guide** to master Python language.\n",
    "\n",
    "Each section includes:  \n",
    "💡 Easy explanations  \n",
    "👩‍💻 Hands-on code examples  \n",
    "🎯 Quick quizzes  \n",
    "💻 Real-world challenge  \n",
    "🎤 Top interview questions  \n",
    "\n",
    "Let's gooo! 🐍✨\n",
    "\n",
    "---"
   ]
  },
  {
   "cell_type": "markdown",
   "id": "eb96b836",
   "metadata": {},
   "source": [
    "# 📘 Python Roadmap: Beginner to Mastery\n",
    "\n",
    "## ✅ Foundations\n",
    "- Reserved Words\n",
    "- Comments\n",
    "- Taking User Input\n",
    "- Constants\n",
    "- Variables\n",
    "- Datatypes\n",
    "- Type Conversion\n",
    "- Operators\n",
    "- Conditional Statements:\n",
    "  - `if`, `elif`, `else`\n",
    "- Loops:\n",
    "  - `for` loop\n",
    "  - `while` loop\n",
    "  - `break`, `continue`, `pass`\n",
    "- Exception Handling:\n",
    "  - `try`, `except`, `else`, `finally`\n",
    "\n",
    "---\n"
   ]
  },
  {
   "cell_type": "markdown",
   "id": "b3d441b5",
   "metadata": {},
   "source": [
    "## 🧱 Functions and Modules\n",
    "- Defining Functions using `def`\n",
    "- Parameters and Return Values\n",
    "- Default and Keyword Arguments\n",
    "- Variable-length Arguments: `*args`, `**kwargs`\n",
    "- Variable Scope: Local vs Global\n",
    "- Lambda Functions\n",
    "- Importing Modules\n",
    "- Creating Custom Modules\n",
    "\n",
    "---"
   ]
  },
  {
   "cell_type": "markdown",
   "id": "383e5963",
   "metadata": {},
   "source": [
    "## 📦 Data Structures\n",
    "- Lists and List Methods\n",
    "- Tuples\n",
    "- Sets\n",
    "- Dictionaries\n",
    "- Nested Data Structures\n",
    "- Comprehensions:\n",
    "  - List Comprehension\n",
    "  - Set Comprehension\n",
    "  - Dictionary Comprehension\n",
    "\n",
    "---"
   ]
  },
  {
   "cell_type": "markdown",
   "id": "9f648db7",
   "metadata": {},
   "source": [
    "## 🧰 Object-Oriented Programming (OOP)\n",
    "- Classes and Objects\n",
    "- Constructors (`__init__`)\n",
    "- Instance and Class Variables\n",
    "- Instance Methods\n",
    "- Inheritance\n",
    "- Polymorphism\n",
    "- Encapsulation\n",
    "- Special Methods (`__str__`, `__len__`, etc.)\n",
    "- Static Methods and Class Methods\n",
    "\n",
    "---"
   ]
  },
  {
   "cell_type": "markdown",
   "id": "9622eddd",
   "metadata": {},
   "source": [
    "## 🧠 Intermediate and Advanced Concepts\n",
    "- File Handling:\n",
    "  - Reading, Writing, Appending\n",
    "- JSON Handling\n",
    "- Custom Exceptions\n",
    "- Iterators and Generators\n",
    "- Decorators\n",
    "- Context Managers (`with` statement)\n",
    "- Type Hinting\n",
    "- Assertions (`assert`)\n",
    "\n",
    "---"
   ]
  },
  {
   "cell_type": "markdown",
   "id": "9287e9de",
   "metadata": {},
   "source": [
    "## ⚙️ Practical Python (Standard Libraries & Tools)\n",
    "- Useful Modules:\n",
    "  - `datetime`\n",
    "  - `os`, `sys`\n",
    "  - `math`, `random`\n",
    "  - `re` (Regex)\n",
    "  - `shutil`\n",
    "- Command-line Tools:\n",
    "  - `argparse`\n",
    "- Virtual Environments: `venv`, `pip`\n",
    "- API Handling using `requests`\n",
    "\n",
    "---"
   ]
  },
  {
   "cell_type": "markdown",
   "id": "099b864c",
   "metadata": {},
   "source": [
    "## 🤖 Bonus: Intro to AI & Machine Learning (Optional)\n",
    "- `NumPy` Basics\n",
    "- `Pandas` DataFrames\n",
    "- Data Visualization:\n",
    "  - `Matplotlib`\n",
    "  - `Seaborn`\n",
    "- Intro to `scikit-learn`\n",
    "- Building Simple ML Models\n",
    "\n",
    "---"
   ]
  },
  {
   "cell_type": "markdown",
   "id": "56f75378",
   "metadata": {},
   "source": [
    "## 🏁 Final Project Ideas\n",
    "- Build a Command-Line App\n",
    "- Create a To-Do List Manager\n",
    "- Build a Mini Calculator\n",
    "- Make a Simple Web Scraper\n",
    "- Create a Data Visualizer\n",
    "- Build a Simple Machine Learning Model\n",
    "\n",
    "---"
   ]
  },
  {
   "cell_type": "markdown",
   "id": "c3aaabb1",
   "metadata": {},
   "source": [
    "### Table of Contents 📚\n",
    "\n",
    "- [Reserved Words in Python 🌐](https://www.notion.so/Project-Template-1d54b1c88c54801093d1c82179cf2a31?pvs=21)\n",
    "    - [What are Reserved Words?](https://www.notion.so/Project-Template-1d54b1c88c54801093d1c82179cf2a31?pvs=21)\n",
    "    - [Full List](https://www.notion.so/Project-Template-1d54b1c88c54801093d1c82179cf2a31?pvs=21)\n",
    "    - [Examples and Usage](https://www.notion.so/Project-Template-1d54b1c88c54801093d1c82179cf2a31?pvs=21)\n",
    "    - [Quick Quiz Time 🎯](https://www.notion.so/Project-Template-1d54b1c88c54801093d1c82179cf2a31?pvs=21)\n",
    "    - [Top Interview Questions 🎤](https://www.notion.so/Project-Template-1d54b1c88c54801093d1c82179cf2a31?pvs=21)\n",
    "- [Comments in Python 💬](https://www.notion.so/Project-Template-1d54b1c88c54801093d1c82179cf2a31?pvs=21)\n",
    "    - [Single-line Comments](https://www.notion.so/Project-Template-1d54b1c88c54801093d1c82179cf2a31?pvs=21)\n",
    "    - [Multi-line Comments](https://www.notion.so/Project-Template-1d54b1c88c54801093d1c82179cf2a31?pvs=21)\n",
    "    - [Best Practices](https://www.notion.so/Project-Template-1d54b1c88c54801093d1c82179cf2a31?pvs=21)\n",
    "    - [Quick Quiz Time 🎯](https://www.notion.so/Project-Template-1d54b1c88c54801093d1c82179cf2a31?pvs=21)\n",
    "    - [Top Interview Questions 🎤](https://www.notion.so/Project-Template-1d54b1c88c54801093d1c82179cf2a31?pvs=21)\n",
    "- [Variables in Python 📂](https://www.notion.so/Project-Template-1d54b1c88c54801093d1c82179cf2a31?pvs=21)\n",
    "    - [What are Variables?](https://www.notion.so/Project-Template-1d54b1c88c54801093d1c82179cf2a31?pvs=21)\n",
    "    - [Declaration & Assignment](https://www.notion.so/Project-Template-1d54b1c88c54801093d1c82179cf2a31?pvs=21)\n",
    "    - [Naming Conventions](https://www.notion.so/Project-Template-1d54b1c88c54801093d1c82179cf2a31?pvs=21)\n",
    "    - [Data Types](https://www.notion.so/Project-Template-1d54b1c88c54801093d1c82179cf2a31?pvs=21)\n",
    "    - [Quick Quiz Time 🎯](https://www.notion.so/Project-Template-1d54b1c88c54801093d1c82179cf2a31?pvs=21)\n",
    "    - [Top Interview Questions 🎤](https://www.notion.so/Project-Template-1d54b1c88c54801093d1c82179cf2a31?pvs=21)\n",
    "- [Real World Challenge 💻](https://www.notion.so/Project-Template-1d54b1c88c54801093d1c82179cf2a31?pvs=21)"
   ]
  },
  {
   "cell_type": "markdown",
   "id": "c1faa93a",
   "metadata": {},
   "source": [
    "# ⭐Reserved Words in Python 🌐 <a name=\"reserved-words\"></a>\n",
    "\n",
    "## What are Reserved Words? <a name=\"what-are-reserved-words\"></a>\n",
    "\n",
    "Reserved words (also called **keywords**) are words **that Python has already reserved** for its own use.\n",
    "\n",
    "> You cannot use these words as variable names, function names, or any identifiers.\n",
    "> \n",
    "\n",
    "They're essential for Python's syntax and structure.\n"
   ]
  },
  {
   "cell_type": "markdown",
   "id": "32f50687",
   "metadata": {},
   "source": [
    "## List of Reserved words: 📅 <a name=\"List of Reserved words\"></a>\n",
    "\n"
   ]
  },
  {
   "cell_type": "code",
   "execution_count": null,
   "id": "5d444a7a",
   "metadata": {},
   "outputs": [
    {
     "name": "stdout",
     "output_type": "stream",
     "text": [
      "['False', 'None', 'True', 'and', 'as', 'assert', 'async', 'await', 'break', 'class', 'continue', 'def', 'del', 'elif', 'else', 'except', 'finally', 'for', 'from', 'global', 'if', 'import', 'in', 'is', 'lambda', 'nonlocal', 'not', 'or', 'pass', 'raise', 'return', 'try', 'while', 'with', 'yield']\n",
      "\n",
      "Total Reserved Words: 35\n"
     ]
    }
   ],
   "source": [
    "import keyword\n",
    "print(keyword.kwlist) # Print kwlist(keyWord list)\n",
    "print(f\"\\nTotal Reserved Words: {len(keyword.kwlist)}\") "
   ]
  },
  {
   "cell_type": "markdown",
   "id": "5e692853",
   "metadata": {},
   "source": [
    "Typical output:\n",
    "\n",
    "['False', 'None', 'True', 'and', 'as', 'assert', 'async', 'await',\n",
    " 'break', 'class', 'continue', 'def', 'del', 'elif', 'else', 'except',\n",
    " 'finally', 'for', 'from', 'global', 'if', 'import', 'in', 'is', 'lambda',\n",
    " 'nonlocal', 'not', 'or', 'pass', 'raise', 'return', 'try', 'while', 'with', 'yield']"
   ]
  },
  {
   "cell_type": "markdown",
   "id": "10c436aa",
   "metadata": {},
   "source": [
    "## 🧠 Example Usage <a name=\"examples-usage\"></a>"
   ]
  },
  {
   "cell_type": "code",
   "execution_count": null,
   "id": "8093e1c5",
   "metadata": {},
   "outputs": [],
   "source": [
    "# ❌ Don't do this\n",
    "# class = \"Math\"  # ❌ 'class' is a reserved word\n",
    "\n",
    "# ✅ Do this\n",
    "subject = \"Math\"  # ✅ This is fine!"
   ]
  },
  {
   "cell_type": "markdown",
   "id": "2de4ecf1",
   "metadata": {},
   "source": [
    "## Usage Notes\n",
    "\n",
    "- Always avoid using reserved words as variable names.\n",
    "- They are **case-sensitive** (e.g., `True` is not the same as `true`)."
   ]
  },
  {
   "cell_type": "markdown",
   "id": "7b02b9f7",
   "metadata": {},
   "source": [
    "---\n",
    "\n",
    "## Quick Quiz Time 🎯 <a name=\"quiz-reserved\"></a>\n",
    "\n",
    "**1.** Can you use `def` as a variable name? (True/False)\n",
    "\n",
    "**2.** Which of the following is a reserved word?\n",
    "- a) print\n",
    "- b) input\n",
    "- c) for\n",
    "- d) room\n",
    "\n",
    "**3.** What will happen if you name a variable `return`?\n",
    "- a) Nothing special\n",
    "- b) Python will throw an error\n",
    "\n",
    "---"
   ]
  },
  {
   "cell_type": "markdown",
   "id": "771d47fd",
   "metadata": {},
   "source": [
    "## 💻Real World Challenge <a name=\"real world challenge\"></a>\n",
    "\n",
    "**Task:** Try writing a script that prints your daily routine.\n",
    "\n",
    "❗ Make sure to **avoid** using any reserved words as variable names!\n",
    "\n",
    "---"
   ]
  },
  {
   "cell_type": "markdown",
   "id": "9b501cce",
   "metadata": {},
   "source": [
    "## Top Interview Questions 🎤 <a name=\"interview-reserved\"></a>\n",
    "\n",
    "**Q1:** Why can't we use reserved words as variable names?\n",
    "\n",
    "**A1:** Because they are part of Python's core syntax. Using them would confuse the interpreter.\n",
    "\n",
    "**Q2:** How can you find all reserved words in Python programmatically?\n",
    "\n",
    "**A2:** Using the `keyword` module: `import keyword; print(keyword.kwlist)`\n",
    "\n",
    "---"
   ]
  },
  {
   "cell_type": "markdown",
   "id": "edc1f078",
   "metadata": {},
   "source": [
    "# Taking User Input 🎤\n",
    "\n",
    "User input is a super important part of interactive programs! 🤩\n",
    "In Python, we use the `input()` function to take input from the user.\n",
    "\n",
    "✅ Example:"
   ]
  },
  {
   "cell_type": "code",
   "execution_count": 1,
   "id": "4d92c5ef",
   "metadata": {},
   "outputs": [
    {
     "name": "stdout",
     "output_type": "stream",
     "text": [
      "Hello, Ahmed 👋\n"
     ]
    }
   ],
   "source": [
    "name = input(\"What is your name? \")\n",
    "print(\"Hello,\", name, \"👋\")"
   ]
  },
  {
   "cell_type": "markdown",
   "id": "c73c052b",
   "metadata": {},
   "source": [
    "✨ Note: `input()` **always returns a string**, even if you type numbers! If you want a number, you must convert it.\n",
    "\n",
    "✅ Example:"
   ]
  },
  {
   "cell_type": "code",
   "execution_count": 2,
   "id": "34fb5fbb",
   "metadata": {},
   "outputs": [
    {
     "name": "stdout",
     "output_type": "stream",
     "text": [
      "You will be 21 next year!\n"
     ]
    }
   ],
   "source": [
    "age = input(\"Enter your age: \")\n",
    "age = int(age)  # Convert the string input to integer\n",
    "print(\"You will be\", age + 1, \"next year!\")"
   ]
  },
  {
   "cell_type": "markdown",
   "id": "ee253aa9",
   "metadata": {},
   "source": [
    "---\n",
    "# ⭐Comments\n",
    "\n",
    "Comments are your best friends when coding! 💚\n",
    "\n",
    "They help explain what your code does — useful for **you** and **others**.\n",
    "\n",
    "## 📝 Types of Comments\n",
    "\n",
    "### ✅ Single-line comment"
   ]
  },
  {
   "cell_type": "code",
   "execution_count": null,
   "id": "d58c3f54",
   "metadata": {},
   "outputs": [],
   "source": [
    "# This is a single-line comment\n",
    "print(\"Hello!\")"
   ]
  },
  {
   "cell_type": "markdown",
   "id": "44e37f5e",
   "metadata": {},
   "source": [
    "## 🧾Multi-line Comments <a name=\"multi-line-comments\"></a>\n",
    "\n",
    "Python doesn't have true multi-line comments like other languages,\n",
    "but you can simulate them with triple quotes:\n"
   ]
  },
  {
   "cell_type": "code",
   "execution_count": null,
   "id": "5a5be98a",
   "metadata": {},
   "outputs": [
    {
     "name": "stdout",
     "output_type": "stream",
     "text": [
      "Multi-line comments above!\n"
     ]
    }
   ],
   "source": [
    "\"\"\"\n",
    "Python is a\n",
    "fun!\n",
    "\"\"\"\n",
    "print(\"Multi-line comments above!\")"
   ]
  },
  {
   "cell_type": "markdown",
   "id": "5e37fa14",
   "metadata": {},
   "source": [
    "## Best Practices 👍 <a name=\"best-practices\"></a>\n",
    "\n",
    "- Keep comments **short** and **clear**.\n",
    "- **Explain why**, not just what.\n",
    "- Update comments if code changes.\n",
    "\n",
    "---"
   ]
  },
  {
   "cell_type": "markdown",
   "id": "3554a9e2",
   "metadata": {},
   "source": [
    "## Quick Quiz Time 🎯 <a name=\"quiz-comments\"></a>\n",
    "\n",
    "**Q1:** What symbol starts a single-line comment?\n",
    "\n",
    "- A. @\n",
    "- B. # ✅\n",
    "- C. //\n",
    "\n",
    "**Q2:** Can comments be used to disable code temporarily?\n",
    "\n",
    "- A. Yes ✅\n",
    "- B. No\n",
    "\n",
    "**Q3:** Multi-line comments can be written using `'''` or `\"\"\"`\n",
    "\n",
    "- A. True ✅\n",
    "- B. False\n",
    "---"
   ]
  },
  {
   "cell_type": "markdown",
   "id": "ead452a9",
   "metadata": {},
   "source": [
    "## Top Interview Questions 🎤 <a name=\"interview-comments\"></a>\n",
    "\n",
    "**Q1:** What's the purpose of comments?\n",
    "\n",
    "**A1:** To explain code for humans, improving readability and maintainability.\n",
    "\n",
    "**Q2:** Do comments slow down Python code execution?\n",
    "\n",
    "**A2:** No, comments are ignored by the interpreter(a program that reads and executes Python code line by line, translating it into machine-readable bytecode and then executing that bytecode. ).\n",
    "\n",
    "---"
   ]
  },
  {
   "cell_type": "markdown",
   "id": "cb6deffa",
   "metadata": {},
   "source": [
    "# ⭐Constants🔢 <a name=\"constants\"></a>\n",
    "\n",
    "## What are Constants?\n",
    "\n",
    "Constants are like the superheroes of programming — their value never changes once they are defined! 🦸‍♂️\n",
    "\n",
    "- Think of constants like your birth date — once set, it stays the same forever!\n",
    "\n",
    "In Python, we usually write constants in **ALL_CAPS** to show they shouldn't change.\n",
    "\n",
    "---"
   ]
  },
  {
   "cell_type": "markdown",
   "id": "c1b0508d",
   "metadata": {},
   "source": [
    "## How to Declare Constants\n",
    "\n",
    "Python does not have a special keyword for constants. But by **convention**, we write variables in uppercase to show they are constants.\n"
   ]
  },
  {
   "cell_type": "code",
   "execution_count": null,
   "id": "3e8e6c33",
   "metadata": {},
   "outputs": [],
   "source": [
    "# Declaring constants\n",
    "PI = 3.14159\n",
    "GRAVITY = 9.8\n",
    "APP_NAME = \"FunWithPython\""
   ]
  },
  {
   "cell_type": "markdown",
   "id": "9a691100",
   "metadata": {},
   "source": [
    "> ⚡ Important: Python **does not enforce** constants — we follow the rule ourselves!\n",
    "\n",
    "---\n",
    "\n",
    "## Code Example\n"
   ]
  },
  {
   "cell_type": "code",
   "execution_count": 4,
   "id": "842afd47",
   "metadata": {},
   "outputs": [
    {
     "name": "stdout",
     "output_type": "stream",
     "text": [
      "Area of Circle: 78.53975\n"
     ]
    }
   ],
   "source": [
    "# Example of using constants\n",
    "PI = 3.14159\n",
    "RADIUS = 5\n",
    "\n",
    "# Calculating area of a circle\n",
    "area = PI * (RADIUS ** 2)\n",
    "print(\"Area of Circle:\", area)"
   ]
  },
  {
   "cell_type": "markdown",
   "id": "eac4cf6a",
   "metadata": {},
   "source": [
    "---\n",
    "## Quick Quiz Time 🎯\n",
    "\n",
    "\n",
    "**Q1.** Constants in Python are written in:\n",
    "\n",
    "   - a) camelCase \n",
    "   - b) ALL_CAPS  \n",
    "   - c) snake_case \n",
    "\n",
    "<details><summary>Answer</summary>b) ALL_CAPS</details>\n",
    "    \n",
    "\n",
    "**Q2** True or False: Python enforces constants.\n",
    "<details><summary>Answer</summary>False</details>\n",
    "\n",
    "**Q3** Pick the correct constant declaration: \n",
    "\n",
    "   - a) pi = 3.14      \n",
    "   - b) PI = 3.14         \n",
    "   - c) PiValue = 3.14    \n",
    "<details><summary>Answer</summary>b)PI = 3.14</details>\n",
    "\n",
    "\n",
    "---"
   ]
  },
  {
   "cell_type": "markdown",
   "id": "512293af",
   "metadata": {},
   "source": [
    "## Pro Tips 🧠\n",
    "\n",
    "- Always use UPPERCASE for constants.\n",
    "- Place all constants at the **top** of your code.\n",
    "- Using constants makes your code easier to **read** and **update**!\n",
    "\n",
    "---"
   ]
  },
  {
   "cell_type": "markdown",
   "id": "d5cb0aef",
   "metadata": {},
   "source": [
    "## Interview Q&A 🎤\n",
    "\n",
    "- **Q:** `What are constants in Python?`  \n",
    " **A:** Constants are variables whose values are meant to stay the same throughout the program.\n",
    "- **Q:** `Does Python have a \"const\" keyword?`  \n",
    " **A:** No, Python doesn't have a built-in const keyword; we use naming conventions instead.\n",
    "- **Q:** `Why do we use uppercase for constants?`  \n",
    " **A:** Uppercase naming (e.g., PI = 3.14) is a convention to signal that a variable should be treated as a constant.\n",
    "\n",
    "---"
   ]
  },
  {
   "cell_type": "markdown",
   "id": "5c5b037f",
   "metadata": {},
   "source": [
    "# ⭐Variables📂 <a name=\"variables\"></a>\n",
    "\n",
    "### What are Variables? <a name=\"what-are-variables\"></a>\n",
    "\n",
    "Variables are **containers** that store data values. Think of them like labels for boxes 📦.\n",
    "\n",
    "---"
   ]
  },
  {
   "cell_type": "markdown",
   "id": "5cb8eee2",
   "metadata": {},
   "source": [
    "## ✍️Declaring Variables <a name=\"declaration-assignment\"></a>\n",
    "\n",
    "In Python, you declare and assign in one step:"
   ]
  },
  {
   "cell_type": "code",
   "execution_count": null,
   "id": "c5e07c6a",
   "metadata": {},
   "outputs": [],
   "source": [
    "name = \"Ahmad\"\n",
    "age = 20\n",
    "height = 5.8\n",
    "is_student = True"
   ]
  },
  {
   "cell_type": "markdown",
   "id": "79bd0880",
   "metadata": {},
   "source": [
    "\n",
    "- `name` is a **string**\n",
    "- `age` is an **integer**\n",
    "- `height` is a **float**\n",
    "- `is_student` is a **bool** \n",
    "---\n"
   ]
  },
  {
   "cell_type": "markdown",
   "id": "c0d3e2b4",
   "metadata": {},
   "source": [
    "## Naming Conventions 🖊️ <a name=\"naming-conventions\"></a>\n",
    "\n",
    "- Must start with a **letter**(A-Z) or **underscore** (`_`)\n",
    "- Cannot start with a **number**\n",
    "- Can contain letters, numbers, and underscores\n",
    "- Are **case-sensitive** (`Name` and `name` are different)\n",
    "\n",
    "**✅Valid:**\n"
   ]
  },
  {
   "cell_type": "code",
   "execution_count": null,
   "id": "4e6a3726",
   "metadata": {},
   "outputs": [],
   "source": [
    "my_age = 20\n",
    "_userName = \"John\"\n",
    "city2 = \"Paris\""
   ]
  },
  {
   "cell_type": "markdown",
   "id": "74504335",
   "metadata": {},
   "source": [
    "**❌Invalid:**\n",
    "```python\n",
    "2city = \"Paris\"  # ❌ Can't start with number\n",
    "user-name = \"John\"  # ❌ Hyphens not allowed\n",
    "```"
   ]
  },
  {
   "cell_type": "markdown",
   "id": "7b401c13",
   "metadata": {},
   "source": [
    "### Techniques to write variable names\n",
    "\n",
    "**Camel Case:**  Each word except the first starts with a capital letter.  \n",
    "numOfStudents = 15  \n",
    "**Pascal Case:** Each word starts with the capital letter.  \n",
    "NumOfStudents = 15  \n",
    "**Snake Case:** Each word is seprated by underscore(_) character.  \n",
    "Num_of_students = 15  "
   ]
  },
  {
   "cell_type": "markdown",
   "id": "6ea5d544",
   "metadata": {},
   "source": [
    "---\n",
    "\n",
    "## 🔤Data Types <a name=\"data-types\"></a>\n",
    "\n",
    "You **don’t** need to declare the data type beforehand. Python figures it out! 🧠✨"
   ]
  },
  {
   "cell_type": "code",
   "execution_count": 7,
   "id": "e21b6d87",
   "metadata": {},
   "outputs": [],
   "source": [
    "# Examples of common data types:\n",
    "my_name = \"Pthon\"  # str\n",
    "my_age = 25        # int\n",
    "version = 3.14     # float\n",
    "is_coding = True   # bool\n",
    "hobbies = [\"reading\", \"coding\"]  # list"
   ]
  },
  {
   "cell_type": "markdown",
   "id": "90746129",
   "metadata": {},
   "source": [
    "You can check a variable's type with `type()`:"
   ]
  },
  {
   "cell_type": "code",
   "execution_count": 8,
   "id": "9b3252ea",
   "metadata": {},
   "outputs": [
    {
     "name": "stdout",
     "output_type": "stream",
     "text": [
      "<class 'str'>\n"
     ]
    }
   ],
   "source": [
    "print(type(my_name))"
   ]
  },
  {
   "cell_type": "markdown",
   "id": "13365121",
   "metadata": {},
   "source": [
    "---\n",
    "\n",
    "## Quick Quiz Time 🎯 <a name=\"quiz-variables\"></a>\n",
    "\n",
    "**Q1.** Which one is a valid variable name?\n",
    "- a) 2cool\n",
    "- b) _cool\n",
    "- c) cool-name\n",
    "- d) cool@123\n",
    "\n",
    "<details><summary>Answer</summary>b) _cool</details>\n",
    "\n",
    "**Q2.** Variables are case-insensitive. (True/False)\n",
    "<details><summary>Answer</summary>True</details>\n",
    "\n",
    "**Q3.** What will `type(5.0)` return?\n",
    "<details><summary>Answer</summary>float</details>\n",
    "\n",
    "---"
   ]
  },
  {
   "cell_type": "markdown",
   "id": "dae384ee",
   "metadata": {},
   "source": [
    "## Top Interview Questions 🎤 <a name=\"interview-variables\"></a>\n",
    "**Q1.** What are variables and why are they important in programming?  \n",
    " **A1:** Variables store data in memory so programs can use, modify, and reference that data dynamically. \n",
    "\n",
    "**Q2.** How does Python handle variable data types?    \n",
    " **A2:** Python uses dynamic typing, meaning it automatically detects and assigns data types at runtime.  \n",
    "\n",
    "**Q3.** What are some naming rules for variables in Python?  \n",
    " **A3:** Variable names must start with a letter or underscore, can't use keywords, and can't contain spaces or special symbols.   \n",
    "\n",
    "**Q4:** What is dynamic typing?  \n",
    "**A4:** In Python, variables don't have fixed types. A variable can be reassigned to a different data type.\n"
   ]
  },
  {
   "cell_type": "code",
   "execution_count": 9,
   "id": "e7d6a5b0",
   "metadata": {},
   "outputs": [],
   "source": [
    "# Example of Dynamic Typing\n",
    "x = 5      # int\n",
    "x = \"Hi\"   # now a string!"
   ]
  },
  {
   "cell_type": "markdown",
   "id": "1843fd92",
   "metadata": {},
   "source": [
    "---\n",
    "\n",
    "## Real World Challenge 💻 <a name=\"real-world-challenge\"></a>\n",
    "\n",
    "## Your Mission:\n",
    "\n",
    "Build a mini profile card using variables!\n",
    "\n",
    "1. Ask the user for their name, age, and city.\n",
    "2. Print it nicely using variables!\n",
    "\n",
    "Example:"
   ]
  },
  {
   "cell_type": "code",
   "execution_count": null,
   "id": "04d71c8c",
   "metadata": {},
   "outputs": [],
   "source": [
    "name = input(\"Enter your name: \")\n",
    "age = input(\"Enter your age: \")\n",
    "city = input(\"Enter your city: \")\n",
    "\n",
    "print(f\"\\nProfile:\\nName: {name}\\nAge: {age}\\nCity: {city}\")"
   ]
  },
  {
   "cell_type": "markdown",
   "id": "c9e8f846",
   "metadata": {},
   "source": [
    "# ⭐Data Types📊 <a name=\"datatypes\"></a>\n",
    "\n",
    "## What are Data Types?\n",
    "\n",
    "In Python, **type** refers to the **kind of value** a variable can hold. 📦 Each type tells Python **how to handle the value** — how much memory it needs, what operations you can perform, etc.\n",
    "\n",
    "Imagine data types like different baskets for different fruits. 🍎🍊🍇. \n"
   ]
  },
  {
   "cell_type": "markdown",
   "id": "03b5788f",
   "metadata": {},
   "source": [
    "---\n",
    "\n",
    "## Why Data Types Matter 🧐\n",
    "- Ensures you use variables correctly\n",
    "- Helps Python know how to store and manipulate data\n",
    "- Prevents unexpected errors ❗\n",
    "- Improves code readability and reliability ✨\n",
    "\n",
    "---"
   ]
  },
  {
   "cell_type": "markdown",
   "id": "4c659838",
   "metadata": {},
   "source": [
    "## Common Data Types 📋\n",
    "\n",
    "| Data Type    | Example            | Description                   |\n",
    "|--------------|--------------------|-------------------------------|\n",
    "| int          | 5                  | Whole numbers                  |\n",
    "| float        | 5.99               | Decimal numbers               |\n",
    "| str          | \"Hello\"             | Text (strings)                |\n",
    "| bool         | True, False         | True or False values          |\n",
    "| list         | [1, 2, 3]           | Ordered collection            |\n",
    "| tuple        | (1, 2, 3)           | Immutable ordered collection  |\n",
    "| dict         | {\"name\": \"John\"}   | Key-value pairs               |\n",
    "| set          | {1, 2, 3}           | Unique unordered collection   |\n",
    "\n",
    "---\n",
    "\n",
    "## Code Examples"
   ]
  },
  {
   "cell_type": "code",
   "execution_count": null,
   "id": "9fd3843a",
   "metadata": {},
   "outputs": [],
   "source": [
    "# Integer\n",
    "age = 20\n",
    "\n",
    "# Float\n",
    "price = 19.99\n",
    "\n",
    "# String\n",
    "name = \"Alice\"\n",
    "\n",
    "# Boolean\n",
    "is_student = True\n",
    "\n",
    "# List\n",
    "colors = [\"red\", \"blue\", \"green\"]\n",
    "\n",
    "# Tuple\n",
    "coordinates = (10.0, 20.0)\n",
    "\n",
    "# Dictionary\n",
    "details = {\"name\": \"Alice\", \"age\": 20}\n",
    "\n",
    "# Set\n",
    "unique_numbers = {1, 2, 3, 3}\n",
    "\n",
    "print(unique_numbers)  # Output: {1, 2, 3}"
   ]
  },
  {
   "cell_type": "markdown",
   "id": "38cc79d6",
   "metadata": {},
   "source": [
    "---\n",
    "\n",
    "## Quick Quiz Time 🎯\n",
    "\n",
    "1. Which one is a float?\n",
    "    - a) 10\n",
    "    - b) 10.5\n",
    "    - c) \"10\"\n",
    "\n",
    "2. True or False: A tuple can be changed after creation.\n",
    "\n",
    "3. Pick the correct set:\n",
    "    - a) [1, 2, 3]\n",
    "    - b) {1, 2, 3}\n",
    "    - c) (1, 2, 3)\n",
    "\n",
    "---"
   ]
  },
  {
   "cell_type": "markdown",
   "id": "382fbd64",
   "metadata": {},
   "source": [
    "## Pro Tips 🧠\n",
    "\n",
    "- Use `type()` to check a variable's data type.\n",
    "- Use **lists** when order matters, **sets** when uniqueness matters.\n",
    "- Use **dictionaries** to link keys and values (like name and age)."
   ]
  },
  {
   "cell_type": "code",
   "execution_count": null,
   "id": "138be243",
   "metadata": {},
   "outputs": [
    {
     "name": "stdout",
     "output_type": "stream",
     "text": [
      "<class 'str'>\n"
     ]
    }
   ],
   "source": [
    "# Quick example 🔍\n",
    "print(type(\"Hello\"))  # Output: <class 'str'>"
   ]
  },
  {
   "cell_type": "markdown",
   "id": "34f31190",
   "metadata": {},
   "source": [
    "---\n",
    "\n",
    "## Interview Q&A 🎤\n",
    "\n",
    "- **Q1:** What is the difference between a list and a tuple?  \n",
    " A: Lists are mutable (can change), while tuples are immutable (can't change after creation).\n",
    "\n",
    "- **Q2:** How does a set handle duplicate items?  \n",
    " A: Sets automatically remove duplicates and only store unique elements.\n",
    "- **Q3:** When would you prefer a dictionary over a list?  \n",
    "  A: Use a dictionary when you need to associate keys with values for fast lookups.\n",
    "\n",
    "---"
   ]
  },
  {
   "cell_type": "markdown",
   "id": "5a657c24",
   "metadata": {},
   "source": [
    "## 💻 Real World Challenge <a name=\"challenge\"></a>\n",
    "\n",
    "**Mini Project: Simple Profile Creator 👨‍💻👩‍💻**\n",
    "\n",
    "Create a Python program that:\n",
    "- Defines constants for APP_NAME and APP_VERSION.\n",
    "- Takes user input for name, age, and favorite color.\n",
    "- Stores the data in a dictionary.\n",
    "- Prints a welcome message using the user's data and constants!\n",
    "\n",
    "### Example output:\n",
    "```plaintext\n",
    "Welcome to FunWithPython v1.0!\n",
    "Hello Alice, age 20, who loves blue color!\n",
    "```\n",
    "\n",
    "🎯 Challenge Yourself and Try it NOW!\n",
    "\n",
    "---"
   ]
  },
  {
   "cell_type": "code",
   "execution_count": null,
   "id": "fdc7ed18",
   "metadata": {},
   "outputs": [
    {
     "name": "stdout",
     "output_type": "stream",
     "text": [
      "Welcome to Fun With Python V1.0!\n",
      "Hello Ahmad, age 20, who loves the book reading\n"
     ]
    }
   ],
   "source": [
    "APP_NAME = 'Fun With Python'\n",
    "APP_VERSION = 'V1.0'\n",
    "\n",
    "name = input(\"Enter your name:\")\n",
    "age = input(\"Enter your age:\")\n",
    "hobby= input(\"Enter your favourite hobby\")\n",
    "print(f\"Welcome to {APP_NAME} {APP_VERSION}!\")\n",
    "print(f\"Hello {name}, age {age}, who loves the {hobby}.\")"
   ]
  },
  {
   "cell_type": "markdown",
   "id": "56b2440e",
   "metadata": {},
   "source": [
    "# ⭐Type Conversion 🔄\n",
    "Changing one type into another is called **Type Conversion**.\n",
    "There are **two ways** to do it:\n",
    "\n",
    "## Implicit Type Conversion\n",
    "Python **automatically** converts types during operations."
   ]
  },
  {
   "cell_type": "code",
   "execution_count": null,
   "id": "cb52b42f",
   "metadata": {},
   "outputs": [],
   "source": [
    "x = 5     # int\n",
    "y = 2.5   # float\n",
    "\n",
    "z = x + y # int + float = float\n",
    "print(z)  # 7.5\n",
    "print(type(z))  # <class 'float'>"
   ]
  },
  {
   "cell_type": "markdown",
   "id": "df01cc45",
   "metadata": {},
   "source": [
    "✨ Python is smart! It promotes the lower data type (`int`) to higher (`float`) without us asking.\n"
   ]
  },
  {
   "cell_type": "markdown",
   "id": "508fc068",
   "metadata": {},
   "source": [
    "---\n",
    "\n",
    "## Explicit Type Conversion\n",
    "We **manually** convert types using functions like:\n",
    "- `int()`\n",
    "- `float()`\n",
    "- `str()`\n",
    "- `bool()`\n",
    "- `list()`\n",
    "- `tuple()`\n",
    "\n",
    "Example:\n"
   ]
  },
  {
   "cell_type": "code",
   "execution_count": null,
   "id": "d1f7b845",
   "metadata": {},
   "outputs": [],
   "source": [
    "# String to int\n",
    "s = \"123\"\n",
    "n = int(s)\n",
    "print(n)  # 123\n",
    "print(type(n))\n",
    "\n",
    "# Float to int\n",
    "f = 3.99\n",
    "print(int(f))  # 3 (Truncates decimal)\n",
    "\n",
    "# Int to string\n",
    "x = 100\n",
    "print(str(x))  # \"100\""
   ]
  },
  {
   "cell_type": "markdown",
   "id": "92d22fd1",
   "metadata": {},
   "source": [
    "⚡ **Important:** Be careful! Not all conversions are possible. \n",
    "- Type Casting must make sense. You can't cast text like \"hello\" into an integer."
   ]
  },
  {
   "cell_type": "code",
   "execution_count": null,
   "id": "c16b5013",
   "metadata": {},
   "outputs": [],
   "source": [
    "int(\"abc\")  # ❌ Error!"
   ]
  },
  {
   "cell_type": "markdown",
   "id": "df25173a",
   "metadata": {},
   "source": [
    "---\n",
    "\n",
    "## Quick Quiz Time 🎯\n",
    "\n",
    "**1. What is the type of `True` in Python?**\n",
    "- A) int\n",
    "- B) bool\n",
    "- C) str\n",
    "- D) float\n",
    "\n",
    "<details><summary>Answer</summary>B) bool</details>\n",
    "\n",
    "**2. Which of these is NOT a built-in type in Python?**\n",
    "- A) list\n",
    "- B) matrix\n",
    "- C) tuple\n",
    "- D) set\n",
    "\n",
    "<details><summary>Answer</summary>B) matrix</details>\n",
    "\n",
    "**3. True/False: Python automatically converts an `int` to a `float` if needed.**\n",
    "\n",
    "<details><summary>Answer</summary>True</details>\n",
    "\n",
    "**4. What will `type(\"123\")` return?**\n",
    "- A) int\n",
    "- B) str\n",
    "- C) float\n",
    "\n",
    "<details><summary>Answer</summary>B) str</details>\n",
    "\n",
    "**5. Which function will you use to convert a number into a string?**\n",
    "- A) float()\n",
    "- B) str()\n",
    "- C) bool()\n",
    "\n",
    "<details><summary>Answer</summary>B) str()</details>\n",
    "\n",
    "---"
   ]
  },
  {
   "cell_type": "markdown",
   "id": "d4573d1f",
   "metadata": {},
   "source": [
    "## Real World Challenge 💻\n",
    "**Mini-Project Idea:** \n",
    "Create a simple **Age Calculator** app!\n",
    "- Take user's birth year as **string** input 🍼\n",
    "- Convert it into **int**\n",
    "- Calculate and print their **age**! 🎂\n",
    "\n",
    "---"
   ]
  },
  {
   "cell_type": "code",
   "execution_count": null,
   "id": "d4a38a81",
   "metadata": {},
   "outputs": [],
   "source": [
    "# For Beginners\n",
    "from datetime import date\n",
    "\n",
    "# Get today's date\n",
    "today = date.today()\n",
    "\n",
    "# Get user input\n",
    "birth_year = int(input(\"Enter your birth year (e.g. 2005): \"))\n",
    "birth_month = int(input(\"Enter your birth month (1-12): \"))\n",
    "birth_day = int(input(\"Enter your birth day (1-31): \"))\n",
    "\n",
    "# Create birth date object\n",
    "birth_date = date(birth_year, birth_month, birth_day)\n",
    "\n",
    "# Calculate difference\n",
    "age_days = (today - birth_date).days\n",
    "\n",
    "# Convert days to years, months, and days manually\n",
    "years = age_days // 365\n",
    "remaining_days = age_days % 365\n",
    "months = remaining_days // 30\n",
    "days = remaining_days % 30\n",
    "\n",
    "# Print the result\n",
    "print(f\"\\nYou are {years} years, {months} months, and {days} days old 🎉\")"
   ]
  },
  {
   "cell_type": "markdown",
   "id": "3f3ebf44",
   "metadata": {},
   "source": [
    "⚠️ Limitations of Manual Method:\n",
    "   - Doesn't account for leap years (years with 366 days).\n",
    "   - Assumes every month has 30 days, which isn't true (months have 28 to 31 days).\n",
    "   - Not 100% accurate for real-life use like legal age, birthdays, etc.\n",
    "\n",
    "✅ Better & Accurate Way: Use dateutil.relativedelta\n",
    "   - It Understands real calendar logic 🗓️\n",
    "   - Knows actual month lengths\n",
    "   - Handles leap years correctly"
   ]
  },
  {
   "cell_type": "code",
   "execution_count": null,
   "id": "9c71eb68",
   "metadata": {},
   "outputs": [],
   "source": [
    "# 📦 To use this, you may need to install the dateutil library if it’s not already available:\n",
    "pip install python-dateutil"
   ]
  },
  {
   "cell_type": "code",
   "execution_count": null,
   "id": "f6ef6c94",
   "metadata": {},
   "outputs": [
    {
     "name": "stdout",
     "output_type": "stream",
     "text": [
      "\n",
      "You are 19 years, 11 months, and 3 days old 🎉\n"
     ]
    }
   ],
   "source": [
    "from datetime import date\n",
    "from dateutil.relativedelta import relativedelta\n",
    "\n",
    "# Get today date\n",
    "today = date.today()\n",
    "\n",
    "# Default Input with fallback values\n",
    "birth_year  = input(\"Enter your birth year(default: 2005)\")\n",
    "birth_year  = int(birth_year) if birth_year else 2005\n",
    "\n",
    "birth_month = input(\"Enter your birth month(default: 5)\")\n",
    "birth_month = int(birth_month) if birth_month else 5\n",
    "\n",
    "birth_day   = input(\"Enter your birth day(default: 15)\")\n",
    "birth_day   = int(birth_day) if birth_day else 15\n",
    "\n",
    "# Create birth date\n",
    "birth_date = date(birth_year, birth_month, birth_day)\n",
    "\n",
    "# Calculate age\n",
    "age = relativedelta(today, birth_date)\n",
    "\n",
    "print(f\"\\nYou are {age.years} years, {age.months} months, and {age.days} days old 🎉\")\n",
    "print(\"Thanks for using my app.\")"
   ]
  },
  {
   "cell_type": "markdown",
   "id": "0002df4d",
   "metadata": {},
   "source": [
    "## Top Interview Questions 🎤\n",
    "\n",
    "**Q1:** What is type casting?  \n",
    "A: Type casting is converting a value from one data type to another, like str() or int().\n",
    "\n",
    "**Q2:** What happens if you try to convert a string like \"hello\" into an int?  \n",
    "A: It raises a ValueError because \"hello\" is not a valid numeric string.\n",
    "\n",
    "**Q3:** What's the difference between implicit and explicit type conversion?  \n",
    "A: Implicit is done automatically by Python, while explicit is done manually using functions like int() or float().\n",
    "\n",
    "**Q4:** How do you check the type of a variable in Python?  \n",
    "A: Use the built-in type() function like type(x).\n",
    "\n",
    "**Q5:** Give one real-world example where type conversion is useful.  \n",
    "A: When taking user input (which is always a string) and converting it to an integer for calculations.\n",
    "\n",
    "\n",
    "---"
   ]
  },
  {
   "cell_type": "markdown",
   "id": "32fa3f6e",
   "metadata": {},
   "source": [
    "#  ⭐Strings 🔤\n",
    "\n",
    "Strings are sequences of characters, used to represent text in Python. They are one of the most commonly used data types. Whether you're displaying a message, processing input, or working with files — strings are everywhere!\n",
    "\n",
    "### 💡 Code Example"
   ]
  },
  {
   "cell_type": "code",
   "execution_count": 15,
   "id": "100e12cf",
   "metadata": {},
   "outputs": [
    {
     "name": "stdout",
     "output_type": "stream",
     "text": [
      "Hello, world! 👋\n"
     ]
    }
   ],
   "source": [
    "# Let's print a simple string\n",
    "print(\"Hello, world! 👋\")"
   ]
  },
  {
   "cell_type": "markdown",
   "id": "db389fa6",
   "metadata": {},
   "source": [
    "### 🧠 Pro Tips\n",
    "- Strings in Python are immutable. Once created, they can't be changed — only replaced.\n",
    "\n",
    "---"
   ]
  },
  {
   "cell_type": "markdown",
   "id": "e8519306",
   "metadata": {},
   "source": [
    "## 📝 String Declaration & Types\n",
    "You can declare strings using single quotes, double quotes, or triple quotes (for multi-line strings).\n",
    "\n",
    "### 💡 Code Example"
   ]
  },
  {
   "cell_type": "code",
   "execution_count": null,
   "id": "7f9ff08d",
   "metadata": {},
   "outputs": [],
   "source": [
    "single = 'Hello'\n",
    "double = \"World\"\n",
    "multiline = '''This is a\\nmultiline string'''\n",
    "print(single, double)\n",
    "print(multiline)"
   ]
  },
  {
   "cell_type": "markdown",
   "id": "7accf92a",
   "metadata": {},
   "source": [
    "### 🎯 Quick Quiz Time\n",
    "1. Which of these is **not** a valid string?\n",
    "    - A) 'hello'\n",
    "    - B) \"world\"\n",
    "    - C) '''text'''\n",
    "    - D) `text`\n",
    "\n",
    "---"
   ]
  },
  {
   "cell_type": "markdown",
   "id": "c2d4082e",
   "metadata": {},
   "source": [
    "## 🔍 Indexing & Slicing\n",
    "Strings are zero-indexed, meaning the first character is at position 0. You can use slicing to grab parts of the string.\n",
    "\n",
    "### 💡 Code Example"
   ]
  },
  {
   "cell_type": "code",
   "execution_count": null,
   "id": "cd2a8258",
   "metadata": {},
   "outputs": [],
   "source": [
    "word = \"Python\"\n",
    "print(word[0])   # P\n",
    "print(word[-1])  # n\n",
    "print(word[1:4]) # yth"
   ]
  },
  {
   "cell_type": "markdown",
   "id": "f06efd9d",
   "metadata": {},
   "source": [
    "### 🧠 Pro Tips\n",
    "- Negative indexes count from the end.\n",
    "- `string[::-1]` is a cool trick to reverse a string!\n",
    "\n",
    "---"
   ]
  },
  {
   "cell_type": "markdown",
   "id": "ef7fa363",
   "metadata": {},
   "source": [
    "## 🛠️ Common String Methods\n",
    "Python has many built-in methods to work with strings.\n",
    "\n",
    "### 💡 Code Example"
   ]
  },
  {
   "cell_type": "code",
   "execution_count": null,
   "id": "3d90d8a2",
   "metadata": {},
   "outputs": [
    {
     "name": "stdout",
     "output_type": "stream",
     "text": [
      "python is FUN!\n",
      " python is fun! \n",
      " PYTHON IS FUN! \n",
      " Python Is Fun! \n",
      " python is awesome! \n"
     ]
    }
   ],
   "source": [
    "s = \" python is FUN! \"\n",
    "print(s.strip())      # Remove whitespace at the start and end\n",
    "print(s.lower())      # Lowercase\n",
    "print(s.upper())      # Uppercase\n",
    "print(s.title())      # Title Case\n",
    "print(s.replace(\"FUN\", \"awesome\"))"
   ]
  },
  {
   "cell_type": "markdown",
   "id": "98154c4c",
   "metadata": {},
   "source": [
    "### 🎯 Quick Quiz Time\n",
    "2. What does `\"test\".upper()` return?\n",
    "    - A) test\n",
    "    - B) Test\n",
    "    - C) TEST\n",
    "\n",
    "---"
   ]
  },
  {
   "cell_type": "markdown",
   "id": "9a66577e",
   "metadata": {},
   "source": [
    "## 🧾 String Formatting\n",
    "There are multiple ways to format strings:\n",
    "- f-strings\n",
    "- .format()\n",
    "- % formatting\n",
    "\n",
    "### 💡 Code Example\n",
    "\n"
   ]
  },
  {
   "cell_type": "code",
   "execution_count": 17,
   "id": "7d25194b",
   "metadata": {},
   "outputs": [
    {
     "name": "stdout",
     "output_type": "stream",
     "text": [
      "My name is Ahmad and I'm 20 years old.\n",
      "My name is Ahmad and I'm 20 years old.\n",
      "My name is Ahmad and I'm 20 years old.\n"
     ]
    }
   ],
   "source": [
    "name = \"Ahmad\"\n",
    "age = 20\n",
    "\n",
    "print(f\"My name is {name} and I'm {age} years old.\")\n",
    "print(\"My name is {} and I'm {} years old.\".format(name, age))\n",
    "print(\"My name is %s and I'm %d years old.\" % (name, age))\n"
   ]
  },
  {
   "cell_type": "markdown",
   "id": "ca6ae50e",
   "metadata": {},
   "source": [
    "### 🧠 Pro Tips\n",
    "- Prefer f-strings in modern Python for clarity and performance.\n",
    "\n",
    "---"
   ]
  },
  {
   "cell_type": "markdown",
   "id": "0ad28aad",
   "metadata": {},
   "source": [
    "## ➕ String Operations\n",
    "You can perform basic operations on strings:\n",
    "- Concatenation (+)\n",
    "- Repetition (*)\n",
    "- Membership (in)\n",
    "\n",
    "### 💡 Code Example"
   ]
  },
  {
   "cell_type": "code",
   "execution_count": 1,
   "id": "11deb551",
   "metadata": {},
   "outputs": [
    {
     "name": "stdout",
     "output_type": "stream",
     "text": [
      "Hello World\n",
      "----------\n",
      "True\n"
     ]
    }
   ],
   "source": [
    "a = \"Hello\"\n",
    "b = \"World\"\n",
    "print(a + \" \" + b)\n",
    "print(\"-\" * 10)\n",
    "print(\"Hell\" in a)"
   ]
  },
  {
   "cell_type": "markdown",
   "id": "acaf6bb8",
   "metadata": {},
   "source": [
    "## 🔡 Escape Sequences & Raw Strings\n",
    "In Python, the backslash character `(\\)` is used to insert characters that are illegal in a string\n",
    "\n",
    "![alt text](hq720.jpg)\n",
    "\n",
    "You can also use raw strings to ignore escape processing: prefix with `r`\n",
    "\n",
    "### 💡 Code Example"
   ]
  },
  {
   "cell_type": "code",
   "execution_count": 2,
   "id": "f642e07e",
   "metadata": {},
   "outputs": [
    {
     "name": "stdout",
     "output_type": "stream",
     "text": [
      "Line1\n",
      "Line2\n",
      "C:\\\\Users\\\\Ahmad\n"
     ]
    }
   ],
   "source": [
    "print(\"Line1\\nLine2\")\n",
    "print(r\"C:\\\\Users\\\\Ahmad\")"
   ]
  },
  {
   "cell_type": "markdown",
   "id": "ca8411f8",
   "metadata": {},
   "source": [
    "## 🧑‍💻 User Input & Strings\n",
    "Capture user input using `input()` function and work with the result as a string.\n",
    "\n",
    "### 💡 Code Example"
   ]
  },
  {
   "cell_type": "code",
   "execution_count": null,
   "id": "86823d29",
   "metadata": {},
   "outputs": [],
   "source": [
    "user = input(\"What's your name? \")\n",
    "print(f\"Hello, {user}!\")"
   ]
  },
  {
   "cell_type": "markdown",
   "id": "e46b3d96",
   "metadata": {},
   "source": [
    "## ⚖️ String Comparisons\n",
    "You can compare strings using comparison operators: `==`, `!=`, `<`, `>` etc. Comparisons are case-sensitive.\n",
    "\n",
    "### 💡 Code Example\n"
   ]
  },
  {
   "cell_type": "code",
   "execution_count": 18,
   "id": "a406899c",
   "metadata": {},
   "outputs": [
    {
     "name": "stdout",
     "output_type": "stream",
     "text": [
      "False\n",
      "True\n"
     ]
    }
   ],
   "source": [
    "print(\"apple\" == \"Apple\")  # False\n",
    "print(\"a\" < \"b\")            # True\n"
   ]
  },
  {
   "cell_type": "markdown",
   "id": "6849fe3e",
   "metadata": {},
   "source": [
    "## 🔍 String Searching & Finding\n",
    "Use `.find()` and `.index()` to get the location of substrings. Use `.count()` to count occurrences.\n",
    "\n",
    "### 💡 Code Example"
   ]
  },
  {
   "cell_type": "code",
   "execution_count": 29,
   "id": "5428dd95",
   "metadata": {},
   "outputs": [
    {
     "name": "stdout",
     "output_type": "stream",
     "text": [
      "0\n",
      "2\n"
     ]
    }
   ],
   "source": [
    "text = \"Python is powerful. Python is super easy.\"\n",
    "print(text.find(\"Python\"))     # 0)\n",
    "print(text.count(\"Python\"))    # 2"
   ]
  },
  {
   "cell_type": "markdown",
   "id": "ad7c009f",
   "metadata": {},
   "source": [
    "### 🧠 Tip: \n",
    "   - **.`find()` returns `-1` if the substring is not found, while `.index()` raises a `ValueError` if not found.**"
   ]
  },
  {
   "cell_type": "markdown",
   "id": "a9bffcb7",
   "metadata": {},
   "source": [
    "## ✅ String Validations\n",
    "String methods like `.isdigit()`, `.isalpha()`, `.isalnum()`, `.isspace()` help check what kind of data a string contains.\n",
    "\n",
    "### 💡 Code Example"
   ]
  },
  {
   "cell_type": "code",
   "execution_count": null,
   "id": "9619c26f",
   "metadata": {},
   "outputs": [],
   "source": [
    "print(\"1234\".isdigit())    # True\n",
    "print(\"abc\".isalpha())     # True\n",
    "print(\"abc123\".isalnum())  # True\n",
    "print(\" \".isspace())       # True"
   ]
  },
  {
   "cell_type": "markdown",
   "id": "577d03d5",
   "metadata": {},
   "source": [
    "## 🚀 Performance Tips\n",
    "\n",
    "### 🧠 Pro Tips\n",
    "- Avoid `+` in loops. Use `.join()` for better performance.\n",
    "- Use `in` for fast membership tests.\n",
    "\n",
    "```python\n",
    "# Inefficient\n",
    "result = \"\"\n",
    "for word in [\"Python\", \"is\", \"cool\"]:\n",
    "    result += word + \" \"\n",
    "\n",
    "# Efficient\n",
    "result = \" \".join([\"Python\", \"is\", \"cool\"])\n",
    "print(result)\n",
    "```\n",
    "\n",
    "---"
   ]
  },
  {
   "cell_type": "markdown",
   "id": "0e451654",
   "metadata": {},
   "source": [
    "## 🎯 Quick Quiz Time\n",
    "**Q1.** What does \"Ahmad\"[2:] return?  \n",
    "   - A) Ah\n",
    "   - B) mad\n",
    "   - C) hmad\n",
    "\n",
    "<details> <summary><strong>Answer</strong></summary>✅ B) mad</details>\n",
    "\n",
    "**Q2.** True or False: Strings are mutable in Python.  \n",
    "<details> <summary><strong>Answer</strong></summary>❌ False</details>\n",
    "\n",
    "**Q3.** Fill in the blank: \"hello\".____() converts a string to uppercase.  \n",
    "<details> <summary><strong>Answer</strong></summary>✅ upper()</details>\n",
    "\n",
    "**Q4.** Which method would you use to check if a string is a number?  \n",
    "   - A) isalpha()\n",
    "   - B) isnumeric()\n",
    "   - C) isdigit()\n",
    "\n",
    "<details> <summary><strong>Answer</strong></summary>✅ C) isdigit()</details>\n",
    "\n",
    "---"
   ]
  },
  {
   "cell_type": "markdown",
   "id": "0bc24036",
   "metadata": {},
   "source": [
    "### 🧠 Tip:\n",
    "   - Use `.isdigit()` for basic digit checking (0–9)\n",
    "   - Use `.isnumeric()` if you want to allow all kinds of numeric characters (like '²', 'Ⅻ', '٣')"
   ]
  },
  {
   "cell_type": "markdown",
   "id": "cbfb1e77",
   "metadata": {},
   "source": [
    "## 🎤 Top Interview Questions\n",
    "\n",
    "1. What is the difference between `is` and `==` with strings?\n",
    "    - `==` compares value, `is` compares memory location.\n",
    "\n",
    "2. How do you reverse a string in Python?\n",
    "    - `string[::-1]`\n",
    "\n",
    "3. How would you check if a string contains only digits?\n",
    "    - Use `.isdigit()`\n",
    "\n",
    "4. Explain string immutability with an example.\n",
    "```python  \n",
    "    text = \"Hello\"\n",
    "    # text[0] = \"Y\"  # ❌ This will raise an error\n",
    "    new_text = \"Y\" + text[1:]  # ✅ This creates a new string: \"Yello\"\n",
    "```\n",
    "5. What is the difference between `find()` and `index()`?\n",
    "    - `find()` returns -1 if not found, `index()` raises an error.\n",
    "\n",
    "---\n"
   ]
  },
  {
   "cell_type": "markdown",
   "id": "76c4be5a",
   "metadata": {},
   "source": [
    "## 💻 Real World Challenge\n",
    "\n",
    "### Build a Simple CLI Contact Formatter ✨\n",
    "\n",
    "```python\n",
    "def format_contact(name, phone):\n",
    "    name = name.strip().title()\n",
    "    phone = phone.strip().replace(\" \", \"\").replace(\"-\", \"\")\n",
    "    return f\"Contact: {name}, Phone: {phone}\"\n",
    "\n",
    "# Try it out\n",
    "n = input(\"Enter contact name: \")\n",
    "p = input(\"Enter phone number: \")\n",
    "print(format_contact(n, p))\n",
    "```\n",
    "\n",
    "---"
   ]
  },
  {
   "cell_type": "code",
   "execution_count": 32,
   "id": "f39abdb4",
   "metadata": {},
   "outputs": [
    {
     "name": "stdout",
     "output_type": "stream",
     "text": [
      "Welcome to Password Strength Checker 🔐\n",
      "⚠️ Medium Strength Password — Add more variety!\n"
     ]
    }
   ],
   "source": [
    "import string\n",
    "print(\"Welcome to Password Strength Checker 🔐\")\n",
    "\n",
    "password = input(\"Enter your password:\")\n",
    "\n",
    "length = len(password) >= 8\n",
    "has_upper = any(c.isupper() for c in password)\n",
    "has_lower = any(c.islower() for c in password)\n",
    "has_digit = any(c.isdigit() for c in password)\n",
    "has_special = any(c in  string.punctuation for c in password)\n",
    "\n",
    "score = sum([length, has_upper, has_lower, has_digit, has_special])\n",
    "\n",
    "if(score == 5):\n",
    "    print(\"✅ Strong Password 💪\")\n",
    "elif(score >= 3):\n",
    "    print(\"⚠️ Medium Strength Password — Add more variety!\")\n",
    "else:\n",
    "    print(\"❌ Weak Password — Improve security!\")\n",
    "\n"
   ]
  },
  {
   "cell_type": "code",
   "execution_count": null,
   "id": "b331306f",
   "metadata": {},
   "outputs": [
    {
     "name": "stdout",
     "output_type": "stream",
     "text": [
      "🔐 Password Strength Checker\n",
      "\n",
      "🔍 Analyzing your password...\n",
      "❌ Weak Password — Improve security!\n",
      "\n",
      "Tips to Improve:\n",
      "- Use at least 8 characters.\n",
      "- Include digits.\n",
      "- Use symbols like @, #, $, etc.\n"
     ]
    }
   ],
   "source": [
    "import string\n",
    "\n",
    "print(\"Welcome to Password Strength Checker 🔐\")\n",
    "\n",
    "password = input(\"Enter your password: \")\n",
    "\n",
    "# Conditions\n",
    "length = len(password) >= 8\n",
    "has_upper = any(c.isupper() for c in password)\n",
    "has_lower = any(c.islower() for c in password)\n",
    "has_digit = any(c.isdigit() for c in password)\n",
    "has_special = any(c in string.punctuation for c in password)\n",
    "\n",
    "# Strength Check\n",
    "score = sum([length, has_upper, has_lower, has_digit, has_special])\n",
    "\n",
    "# Result\n",
    "print(\"\\n🔍 Analyzing your password...\")\n",
    "if score == 5:\n",
    "    print(\"✅ Strong Password 💪\")\n",
    "elif score >= 3:\n",
    "    print(\"⚠️ Medium Strength Password — Add more variety!\")\n",
    "else:\n",
    "    print(\"❌ Weak Password — Improve security!\")\n",
    "\n",
    "# Show what’s missing\n",
    "print(\"\\nTips to Improve:\")\n",
    "if not length:\n",
    "    print(\"- Use at least 8 characters.\")\n",
    "if not has_upper:\n",
    "    print(\"- Add uppercase letters.\")\n",
    "if not has_lower:\n",
    "    print(\"- Add lowercase letters.\")\n",
    "if not has_digit:\n",
    "    print(\"- Include digits.\")\n",
    "if not has_special:\n",
    "    print(\"- Use symbols like @, #, $, etc.\")"
   ]
  },
  {
   "cell_type": "markdown",
   "id": "62f0b70c",
   "metadata": {},
   "source": [
    "#  ⭐Operators ➕\n",
    "\n",
    "Operators are special symbols or keywords used to perform operations on variables and values.\n",
    "They help us build expressions and logic in our code! 🧮✨\n",
    "\n",
    "---"
   ]
  },
  {
   "cell_type": "markdown",
   "id": "afca147a",
   "metadata": {},
   "source": [
    "## 1. Arithmetic Operators ➗\n",
    "\n",
    "These operators perform mathematical operations:\n",
    "\n",
    "| Operator | Meaning | Example |\n",
    "|:--------:|:-------:|:-------:|\n",
    "| + | Addition | 5 + 2 = 7 |\n",
    "| - | Subtraction | 5 - 2 = 3 |\n",
    "| * | Multiplication | 5 * 2 = 10 |\n",
    "| ** | Exponentiation | 5 ** 2 = 25 |\n",
    "| / | Division | 5 / 2 = 2.5 |\n",
    "| // | Floor Division | 5 // 2 = 2 |\n",
    "| % | Modulus(Remainder) | 5 % 2 = 1 |\n",
    "\n",
    "\n",
    "\n",
    "### Example 📌"
   ]
  },
  {
   "cell_type": "code",
   "execution_count": null,
   "id": "df61db7e",
   "metadata": {},
   "outputs": [],
   "source": [
    "# Arithmetic Operators in action!\n",
    "a = 10\n",
    "b = 3\n",
    "print(a + b)  # Addition\n",
    "print(a - b)  # Subtraction\n",
    "print(a * b)  # Multiplication\n",
    "print(a / b)  # Division\n",
    "print(a % b)  # Modulus\n",
    "print(a ** b) # Exponentiation\n",
    "print(a // b) # Floor Division"
   ]
  },
  {
   "cell_type": "markdown",
   "id": "956ae5c2",
   "metadata": {},
   "source": [
    "---\n",
    "\n",
    "## 2. Assignment Operators 📝\n",
    "\n",
    "They assign values to variables:\n",
    "\n",
    "| Operator | Example | Same As |\n",
    "|:--------:|:-------:|:-------:|\n",
    "| = | x = 5 | x = 5 |\n",
    "| += | x += 3 | x = x + 3 |\n",
    "| -= | x -= 3 | x = x - 3 |\n",
    "| *= | x *= 3 | x = x * 3 |\n",
    "| /= | x /= 3 | x = x / 3 |\n",
    "| %= | x %= 3 | x = x % 3 |\n",
    "| //= | x //= 3 | x = x // 3 |\n",
    "| **= | x **= 3 | x = x ** 3 |\n",
    "| &= |= |= ^= >>= <<= |\n",
    "\n",
    "### Example 📌"
   ]
  },
  {
   "cell_type": "code",
   "execution_count": 4,
   "id": "811dae85",
   "metadata": {},
   "outputs": [
    {
     "name": "stdout",
     "output_type": "stream",
     "text": [
      "8\n"
     ]
    }
   ],
   "source": [
    "x = 5\n",
    "x += 3\n",
    "print(x) # 8"
   ]
  },
  {
   "cell_type": "markdown",
   "id": "9fc62ac5",
   "metadata": {},
   "source": [
    "---\n",
    "\n",
    "## 3. Comparison Operators 🔍\n",
    "\n",
    "Used to compare two values:\n",
    "\n",
    "| Operator | Meaning | Example |\n",
    "|:--------:|:-------:|:-------:|\n",
    "| == | Equal to | 5 == 5 (True) |\n",
    "| != | Not equal to | 5 != 3 (True) |\n",
    "| > | Greater than | 5 > 3 (True) |\n",
    "| < | Less than | 5 < 3 (False) |\n",
    "| >= | Greater than or equal to | 5 >= 5 (True) |\n",
    "| <= | Less than or equal to | 5 <= 6 (True) |\n",
    "\n",
    "### Example 📌"
   ]
  },
  {
   "cell_type": "code",
   "execution_count": null,
   "id": "a7ad1560",
   "metadata": {},
   "outputs": [],
   "source": [
    "print(5 == 5)\n",
    "print(5 != 3)\n",
    "print(5 > 3)\n",
    "print(5 < 3)"
   ]
  },
  {
   "cell_type": "markdown",
   "id": "50c9b90e",
   "metadata": {},
   "source": [
    "---\n",
    "\n",
    "## 4. Logical Operators ⚡\n",
    "\n",
    "They combine conditional statements:\n",
    "\n",
    "| Operator | Meaning | Example |\n",
    "|:--------:|:-------:|:-------:|\n",
    "| and | Returns True if both statements are true | x < 5 and x < 10 |\n",
    "| or | Returns True if one statement is true | x < 5 or x < 4 |\n",
    "| not | Reverse the result | not(x < 5 and x < 10) |\n",
    "\n",
    "### Example 📌"
   ]
  },
  {
   "cell_type": "code",
   "execution_count": 6,
   "id": "da68e719",
   "metadata": {},
   "outputs": [
    {
     "name": "stdout",
     "output_type": "stream",
     "text": [
      "True\n",
      "False\n",
      "False\n"
     ]
    }
   ],
   "source": [
    "x = 5\n",
    "print(x > 3 and x < 10)\n",
    "print(x > 6 or x < 3)\n",
    "print(not(x > 3 and x < 10))"
   ]
  },
  {
   "cell_type": "markdown",
   "id": "c7ef240b",
   "metadata": {},
   "source": [
    "---\n",
    "\n",
    "## 5. Bitwise Operators 🧠\n",
    "\n",
    "Used to compare binary numbers:\n",
    "\n",
    "| Operator | Meaning |\n",
    "|:--------:|:-------:|\n",
    "| & | AND |\n",
    "| \\| | OR |\n",
    "| ^ | XOR |\n",
    "| ~ | NOT |\n",
    "| << | Zero fill left shift |\n",
    "| >> | Signed right shift |\n",
    "\n",
    "### Example 📌"
   ]
  },
  {
   "cell_type": "code",
   "execution_count": 7,
   "id": "4ada3dab",
   "metadata": {},
   "outputs": [
    {
     "name": "stdout",
     "output_type": "stream",
     "text": [
      "0\n",
      "14\n",
      "14\n",
      "-11\n",
      "40\n",
      "2\n"
     ]
    }
   ],
   "source": [
    "a = 10 # 1010\n",
    "b = 4  # 0100\n",
    "print(a & b)  # 0\n",
    "print(a | b)  # 14\n",
    "print(a ^ b)  # 14\n",
    "print(~a)     # -11\n",
    "print(a << 2) # 40\n",
    "print(a >> 2) # 2"
   ]
  },
  {
   "cell_type": "markdown",
   "id": "86153e2b",
   "metadata": {},
   "source": [
    "---\n",
    "\n",
    "## 6. Membership Operators 🔑\n",
    "\n",
    "Tests for membership in a sequence (like lists, strings, etc.):\n",
    "\n",
    "| Operator | Meaning |\n",
    "|:--------:|:-------:|\n",
    "| in | True if value is found |\n",
    "| not in | True if value is not found |\n",
    "\n",
    "### Example 📌"
   ]
  },
  {
   "cell_type": "code",
   "execution_count": 8,
   "id": "18a77bbb",
   "metadata": {},
   "outputs": [
    {
     "name": "stdout",
     "output_type": "stream",
     "text": [
      "True\n",
      "True\n"
     ]
    }
   ],
   "source": [
    "list1 = [1, 2, 3, 4]\n",
    "print(2 in list1)\n",
    "print(5 not in list1)"
   ]
  },
  {
   "cell_type": "markdown",
   "id": "05941a4d",
   "metadata": {},
   "source": [
    "---\n",
    "\n",
    "## 8. Identity Operators 🆔\n",
    "\n",
    "Check if two objects are actually the same object:\n",
    "\n",
    "| Operator | Meaning |\n",
    "|:--------:|:-------:|\n",
    "| is | True if both variables are the same object |\n",
    "| is not | True if both variables are not the same object |\n",
    "\n",
    "### Example 📌"
   ]
  },
  {
   "cell_type": "code",
   "execution_count": null,
   "id": "c2ddcf96",
   "metadata": {},
   "outputs": [],
   "source": [
    "x = [1, 2, 3]\n",
    "y = [1, 2, 3]\n",
    "z = x\n",
    "print(x is z)      # True\n",
    "print(x is y)      # False\n",
    "print(x == y)      # True"
   ]
  },
  {
   "cell_type": "markdown",
   "id": "21c4cecd",
   "metadata": {},
   "source": [
    "---\n",
    "\n",
    "## 9. Quick Quiz Time 🎯\n",
    "\n",
    "**Q1**: Which operator is used for exponentiation?\n",
    "- A) *\n",
    "- B) **\n",
    "- C) //\n",
    "\n",
    "<details><summary>Answer</summary>✅ B) **</details>\n",
    "\n",
    "**Q2**: True or False? `5 != 5` is True.  \n",
    "<details><summary>Answer</summary>❌ False</details>\n",
    "\n",
    "**Q3**: Which logical operator returns True if any condition is True?\n",
    "- A) and\n",
    "- B) or\n",
    "- C) not\n",
    "<details><summary>Answer</summary>✅ B) or</details>\n",
    "\n",
    "**Q4**: What does `~` operator do in Bitwise?\n",
    "- A) AND\n",
    "- B) NOT\n",
    "- C) OR\n",
    "<details><summary>Answer</summary>✅ B) NOT</details>\n",
    "\n",
    "---"
   ]
  },
  {
   "cell_type": "markdown",
   "id": "5706f3f7",
   "metadata": {},
   "source": [
    "## 10. Real World Challenge 💻\n",
    "\n",
    "✅ **Build a simple calculator** in Python that can do:\n",
    "- Addition ➕\n",
    "- Subtraction ➖\n",
    "- Multiplication ✖️\n",
    "- Division ➗\n",
    "\n",
    "Take user input and perform the operation they choose! 🧑‍💻\n",
    "\n",
    "---"
   ]
  },
  {
   "cell_type": "code",
   "execution_count": null,
   "id": "4b2f0d03",
   "metadata": {},
   "outputs": [
    {
     "name": "stdout",
     "output_type": "stream",
     "text": [
      "🎉 Welcome to the Friendly Python Calculator!\n",
      "🔧 Available operations: +, -, *, /, ** (power), sqrt (square root), % (modulo)\n",
      "✅ Result: 1.3558658541796644e+81\n",
      "👋 Thanks for using the calculator. Bye!\n"
     ]
    }
   ],
   "source": [
    "import math\n",
    "\n",
    "print(\"🎉 Welcome to the Friendly Python Calculator!\")\n",
    "\n",
    "# use while loop want to use retry option.\n",
    "# while True:\n",
    "\n",
    "# 📥 Get user inputs\n",
    "x = float(input(\"🔢 Enter the first number: \"))\n",
    "y = float(input(\"🔢 Enter the second number (or 0 if not needed): \"))\n",
    "print(\"🔧 Available operations: +, -, *, /, ** (power), sqrt (square root), % (modulo)\")\n",
    "operation = input(\"👉 Choose your operation: \").strip()\n",
    "\n",
    "result = None\n",
    "\n",
    "# ✅ Perform calculation\n",
    "if operation == '+':\n",
    "    result = x + y\n",
    "elif operation == '-':\n",
    "    result = x - y\n",
    "elif operation == '*':\n",
    "    result = x * y\n",
    "elif operation == '/':\n",
    "    if y != 0:\n",
    "        result = x / y\n",
    "    else:\n",
    "        print(\"❌ Cannot divide by zero!\")\n",
    "elif operation == '**':\n",
    "    result = x ** y\n",
    "elif operation == 'sqrt':\n",
    "    if x >= 0:\n",
    "        result = math.sqrt(x)\n",
    "    else:\n",
    "        print(\"❌ Cannot take square root of a negative number!\")\n",
    "elif operation == '%':\n",
    "    result = x % y\n",
    "else:\n",
    "    print(\"⚠️ Invalid operation. Try one from the list!\")\n",
    "\n",
    "# 📢 Display result\n",
    "if result is not None:\n",
    "    print(f\"✅ Result: {round(result, 2)}\")\n",
    "\n",
    "'''\n",
    "Optinal: 🔁 Retry option\n",
    "again = input(\"🔁 Do you want to calculate again? (yes/no): \").lower()\n",
    "if again != 'yes':\n",
    "    print(\"👋 Thanks for using the calculator. Bye!\")\n",
    "    break\n",
    "'''"
   ]
  },
  {
   "cell_type": "markdown",
   "id": "5270d7b0",
   "metadata": {},
   "source": [
    "## Quick Revision Table 📋\n",
    "\n",
    "| Operator Type        | Key Operators        | Purpose                      |\n",
    "|:--------------------:|:---------------------:|:----------------------------:|\n",
    "| Arithmetic           | +, -, *, /, %, **, // | Mathematical operations      |\n",
    "| Assignment           | =, +=, -=, *=, /=     | Assign/update variable values|\n",
    "| Comparison           | ==, !=, >, <, >=, <=  | Compare values               |\n",
    "| Logical              | and, or, not          | Combine conditional logic    |\n",
    "| Bitwise              | &, ^, ~, <<, >>    | Bit-level operations         |\n",
    "| Membership           | in, not in            | Test presence in a sequence  |\n",
    "| Identity             | is, is not            | Compare object identity      |\n",
    "\n",
    "---"
   ]
  },
  {
   "cell_type": "markdown",
   "id": "d6ef09a5",
   "metadata": {},
   "source": [
    "# ⭐Conditionals 🧠\n",
    "\n",
    "In real life, we make decisions all the time:\n",
    "- If it rains, we take an umbrella 🌧️\n",
    "- If we're hungry, we eat 🍔\n",
    "\n",
    "Python does the same with **if-else** statements! 🐍\n",
    "\n",
    "Use conditionals to:\n",
    "- Make decisions\n",
    "- Branch code paths\n",
    "- Handle different cases automatically\n",
    "\n",
    "---\n"
   ]
  },
  {
   "cell_type": "markdown",
   "id": "afbd18ab",
   "metadata": {},
   "source": [
    "## 🔹 The `if` Statement\n",
    "\n",
    "### 💡 Syntax\n",
    "```python\n",
    "if condition:\n",
    "    # code block\n",
    "```"
   ]
  },
  {
   "cell_type": "markdown",
   "id": "f1e79a07",
   "metadata": {},
   "source": [
    "### 🧪 Example"
   ]
  },
  {
   "cell_type": "code",
   "execution_count": null,
   "id": "cf8f6420",
   "metadata": {},
   "outputs": [
    {
     "name": "stdout",
     "output_type": "stream",
     "text": [
      "You're an adult!\n"
     ]
    }
   ],
   "source": [
    "age = 20\n",
    "if age >= 18:\n",
    "    print(\"You're an adult!\")\n",
    "  "
   ]
  },
  {
   "cell_type": "markdown",
   "id": "e9c24e25",
   "metadata": {},
   "source": [
    "### 🎯 Quick Quiz Time\n",
    "1. What will this print?\n",
    "```python\n",
    "x = 5\n",
    "if x > 10:\n",
    "    print(\"Big\")\n",
    "```\n",
    "- A) Big\n",
    "- B) Nothing\n",
    "- C) Error\n",
    "\n",
    "<details><summary>Answer</summary>✅ B) Noting</details>"
   ]
  },
  {
   "cell_type": "markdown",
   "id": "0d038be2",
   "metadata": {},
   "source": [
    "---\n",
    "\n",
    "## 🔹 The `if-else` Statement\n",
    "\n",
    "### 💡 Syntax\n",
    "```python\n",
    "if condition:\n",
    "    # do this\n",
    "else:\n",
    "    # do that\n",
    "```"
   ]
  },
  {
   "cell_type": "markdown",
   "id": "3249aa3a",
   "metadata": {},
   "source": [
    "### 🧪 Example"
   ]
  },
  {
   "cell_type": "code",
   "execution_count": 4,
   "id": "36cce50b",
   "metadata": {},
   "outputs": [
    {
     "name": "stdout",
     "output_type": "stream",
     "text": [
      "No need for an umbrella\n"
     ]
    }
   ],
   "source": [
    "is_raining = False\n",
    "if is_raining:\n",
    "    print(\"Take an umbrella\")\n",
    "else:\n",
    "    print(\"No need for an umbrella\")"
   ]
  },
  {
   "cell_type": "markdown",
   "id": "eae3780a",
   "metadata": {},
   "source": [
    "### 🚫 Common Mistakes\n",
    "- Only one `else` per `if`\n",
    "- Else has no condition"
   ]
  },
  {
   "cell_type": "markdown",
   "id": "4448463d",
   "metadata": {},
   "source": [
    "### 🎯 Quick Quiz Time\n",
    "```python\n",
    "num = -1\n",
    "if num > 0:\n",
    "    print(\"Positive\")\n",
    "else:\n",
    "    print(\"Not Positive\")\n",
    "```\n",
    "What will it print?\n",
    "- A) Positive\n",
    "- B) Not Positive\n",
    "\n",
    "<details><summary>Answer</summary>✅ B) Not Positive</details>"
   ]
  },
  {
   "cell_type": "markdown",
   "id": "a00db375",
   "metadata": {},
   "source": [
    "---\n",
    "\n",
    "## 🔹 The `if-elif-else` Chain\n",
    "\n",
    "### 💡 Syntax\n",
    "```python\n",
    "if condition1:\n",
    "    # block 1\n",
    "elif condition2:\n",
    "    # block 2\n",
    "else:\n",
    "    # block 3\n",
    "```\n"
   ]
  },
  {
   "cell_type": "code",
   "execution_count": null,
   "id": "681af899",
   "metadata": {},
   "outputs": [],
   "source": [
    "score = 75\n",
    "if score >= 90:\n",
    "    print(\"A grade\")\n",
    "elif score >= 70:\n",
    "    print(\"B grade\")\n",
    "else:\n",
    "    print(\"Try harder\")"
   ]
  },
  {
   "cell_type": "markdown",
   "id": "6b09f069",
   "metadata": {},
   "source": [
    "### 🚫 Gotchas\n",
    "- Python stops at the first `True` condition\n",
    "\n",
    "---"
   ]
  },
  {
   "cell_type": "markdown",
   "id": "a30c4092",
   "metadata": {},
   "source": [
    "### 🎯 Quick Quiz Time\n",
    "What gets printed?\n",
    "```python\n",
    "num = 0\n",
    "if num > 0:\n",
    "    print(\"Positive\")\n",
    "elif num == 0:\n",
    "    print(\"Zero\")\n",
    "else:\n",
    "    print(\"Negative\")\n",
    "```\n",
    "- A) Positive\n",
    "- B) Zero\n",
    "- C) Negative\n",
    "\n",
    "<details><summary>Answer</summary>✅ B) Zero</details>"
   ]
  },
  {
   "cell_type": "markdown",
   "id": "43e4df87",
   "metadata": {},
   "source": [
    "## 🔹 Nested Conditionals\n",
    "\n",
    "### 💡 Syntax\n",
    "```python\n",
    "if condition1:\n",
    "    if condition2:\n",
    "        # do something\n",
    "```\n"
   ]
  },
  {
   "cell_type": "markdown",
   "id": "be82d7fd",
   "metadata": {},
   "source": [
    "### 🧪 Example"
   ]
  },
  {
   "cell_type": "code",
   "execution_count": 5,
   "id": "9b3152ff",
   "metadata": {},
   "outputs": [
    {
     "name": "stdout",
     "output_type": "stream",
     "text": [
      "Both positive\n"
     ]
    }
   ],
   "source": [
    "x = 10\n",
    "y = 5\n",
    "if x > 0:\n",
    "    if y > 0:\n",
    "        print(\"Both positive\")"
   ]
  },
  {
   "cell_type": "markdown",
   "id": "c0bc7731",
   "metadata": {},
   "source": [
    "### 🔥 Tip: Avoid deep nesting by using `and`\n",
    "```python\n",
    "if x > 0 and y > 0:\n",
    "    print(\"Both positive\")\n",
    "```"
   ]
  },
  {
   "cell_type": "markdown",
   "id": "b4386a81",
   "metadata": {},
   "source": [
    "## 🎯 Quick Quiz Time\n",
    "What will this output?\n",
    "```python\n",
    "x = -1\n",
    "y = 2\n",
    "if x > 0:\n",
    "    if y > 0:\n",
    "        print(\"Both positive\")\n",
    "    else:\n",
    "        print(\"Only y is positive\")\n",
    "else:\n",
    "    print(\"x is not positive\")\n",
    "```\n",
    "\n",
    "<details><summary>Answer</summary>✅ x is not positive</details>"
   ]
  },
  {
   "cell_type": "markdown",
   "id": "57662fe2",
   "metadata": {},
   "source": [
    "---\n",
    "\n",
    "## 🧠 Pro Tips\n",
    "- Use `and`, `or`, `not` to simplify complex conditions\n",
    "- Shorter: Use ternary operator\n",
    "```python\n",
    "result = \"Even\" if x % 2 == 0 else \"Odd\"\n",
    "```\n",
    "- Be careful with truthy/falsy:\n",
    "```python\n",
    "if \"\":  # Falsy\n",
    "    print(\"This won’t run\")\n",
    "```\n",
    "\n",
    "---\n"
   ]
  },
  {
   "cell_type": "code",
   "execution_count": 4,
   "id": "106fe024",
   "metadata": {},
   "outputs": [
    {
     "name": "stdout",
     "output_type": "stream",
     "text": [
      "Odd\n"
     ]
    }
   ],
   "source": [
    "result = \"Even\" if x % 2 == 0 else \"Odd\"\n",
    "print(result)\n",
    "\n",
    "if \"\":  # Falsy\n",
    "    print(\"This won’t run\")"
   ]
  },
  {
   "cell_type": "markdown",
   "id": "1c71e05e",
   "metadata": {},
   "source": [
    "## 🎤 Top Interview Questions\n",
    "**Q1.** What's the difference between `if-elif` and multiple `if` statements?  \n",
    "   - A: if-elif checks conditions in sequence and stops at the first True, while multiple if statements check all conditions independently.\n",
    "\n",
    "**Q2.** How would you check if a number is between 10 and 20?  \n",
    "   - A: Use if 10 <= number <= 20: to check if a number is between 10 and 20.\n",
    "\n",
    "**Q3.** What does `if not x:` mean?  \n",
    "   - A: if not x: checks if x is falsy (like 0, None, '', False).\n",
    "\n",
    "**Q4.** How do you handle multiple conditions elegantly?  \n",
    "   - A: Use logical operators (and, or, not) or nest conditions to handle multiple conditions cleanly.\n",
    "\n",
    "**Q5.** Can `else` exist without `if`?  \n",
    "   - A: No, else cannot exist without a preceding if. \n",
    "\n",
    "\n",
    "\n",
    "---"
   ]
  },
  {
   "cell_type": "markdown",
   "id": "dd2e85ed",
   "metadata": {},
   "source": [
    "## 💻 Real World Challenge: Grading System 🏫\n",
    "\n",
    "### 🎯 Problem:\n",
    "Create a program that:\n",
    "- Asks user to enter marks (0-100)\n",
    "- Prints grade:\n",
    "  - 90+ -> A\n",
    "  - 80-89 -> B\n",
    "  - 70-79 -> C\n",
    "  - 60-69 -> D\n",
    "  - Below 60 -> F\n",
    "\n",
    "### ✅ Expected Output:\n",
    "```\n",
    "Enter your marks: 85\n",
    "Your grade is: B"
   ]
  },
  {
   "cell_type": "code",
   "execution_count": 5,
   "id": "89a530e0",
   "metadata": {},
   "outputs": [],
   "source": [
    "# Bruh! I'm too tired now. I will make it later but if you fresh now, you can give it a try."
   ]
  },
  {
   "cell_type": "markdown",
   "id": "1d32ad35",
   "metadata": {},
   "source": [
    "---\n",
    "\n",
    "# ⭐Loops🔁\n",
    "\n",
    "### Why do we need loops? \n",
    "Imagine you're printing numbers from 1 to 100. Writing 100 lines of code? No way! Loops help us **repeat tasks easily**.\n",
    "\n",
    "Think of it like this:\n",
    "> “Brushing your teeth every day = a loop in your life 🪥”\n",
    "\n",
    "### Two main loop types in Python:\n",
    "- **`for` loop**: Repeat a block of code a known number of times.\n",
    "- **`while` loop**: Repeat a block *while* a condition is `True`.\n",
    "\n",
    "### When to use which?\n",
    "| Situation | Loop Type |\n",
    "|----------|-----------|\n",
    "| You know how many times to repeat | `for` loop |\n",
    "| Repeat until a condition changes | `while` loop |\n",
    "\n",
    "---"
   ]
  },
  {
   "cell_type": "markdown",
   "id": "99d9dbb9",
   "metadata": {},
   "source": [
    "\n",
    "## ♦️While Loops Explained\n",
    "\n",
    "### Syntax & Flow\n",
    "```python\n",
    "while condition:\n",
    "    # code block\n",
    "```\n",
    "\n",
    "### Example 1: Simple counter"
   ]
  },
  {
   "cell_type": "code",
   "execution_count": null,
   "id": "f405ee76",
   "metadata": {},
   "outputs": [],
   "source": [
    "count = 1\n",
    "while count <= 5:\n",
    "    print(\"Count is:\", count)\n",
    "    count += 1"
   ]
  },
  {
   "cell_type": "markdown",
   "id": "fd4fbf51",
   "metadata": {},
   "source": [
    "### Example 2: Input until correct"
   ]
  },
  {
   "cell_type": "code",
   "execution_count": null,
   "id": "6d9c7c39",
   "metadata": {},
   "outputs": [],
   "source": [
    "password = \"python123\"\n",
    "guess = \"\"\n",
    "while guess != password:\n",
    "    guess = input(\"Enter password: \")\n",
    "print(\"Access granted!\")"
   ]
  },
  {
   "cell_type": "markdown",
   "id": "79300d0b",
   "metadata": {},
   "source": [
    "### ⚠️ Common Pitfall: Infinite Loop\n",
    "```python\n",
    "# ❌ This loop never ends\n",
    "while True:\n",
    "    print(\"Oops! No break condition\")\n",
    "```"
   ]
  },
  {
   "cell_type": "markdown",
   "id": "9ddcb60f",
   "metadata": {},
   "source": [
    "### Using `break` and `continue`\n",
    "   - `break` exits the loop immediately, while `continue` skips the current iteration and moves to the next one. ✅\n"
   ]
  },
  {
   "cell_type": "code",
   "execution_count": null,
   "id": "4a7e66b9",
   "metadata": {},
   "outputs": [],
   "source": [
    "# break example\n",
    "while True:\n",
    "    word = input(\"Type 'exit' to quit: \")\n",
    "    if word == 'exit':\n",
    "        break\n",
    "\n",
    "# continue example\n",
    "num = 0\n",
    "while num < 5:\n",
    "    num += 1\n",
    "    if num == 3:\n",
    "        continue\n",
    "    print(num)"
   ]
  },
  {
   "cell_type": "markdown",
   "id": "889b52c7",
   "metadata": {},
   "source": [
    "---\n",
    "\n",
    "## ♦️For Loops Explained\n",
    "\n",
    "### Syntax & Flow\n",
    "```python\n",
    "for item in iterable:\n",
    "    # code block\n",
    "```\n"
   ]
  },
  {
   "cell_type": "markdown",
   "id": "95b688db",
   "metadata": {},
   "source": [
    "### Looping over `range()`"
   ]
  },
  {
   "cell_type": "code",
   "execution_count": 1,
   "id": "209510eb",
   "metadata": {},
   "outputs": [
    {
     "name": "stdout",
     "output_type": "stream",
     "text": [
      "Number: 0\n",
      "Number: 1\n",
      "Number: 2\n",
      "Number: 3\n",
      "Number: 4\n"
     ]
    }
   ],
   "source": [
    "for i in range(5):\n",
    "    print(\"Number:\", i)"
   ]
  },
  {
   "cell_type": "markdown",
   "id": "b8ed90a1",
   "metadata": {},
   "source": [
    "### Looping over lists, tuples, strings"
   ]
  },
  {
   "cell_type": "code",
   "execution_count": null,
   "id": "8634fc13",
   "metadata": {},
   "outputs": [
    {
     "name": "stdout",
     "output_type": "stream",
     "text": [
      "apple\n",
      "banana\n",
      "cherry\n",
      "h\n",
      "e\n",
      "l\n",
      "l\n",
      "o\n"
     ]
    }
   ],
   "source": [
    "num = [\"apple\", \"banana\", \"cherry\"]\n",
    "for fruit in num:\n",
    "    print(fruit)\n",
    "\n",
    "for char in \"hello\":\n",
    "    print(char)"
   ]
  },
  {
   "cell_type": "markdown",
   "id": "c5239be9",
   "metadata": {},
   "source": [
    "### Looping over dictionaries"
   ]
  },
  {
   "cell_type": "code",
   "execution_count": null,
   "id": "ff05bdbf",
   "metadata": {},
   "outputs": [],
   "source": [
    "person = {\"name\": \"Ahmad\", \"age\": 20}\n",
    "for key, value in person.items():\n",
    "    print(key, \":\", value)"
   ]
  },
  {
   "cell_type": "markdown",
   "id": "dfffc80f",
   "metadata": {},
   "source": [
    "## ♦️Nested Loops"
   ]
  },
  {
   "cell_type": "code",
   "execution_count": 2,
   "id": "f32dd3bc",
   "metadata": {},
   "outputs": [
    {
     "name": "stdout",
     "output_type": "stream",
     "text": [
      "1 x 1 = 1\n",
      "1 x 2 = 2\n",
      "1 x 3 = 3\n",
      "2 x 1 = 2\n",
      "2 x 2 = 4\n",
      "2 x 3 = 6\n",
      "3 x 1 = 3\n",
      "3 x 2 = 6\n",
      "3 x 3 = 9\n"
     ]
    }
   ],
   "source": [
    "for i in range(1, 4):\n",
    "    for j in range(1, 4):\n",
    "        print(i, \"x\", j, \"=\", i*j)"
   ]
  },
  {
   "cell_type": "markdown",
   "id": "f05b2ae4",
   "metadata": {},
   "source": [
    "### `break`, `continue`, `else`"
   ]
  },
  {
   "cell_type": "code",
   "execution_count": 3,
   "id": "e4b04c10",
   "metadata": {},
   "outputs": [
    {
     "name": "stdout",
     "output_type": "stream",
     "text": [
      "0\n",
      "1\n",
      "2\n",
      "Loop finished!\n"
     ]
    }
   ],
   "source": [
    "# else clause example\n",
    "for n in range(3):\n",
    "    print(n)\n",
    "else:\n",
    "    print(\"Loop finished!\")"
   ]
  },
  {
   "cell_type": "markdown",
   "id": "ecd1311a",
   "metadata": {},
   "source": [
    "---\n",
    "\n",
    "## 🧠 Pro Tips Section\n",
    "- Use `enumerate()` to loop with counters:\n",
    "```python\n",
    "names = [\"Ali\", \"Sara\"]\n",
    "for i, name in enumerate(names):\n",
    "    print(i, name)\n",
    "```\n",
    "\n",
    "- Avoid infinite loops by double-checking your condition.\n",
    "- Use `range(start, stop, step)` for more control.\n",
    "- Looping through big lists? Consider breaking early with `break` to save time.\n",
    "\n",
    "---"
   ]
  },
  {
   "cell_type": "markdown",
   "id": "1a2588a1",
   "metadata": {},
   "source": [
    "## 🎯 Quick Quiz Time\n",
    "\n",
    "### ✅ While Loop Quiz\n",
    "1. What does this print?\n",
    "```python\n",
    "x = 3\n",
    "while x > 0:\n",
    "    print(x)\n",
    "    x -= 1\n",
    "```\n",
    "<details><summary>Answer</summary>3\\n2\\n1</details>\n",
    "\n",
    "2. True or False: A `while` loop always runs at least once.\n",
    "<details><summary>Answer</summary>False</details>\n",
    "\n",
    "### ✅ For Loop Quiz\n",
    "3. What will this output?\n",
    "```python\n",
    "for i in range(2, 6):\n",
    "    print(i)\n",
    "```\n",
    "<details><summary>Answer</summary>2\\n3\\n4\\n5</details>\n",
    "\n",
    "4. Fill in the blank: `for i in _____(5):`\n",
    "<details><summary>Answer</summary>range</details>\n",
    "\n",
    "---"
   ]
  },
  {
   "cell_type": "markdown",
   "id": "31181968",
   "metadata": {},
   "source": [
    "## 🎤 Top Interview Questions\n",
    "**Q1.** What's the difference between `while` and `for` loops?  \n",
    "   - A: `while` loops run based on a condition, whereas `for` loops iterate over a sequence like a list or range.\n",
    "\n",
    "**Q2.** How do you avoid infinite loops?  \n",
    "   - A: Ensure the loop condition eventually becomes False or include a break statement.\n",
    "\n",
    "**Q3.** Can a `for` loop have an `else` clause? How does it work?  \n",
    "   - A: Yes, a for loop can have an else that runs only if the loop wasn't exited with break.\n",
    "\n",
    "**Q4.** Write a loop that prints even numbers between 1 and 10.  \n",
    "   - A: `for i in range(2, 11, 2):` print(i) prints even numbers from 1 to 10.\n",
    "   \n",
    "**Q5.** How do you iterate both key and value in a dictionary?  \n",
    "   - A: Use `for key, value in my_dict.items():` to iterate over both key and value.\n",
    "\n",
    "\n",
    "---"
   ]
  },
  {
   "cell_type": "markdown",
   "id": "f59a1ec3",
   "metadata": {},
   "source": [
    "## 💻 Real World Challenge: Prime Number Finder\n",
    "\n",
    "### Problem Statement:\n",
    "Write a program that finds all prime numbers between 1 and 50.\n",
    "\n",
    "Happy coding! 🤖 Keep experimenting with loops in fun ways!\n",
    "\n",
    "---\n",
    "\n"
   ]
  },
  {
   "cell_type": "code",
   "execution_count": 3,
   "id": "a967a9ce",
   "metadata": {},
   "outputs": [
    {
     "name": "stdout",
     "output_type": "stream",
     "text": [
      "🔎 Prime numbers between 0 and 50 are:\n",
      "2 3 5 7 11 13 17 19 23 29 31 37 41 43 47 "
     ]
    }
   ],
   "source": [
    "print(\"🔎 Prime numbers between 0 and 50 are:\")\n",
    "\n",
    "for num in range(2, 51):  # Start from 2 (smallest prime number) to 50\n",
    "    is_prime = True       # Assume the number is prime\n",
    "\n",
    "    for i in range(2, int(num ** 0.5) + 1):  # Check from 2 to square root of num\n",
    "        if num % i == 0:   # If divisible, not prime\n",
    "            is_prime = False\n",
    "            break          # No need to check further\n",
    "\n",
    "    if is_prime:\n",
    "        print(num, end=\" \")"
   ]
  },
  {
   "cell_type": "markdown",
   "id": "583d1b62",
   "metadata": {},
   "source": [
    "   - Below is the explaination of this line of Code(`for i in range(2, int(num ** 0.5) + 1):`)\n",
    "\n",
    "Start     \n",
    "  │   \n",
    "  ├──► Take a number → `num = 36 `  \n",
    "  │   \n",
    "  ├──► Find square root → `num ** 0.5 = 6.0 `  \n",
    "  │   \n",
    "  ├──► Convert to int → `int(6.0) = 6`   \n",
    "  │   \n",
    "  ├──► Add +1 to save last num excluding in range function → `6 + 1 = 7`   \n",
    "  │   \n",
    "  ├──► Create a range → range(2, 7)  \n",
    "  │                      → `[2, 3, 4, 5, 6] `  \n",
    "  │   \n",
    "  └──► Check: Is num divisible by any of these?  \n",
    "            ↳ if yes → Not Prime ❌   \n",
    "            ↳ if no  → Prime ✅   "
   ]
  },
  {
   "cell_type": "code",
   "execution_count": 2,
   "id": "fbfdf477",
   "metadata": {},
   "outputs": [
    {
     "name": "stdout",
     "output_type": "stream",
     "text": [
      "❌ 20 is NOT a Prime Number.\n"
     ]
    }
   ],
   "source": [
    "# 📥 Ask the user for a number\n",
    "num = int(input(\"🔢 Enter a number to check if it's prime: \"))\n",
    "\n",
    "# 🏁 A flag to track if it's prime\n",
    "is_prime = True\n",
    "\n",
    "# ❗ Edge case: numbers less than 2 are not prime\n",
    "if num < 2:\n",
    "    is_prime = False\n",
    "else:\n",
    "    # 🔁 Check divisibility from 2 to num - 1\n",
    "    \n",
    "    for i in range(2, int(num ** 0.5) + 1):\n",
    "        if num % i == 0:\n",
    "            is_prime = False\n",
    "            break  # ❌ If divisible, it's not prime — break early\n",
    "\n",
    "# ✅ Show result\n",
    "if is_prime:\n",
    "    print(f\"✅ {num} is a Prime Number!\")\n",
    "else:\n",
    "    print(f\"❌ {num} is NOT a Prime Number.\")\n"
   ]
  },
  {
   "cell_type": "markdown",
   "id": "aa748373",
   "metadata": {},
   "source": [
    "#  ⭐Functions🧪\n",
    "\n",
    "\n",
    "What are Functions?\n",
    "    \n",
    "    Functions are reusable blocks of code that perform a specific task. Instead of writing the same code again and again, we write it once in a function and call it whenever needed.\n",
    "\n",
    "Why Use Functions?\n",
    "- Avoid repetition\n",
    "- Make code organized and readable\n",
    "- Easier debugging and testing\n",
    "\n",
    "🎯 Real-World Analogy:\n",
    "\n",
    "Think of a coffee machine ☕️. You press a button (call a function), and it gives you coffee. You don't need to know the internal process — just how to use it.\n",
    "\"\"\""
   ]
  },
  {
   "cell_type": "markdown",
   "id": "f9257990",
   "metadata": {},
   "source": [
    "## 👨‍💻 Defining and Calling Functions\n",
    "\n",
    "   - Basic function definition\n",
    "```python\n",
    "def greet():\n",
    "    print(\"Hello, welcome to Python functions!\")\n",
    "```\n",
    "   - Calling the function\n",
    "\n",
    "```python \n",
    "greet()\n",
    "```\n",
    "\n",
    "### Function with parameters"
   ]
  },
  {
   "cell_type": "code",
   "execution_count": null,
   "id": "849974df",
   "metadata": {},
   "outputs": [],
   "source": [
    "def add(a, b):\n",
    "    return a + b\n",
    "\n",
    "print(\"Sum:\", add(3, 5))"
   ]
  },
  {
   "cell_type": "markdown",
   "id": "3e736953",
   "metadata": {},
   "source": [
    "## 🧩 Function Parameters\n",
    "\n",
    "An argument is the value you pass to a function when you call it, so the function can use that value in its operations. 💡\n"
   ]
  },
  {
   "cell_type": "code",
   "execution_count": null,
   "id": "3e67a48d",
   "metadata": {},
   "outputs": [],
   "source": [
    "def greet(name):   # 'name' is the parameter\n",
    "    print(\"Hello\", name)\n",
    "\n",
    "greet(\"Ahmad\")     # \"Ahmad\" is the argument"
   ]
  },
  {
   "cell_type": "markdown",
   "id": "b4a71957",
   "metadata": {},
   "source": [
    "**👉 So in simple terms:**\n",
    "\n",
    "   - Parameter = the name in the function definition.\n",
    "\n",
    "   - Argument = the actual value you pass in when calling the function."
   ]
  },
  {
   "cell_type": "markdown",
   "id": "508f0f4b",
   "metadata": {},
   "source": [
    "### 1. Positional Arguments\n",
    " Arguments that must be passed in the correct order, matching the parameters in the function definition."
   ]
  },
  {
   "cell_type": "code",
   "execution_count": null,
   "id": "7baa5540",
   "metadata": {},
   "outputs": [],
   "source": [
    "def describe_pet(animal, name):\n",
    "    print(f\"I have a {animal} named {name}.\")\n",
    "\n",
    "describe_pet(\"dog\", \"Buddy\")"
   ]
  },
  {
   "cell_type": "markdown",
   "id": "ce786a68",
   "metadata": {},
   "source": [
    "### 2. Default Arguments\n",
    " Arguments that have a predefined value in case the caller doesn't provide them."
   ]
  },
  {
   "cell_type": "code",
   "execution_count": null,
   "id": "ccba9b42",
   "metadata": {},
   "outputs": [],
   "source": [
    "def greet_user(name=\"Guest\"):\n",
    "    print(f\"Hello, {name}!\")\n",
    "\n",
    "greet_user()\n",
    "greet_user(\"Ahmad\")"
   ]
  },
  {
   "cell_type": "markdown",
   "id": "79e12b31",
   "metadata": {},
   "source": [
    "### 3. Keyword Arguments, **kwargs\n",
    "\n",
    "You can also send arguments with the key = value syntax.\n",
    "This way the order of the arguments does not matter."
   ]
  },
  {
   "cell_type": "code",
   "execution_count": 5,
   "id": "3a241bb4",
   "metadata": {},
   "outputs": [
    {
     "name": "stdout",
     "output_type": "stream",
     "text": [
      "name: Ahmad\n",
      "age: 20\n",
      "city: Vehari\n"
     ]
    }
   ],
   "source": [
    "def show_profile(**info):\n",
    "    for key, value in info.items():\n",
    "        print(f\"{key}: {value}\")\n",
    "\n",
    "show_profile(name=\"Ahmad\", age=20, city=\"Vehari\")"
   ]
  },
  {
   "cell_type": "markdown",
   "id": "539d98b8",
   "metadata": {},
   "source": [
    "### 4. Arbitrary Arguments, *args\n",
    "If you do not know how many arguments that will be passed into your function, add a `*` before the parameter name in the function definition.\n",
    "\n",
    "This way the function will receive a tuple of arguments, and can access the items accordingly:"
   ]
  },
  {
   "cell_type": "code",
   "execution_count": 6,
   "id": "32021631",
   "metadata": {},
   "outputs": [
    {
     "name": "stdout",
     "output_type": "stream",
     "text": [
      "Skills:\n",
      "- Python\n",
      "- AI\n",
      "- Machine Learning\n"
     ]
    }
   ],
   "source": [
    "def show_skills(*skills):\n",
    "    print(\"Skills:\")\n",
    "    for skill in skills:\n",
    "        print(\"-\", skill)\n",
    "\n",
    "show_skills(\"Python\", \"AI\", \"Machine Learning\")"
   ]
  },
  {
   "cell_type": "markdown",
   "id": "22f60bed",
   "metadata": {},
   "source": [
    "### Positional-Only Arguments\n",
    "\n",
    "You can specify that a function can have ONLY positional arguments, or ONLY keyword arguments.\n",
    "\n",
    "To specify that a function can have only positional arguments, add `, /` after the arguments:\n",
    "```python\n",
    "def my_function(x, /):\n",
    "  print(x)\n",
    "\n",
    "my_function(3)\n",
    "```\n",
    "Without the `, /` you are actually allowed to use keyword arguments even if the function expects positional arguments:\n",
    "\n",
    "```python\n",
    "def my_function(x):\n",
    "  print(x)\n",
    "\n",
    "my_function(x = 3)\n",
    "```\n",
    "But when adding the `, /` you will get an error if you try to send a keyword argument:\n",
    "```python\n",
    "def my_function(x, /):\n",
    "  print(x)\n",
    "\n",
    "my_function(x = 3)\n",
    "```\n",
    "\n",
    "---"
   ]
  },
  {
   "cell_type": "markdown",
   "id": "218d2481",
   "metadata": {},
   "source": [
    "### Keyword-Only Arguments\n",
    "To specify that a function can have only keyword arguments, add `*,` before the arguments:\n",
    "\n",
    "```python\n",
    "def my_function(*, x):\n",
    "  print(x)\n",
    "\n",
    "my_function(x = 3)\n",
    "```\n",
    "Without the `*,` you are allowed to use positionale arguments even if the function expects keyword arguments:\n",
    "\n",
    "```python\n",
    "def my_function(x):\n",
    "  print(x)\n",
    "\n",
    "my_function(3)\n",
    "```\n",
    "But with the `*,` you will get an error if you try to send a positional argument:\n",
    "\n",
    "```python\n",
    "def my_function(*, x):\n",
    "  print(x)\n",
    "\n",
    "my_function(3)\n",
    "```\n",
    "\n",
    "---"
   ]
  },
  {
   "cell_type": "markdown",
   "id": "406de792",
   "metadata": {},
   "source": [
    "## 🔁 Return Statement\n",
    "   - `return` statement only send the result back to the caller not print the output to console"
   ]
  },
  {
   "cell_type": "code",
   "execution_count": 5,
   "id": "dcd9996c",
   "metadata": {},
   "outputs": [
    {
     "name": "stdout",
     "output_type": "stream",
     "text": [
      "Hello, Ahmad!\n"
     ]
    }
   ],
   "source": [
    "def get_greeting(name):\n",
    "    return f\"Hello, {name}!\"\n",
    "\n",
    "print(get_greeting(\"Ahmad\"))"
   ]
  },
  {
   "cell_type": "markdown",
   "id": "0d2f1036",
   "metadata": {},
   "source": [
    "**Pro Tip: return Vs print**\n",
    "\n",
    "The better function is:\n",
    "```python\n",
    "def add(a, b):\n",
    "    return a + b\n",
    "```\n",
    "`✅ Why?`\n",
    "It returns the result, so you can reuse it, store it, or use it in other calculations.\n",
    "\n",
    "It follows best practice for functions: functions should compute and return values, not handle printing/output.\n",
    "\n",
    "`❌ The second one:`\n",
    "```python\n",
    "def add(a, b):\n",
    "    print(a + b)\n",
    "```\n",
    "Only prints the result — you can't reuse the value in other code.\n",
    "\n",
    "Less flexible, mostly for quick display.\n",
    "\n",
    "`Summary:` Use return when building reusable and clean code.\n",
    "\n",
    "---"
   ]
  },
  {
   "cell_type": "markdown",
   "id": "ddc57789",
   "metadata": {},
   "source": [
    "### pass Statement\n",
    "If you for some reason have a function definition with no content, put in the `pass` statement to avoid getting an error."
   ]
  },
  {
   "cell_type": "code",
   "execution_count": null,
   "id": "eab0ebb3",
   "metadata": {},
   "outputs": [],
   "source": [
    "def myfunction():\n",
    "  pass"
   ]
  },
  {
   "cell_type": "markdown",
   "id": "f8ab1edf",
   "metadata": {},
   "source": [
    "### Multiple return values"
   ]
  },
  {
   "cell_type": "code",
   "execution_count": 7,
   "id": "796f362a",
   "metadata": {},
   "outputs": [
    {
     "name": "stdout",
     "output_type": "stream",
     "text": [
      "Sum: 7\n",
      "Product: 12\n"
     ]
    }
   ],
   "source": [
    "def calc_stats(a, b):\n",
    "    return a + b, a * b\n",
    "\n",
    "sum_, product = calc_stats(3, 4)\n",
    "print(\"Sum:\", sum_)\n",
    "print(\"Product:\", product)"
   ]
  },
  {
   "cell_type": "markdown",
   "id": "6d935dbb",
   "metadata": {},
   "source": [
    "### Function with no return"
   ]
  },
  {
   "cell_type": "code",
   "execution_count": 7,
   "id": "f5230a5c",
   "metadata": {},
   "outputs": [
    {
     "name": "stdout",
     "output_type": "stream",
     "text": [
      "Python is awesome!\n",
      "Returned: None\n"
     ]
    }
   ],
   "source": [
    "def shout():\n",
    "    print(\"Python is awesome!\")\n",
    "\n",
    "result = shout()\n",
    "print(\"Returned:\", result)  # This will be None"
   ]
  },
  {
   "cell_type": "markdown",
   "id": "dfb38524",
   "metadata": {},
   "source": [
    "## 🧠 Global Vs Local\n",
    "A global variable is accessible throughout the entire program, while a local variable is only accessible within the function or block where it's defined."
   ]
  },
  {
   "cell_type": "code",
   "execution_count": null,
   "id": "247e1dc5",
   "metadata": {},
   "outputs": [],
   "source": [
    "\n",
    "x = 10 # global\n",
    "\n",
    "def local_scope():\n",
    "    x = 5 # local\n",
    "    print(\"Inside function:\", x)\n",
    "\n",
    "local_scope()\n",
    "print(\"Outside function:\", x)\n",
    "\n",
    "# Avoiding scope bugs\n",
    "def safe_increment(val):\n",
    "    return val + 1"
   ]
  },
  {
   "cell_type": "markdown",
   "id": "4251ed20",
   "metadata": {},
   "source": [
    "### ✅ Best practice: return values instead of changing globals"
   ]
  },
  {
   "cell_type": "markdown",
   "id": "c70bfc5b",
   "metadata": {},
   "source": [
    "## 🧠 Functions as First-Class Citizens\n",
    "   - In Python, functions are treated like any other variable — they can be assigned, stored in data structures, or passed around."
   ]
  },
  {
   "cell_type": "code",
   "execution_count": 8,
   "id": "7be805fc",
   "metadata": {},
   "outputs": [
    {
     "name": "stdout",
     "output_type": "stream",
     "text": [
      "36\n"
     ]
    }
   ],
   "source": [
    "def square(x):\n",
    "    return x * x\n",
    "\n",
    "f = square  # Assign function to variable\n",
    "print(f(6))"
   ]
  },
  {
   "cell_type": "markdown",
   "id": "2f4aa0b3",
   "metadata": {},
   "source": [
    "### Passing function as argument\n",
    "   -  A function can be passed as an argument to another function, allowing dynamic behavior and reusable logic."
   ]
  },
  {
   "cell_type": "code",
   "execution_count": 13,
   "id": "83243270",
   "metadata": {},
   "outputs": [
    {
     "name": "stdout",
     "output_type": "stream",
     "text": [
      "25\n"
     ]
    }
   ],
   "source": [
    "def operate(func, x):\n",
    "    return func(x)\n",
    "\n",
    "print(operate(square, 5))"
   ]
  },
  {
   "cell_type": "markdown",
   "id": "d31847fb",
   "metadata": {},
   "source": [
    "### Nested functions\n",
    "A function defined inside another function, which can access the variables of the enclosing (outer) function."
   ]
  },
  {
   "cell_type": "code",
   "execution_count": 12,
   "id": "af0200f4",
   "metadata": {},
   "outputs": [
    {
     "name": "stdout",
     "output_type": "stream",
     "text": [
      "I'm inside!\n"
     ]
    }
   ],
   "source": [
    "def outer():\n",
    "    def inner():\n",
    "        return \"I'm inside!\"\n",
    "    return inner()\n",
    "\n",
    "print(outer())"
   ]
  },
  {
   "cell_type": "markdown",
   "id": "563a8a0a",
   "metadata": {},
   "source": [
    "## ⚡ Lambda Functions\n",
    "A small, anonymous function defined with the `lambda` keyword, typically used for short, one-line operations."
   ]
  },
  {
   "cell_type": "code",
   "execution_count": 14,
   "id": "8e9ebe48",
   "metadata": {},
   "outputs": [
    {
     "name": "stdout",
     "output_type": "stream",
     "text": [
      "7\n",
      "['Ali', 'Zara', 'John']\n",
      "Even numbers: [2, 4, 6]\n"
     ]
    }
   ],
   "source": [
    "# Basic syntax\n",
    "add = lambda a, b: a + b\n",
    "print(add(3, 4))\n",
    "\n",
    "# Use in sorting\n",
    "names = [\"Zara\", \"Ali\", \"John\"]\n",
    "names.sort(key=lambda name: len(name))\n",
    "print(names)\n",
    "\n",
    "# Filtering even numbers\n",
    "nums = [1, 2, 3, 4, 5, 6]\n",
    "evens = list(filter(lambda x: x % 2 == 0, nums))\n",
    "print(\"Even numbers:\", evens)"
   ]
  },
  {
   "cell_type": "markdown",
   "id": "1a742d9d",
   "metadata": {},
   "source": [
    "## 🔀 Built-in vs User-defined Functions\n",
    "Built-in functions are pre-defined by Python (like `print()` or `len()`), while user-defined functions are created by the programmer using the `def` keyword.\n"
   ]
  },
  {
   "cell_type": "code",
   "execution_count": 15,
   "id": "f8c88e08",
   "metadata": {},
   "outputs": [
    {
     "name": "stdout",
     "output_type": "stream",
     "text": [
      "6\n",
      "6\n"
     ]
    }
   ],
   "source": [
    "# Built-in\n",
    "print(len(\"Python\"))\n",
    "\n",
    "# User-defined\n",
    "def length_of_string(s):\n",
    "    count = 0\n",
    "    for _ in s:\n",
    "        count += 1\n",
    "    return count\n",
    "\n",
    "print(length_of_string(\"Python\"))\n"
   ]
  },
  {
   "cell_type": "markdown",
   "id": "f83e0dd9",
   "metadata": {},
   "source": [
    "## 🧠 Pro Tips for Functions\n",
    "- Keep your functions small and focused — one job at a time!\n",
    "- Use meaningful names for functions and parameters.\n",
    "- Avoid using global variables inside functions unless necessary.\n",
    "- Use default values wisely to make your functions flexible.\n",
    "\"\"\"\n",
    "\n",
    "---"
   ]
  },
  {
   "cell_type": "markdown",
   "id": "9e002bb8",
   "metadata": {},
   "source": [
    "## ❓ Quick Quiz Time\n",
    "**Q1.** What keyword is used to define a function? \n",
    "\n",
    "   - a) func\n",
    "   - b) def \n",
    "   - c) function \n",
    "   - d) define  \n",
    "   \n",
    "   <details><summary>Answer</summary>b) def</details>\n",
    "\n",
    "**Q2.** `True or False:` A function must always return a value.  \n",
    "    <details><summary>Answer</summary>False</details>\n",
    "\n",
    "**Q3.** What will be the output?\n",
    "```python\n",
    "   def foo(x):\n",
    "       return x * 2\n",
    "   print(foo(3))\n",
    "```\n",
    "   <details><summary>Answer</summary>6</details>\n",
    "\n",
    "**Q4.** What is the type of `None` in Python?\n",
    "    <details><summary>Answer</summary>NoneType</details>\n",
    "\n",
    "**Q5.** Which of the following is a lambda function?  \n",
    "```python\n",
    "   a) def x(): pass  \n",
    "   b) lambda x: x + 2  \n",
    "   c) x = function() \n",
    "```\n",
    "   <details><summary>Answer</summary>b) lambda x: x + 2</details>\n",
    "\n",
    "---"
   ]
  },
  {
   "cell_type": "markdown",
   "id": "b74ae1a5",
   "metadata": {},
   "source": [
    "## 🎤 Top Interview Questions on Functions\n",
    "**Q1.** What’s the difference between `return` and `print()` in a function?  \n",
    "   <details><summary>Answer</summary>return sends a result back to the caller; print displays it on the screen.</details>\n",
    "\n",
    "**Q2.** What are `*args` and `**kwargs` used for?  \n",
    "   <details><summary>Answer</summary>`*args` allows passing multiple positional arguments, while `**kwargs` allows passing multiple keyword arguments to a function.</details>\n",
    "\n",
    "**Q3.** How does Python handle variable scope in functions?  \n",
    "   <details><summary>Answer</summary>Variables defined inside a function are local unless declared global.</details>\n",
    "\n",
    "**Q4.** Can a function return multiple values?  \n",
    "   <details><summary>Answer</summary>Yes, using a tuple.</details>\n",
    "\n",
    "**Q5.** What’s the purpose of lambda functions?  \n",
    "   <details><summary>Answer</summary>To create small anonymous functions, often for short tasks.</details>\n",
    "\n"
   ]
  },
  {
   "cell_type": "markdown",
   "id": "660bbb90",
   "metadata": {},
   "source": [
    "## 💻 Real World Challenge: \n",
    "    Build a Student Grade System"
   ]
  },
  {
   "cell_type": "code",
   "execution_count": 3,
   "id": "8c16b901",
   "metadata": {},
   "outputs": [
    {
     "name": "stdout",
     "output_type": "stream",
     "text": [
      "\n",
      "--- Student Report ---\n",
      "Name: Ahmad\n",
      "Marks: [50.0, 30.0, 20.0]\n",
      "Average: 33.33\n",
      "Grade: F\n",
      "Status: Failed\n"
     ]
    }
   ],
   "source": [
    "# Accept input\n",
    "def get_student_data():\n",
    "    name = input(\"Enter student name: \")\n",
    "    marks = []\n",
    "    for i in range(1, 4):\n",
    "        mark = float(input(f\"Enter marks for subject {i}: \"))\n",
    "        marks.append(mark)\n",
    "    return name, marks\n",
    "\n",
    "# Calculate average\n",
    "def calculate_average(marks):\n",
    "    return sum(marks) / len(marks)\n",
    "\n",
    "# Assign grade\n",
    "def assign_grade(avg):\n",
    "    if avg >= 80:\n",
    "        return \"A\"\n",
    "    elif avg >= 60:\n",
    "        return \"B\"\n",
    "    elif avg >= 40:\n",
    "        return \"C\"\n",
    "    elif avg < 40:\n",
    "        return \"F\"\n",
    "\n",
    "# Check if all subjects are passed\n",
    "def all_passed(marks):\n",
    "    return all(mark >= 33 for mark in marks)\n",
    "\n",
    "# Final report\n",
    "def generate_report(name, marks):\n",
    "    avg = calculate_average(marks)\n",
    "    grade = assign_grade(avg)\n",
    "    passed = all_passed(marks)\n",
    "    print(\"\\n--- Student Report ---\")\n",
    "    print(f\"Name: {name}\")\n",
    "    print(f\"Marks: {marks}\")\n",
    "    print(f\"Average: {avg:.2f}\")\n",
    "    print(f\"Grade: {grade}\")\n",
    "    print(\"Status:\", \"Passed\" if passed else \"Failed\")\n",
    "\n",
    "# Uncomment the below lines & Run the program \n",
    "name, marks = get_student_data()\n",
    "generate_report(name, marks)"
   ]
  },
  {
   "cell_type": "markdown",
   "id": "b6058bde",
   "metadata": {},
   "source": [
    "---\n",
    "\n",
    "# ⭐Modules 📘\n",
    "\n",
    "A **module** in Python is simply a file that contains Python code — functions, classes, or variables — that you can reuse in other programs.\n",
    "\n",
    "> Think of a module like a toolbox 🧰 — full of useful tools (code) you can reuse instead of building everything from scratch!\n",
    "\n",
    "---\n",
    "\n",
    "## Importing Modules 🧾\n",
    "\n",
    "### Basic Syntax\n",
    "```python\n",
    "import module_name\n",
    "```\n",
    "\n",
    "### Example:"
   ]
  },
  {
   "cell_type": "code",
   "execution_count": 5,
   "id": "3f23f2db",
   "metadata": {},
   "outputs": [
    {
     "name": "stdout",
     "output_type": "stream",
     "text": [
      "4.0\n"
     ]
    }
   ],
   "source": [
    "import math\n",
    "print(math.sqrt(16))  # ➡️ 4.0"
   ]
  },
  {
   "cell_type": "markdown",
   "id": "10efa018",
   "metadata": {},
   "source": [
    "## Built-in Modules 🏗️\n",
    "Python comes with many helpful modules by default!\n",
    "\n",
    "### Popular Built-in Modules:\n",
    "- `math` – math functions\n",
    "- `random` – random numbers\n",
    "- `datetime` – working with dates\n",
    "- `os` – operating system tasks\n",
    "\n",
    "### Example: `random`"
   ]
  },
  {
   "cell_type": "code",
   "execution_count": 13,
   "id": "29a1425e",
   "metadata": {},
   "outputs": [
    {
     "name": "stdout",
     "output_type": "stream",
     "text": [
      "6\n",
      "Windows\n"
     ]
    }
   ],
   "source": [
    "import random\n",
    "print(random.randint(1, 10))  # Random number between 1 and 10\n",
    "\n",
    "# Another module\n",
    "import platform\n",
    "\n",
    "x = platform.system()\n",
    "print(x)"
   ]
  },
  {
   "cell_type": "markdown",
   "id": "9953df3a",
   "metadata": {},
   "source": [
    "**Note:** When using a function from a module, use the syntax: `module_name.function_name.`"
   ]
  },
  {
   "cell_type": "markdown",
   "id": "e1b2449f",
   "metadata": {},
   "source": [
    "### Example: `datetime`"
   ]
  },
  {
   "cell_type": "code",
   "execution_count": 4,
   "id": "3cf4cdca",
   "metadata": {},
   "outputs": [
    {
     "name": "stdout",
     "output_type": "stream",
     "text": [
      "2025-04-19 07:38:28.402739\n"
     ]
    }
   ],
   "source": [
    "import datetime\n",
    "print(datetime.datetime.now())"
   ]
  },
  {
   "cell_type": "markdown",
   "id": "d558a2c3",
   "metadata": {},
   "source": [
    "---\n",
    "\n",
    "## Creating Your Own Modules 🛠️\n",
    "\n",
    "You can write your own module by saving it in file with the file extension `.py`.\n",
    "\n",
    "### Example: Create `mymath.py`"
   ]
  },
  {
   "cell_type": "code",
   "execution_count": null,
   "id": "be31e082",
   "metadata": {},
   "outputs": [],
   "source": [
    "# saved this code in a file named mymath.py. To create new file Navigate like this Explorer > Open Editor\n",
    "#  > Click on File  icon > copy paste the below code in the new file > and save this file with name mymath.py\n",
    "\n",
    "def add(a, b):\n",
    "    return a + b\n",
    "\n",
    "def subtract(a, b):\n",
    "    return a - b"
   ]
  },
  {
   "cell_type": "markdown",
   "id": "a1264bb2",
   "metadata": {},
   "source": [
    "### Then import it:"
   ]
  },
  {
   "cell_type": "code",
   "execution_count": 12,
   "id": "44a05bf7",
   "metadata": {},
   "outputs": [
    {
     "name": "stdout",
     "output_type": "stream",
     "text": [
      "8\n"
     ]
    }
   ],
   "source": [
    "import mymath\n",
    "print(mymath.add(5, 3))"
   ]
  },
  {
   "cell_type": "markdown",
   "id": "8f78d5a3",
   "metadata": {},
   "source": [
    "> Tip: Make sure your custom module file is in the **same folder** or in Python's path.\n",
    "\n",
    "---"
   ]
  },
  {
   "cell_type": "markdown",
   "id": "23cdaadb",
   "metadata": {},
   "source": [
    "## Importing with Aliases & From Syntax ✍️\n",
    "\n",
    "### Aliases using `as`"
   ]
  },
  {
   "cell_type": "code",
   "execution_count": 10,
   "id": "6bba5003",
   "metadata": {},
   "outputs": [
    {
     "name": "stdout",
     "output_type": "stream",
     "text": [
      "120\n"
     ]
    }
   ],
   "source": [
    "import math as m\n",
    "print(m.factorial(5))"
   ]
  },
  {
   "cell_type": "markdown",
   "id": "cf284bc0",
   "metadata": {},
   "source": [
    "### Import specific functions\n",
    "You can choose to import only parts from a module, by using the `from` keyword."
   ]
  },
  {
   "cell_type": "code",
   "execution_count": 11,
   "id": "2e94fc69",
   "metadata": {},
   "outputs": [
    {
     "name": "stdout",
     "output_type": "stream",
     "text": [
      "5.0\n"
     ]
    }
   ],
   "source": [
    "from math import sqrt\n",
    "print(sqrt(25))"
   ]
  },
  {
   "cell_type": "markdown",
   "id": "9c95dd8b",
   "metadata": {},
   "source": [
    "### Import multiple"
   ]
  },
  {
   "cell_type": "code",
   "execution_count": 12,
   "id": "d4185c73",
   "metadata": {},
   "outputs": [],
   "source": [
    "from math import pow, ceil"
   ]
  },
  {
   "cell_type": "markdown",
   "id": "107f1ced",
   "metadata": {},
   "source": [
    "**Note:** When importing using the `from` keyword, do not use the module name when referring to elements in the module. Example:\n",
    "```python\n",
    " person1[\"age\"], not mymodule.person1[\"age\"]\n",
    " ```"
   ]
  },
  {
   "cell_type": "markdown",
   "id": "aa1f43db",
   "metadata": {},
   "source": [
    "---\n",
    "\n",
    "## Exploring `dir()` and `__name__` 🔍\n",
    "\n",
    "### Use `dir()` to explore what's inside a module:"
   ]
  },
  {
   "cell_type": "code",
   "execution_count": 13,
   "id": "825d0b65",
   "metadata": {},
   "outputs": [
    {
     "name": "stdout",
     "output_type": "stream",
     "text": [
      "['__doc__', '__loader__', '__name__', '__package__', '__spec__', 'acos', 'acosh', 'asin', 'asinh', 'atan', 'atan2', 'atanh', 'cbrt', 'ceil', 'comb', 'copysign', 'cos', 'cosh', 'degrees', 'dist', 'e', 'erf', 'erfc', 'exp', 'exp2', 'expm1', 'fabs', 'factorial', 'floor', 'fmod', 'frexp', 'fsum', 'gamma', 'gcd', 'hypot', 'inf', 'isclose', 'isfinite', 'isinf', 'isnan', 'isqrt', 'lcm', 'ldexp', 'lgamma', 'log', 'log10', 'log1p', 'log2', 'modf', 'nan', 'nextafter', 'perm', 'pi', 'pow', 'prod', 'radians', 'remainder', 'sin', 'sinh', 'sqrt', 'sumprod', 'tan', 'tanh', 'tau', 'trunc', 'ulp']\n"
     ]
    }
   ],
   "source": [
    "import math\n",
    "print(dir(math))"
   ]
  },
  {
   "cell_type": "markdown",
   "id": "cb09e6b2",
   "metadata": {},
   "source": [
    "**Note:** The `dir()` function can be used on all modules, also the ones you create yourself."
   ]
  },
  {
   "cell_type": "markdown",
   "id": "be1e9ce0",
   "metadata": {},
   "source": [
    "---\n",
    "\n",
    "## 🧠 Pro Tips Section\n",
    "- Use `from ... import ...` to avoid repeating module names.\n",
    "- Keep reusable functions in custom modules.\n",
    "- Aliases (`as`) help with readability.\n",
    "- Use `dir()` to explore unfamiliar modules.\n",
    "\n",
    "---"
   ]
  },
  {
   "cell_type": "markdown",
   "id": "2c0f3c04",
   "metadata": {},
   "source": [
    "## 🎯 Quick Quiz Time\n",
    "\n",
    "### ✅ Quiz 1\n",
    "What does `import math` do?\n",
    "<details><summary>Answer</summary>Loads the math module so its functions can be used.</details>\n",
    "\n",
    "### ✅ Quiz 2\n",
    "True or False: `from math import *` is best practice.\n",
    "<details><summary>Answer</summary>False — it's better to import only what you need.</details>\n",
    "\n",
    "### ✅ Quiz 3\n",
    "What is the output of `__name__` if a script is run directly?\n",
    "<details><summary>Answer</summary>`'__main__'`</details>\n",
    "\n",
    "---\n",
    "\n",
    "## 🎤 Top Interview Questions\n",
    "**Q1.** What are Python modules and why are they useful?\n",
    "   - A: Python modules are files with Python code that let you reuse functions, classes, or variables across programs.\n",
    "\n",
    "**Q2.** How do you import only one function from a module?\n",
    "   - A: Use from `module_name import function_name` to import only one function.\n",
    "\n",
    "**Q3.** Explain the difference between `import math` and `from math import sqrt`.\n",
    "   - A: import math imports the whole module, while from math import sqrt imports only the sqrt function.\n",
    "\n",
    "**Q4.** What is `__name__ == '__main__'` used for?\n",
    "   - A: __name__ == '__main__' runs code only when the file is executed directly, not when imported.\n",
    "\n",
    "**Q5.** How can you create a reusable custom module?\n",
    "   - A: Save your functions in a .py file and import it in other scripts to reuse it as a custom module.\n",
    "\n",
    "\n",
    "---\n"
   ]
  },
  {
   "cell_type": "markdown",
   "id": "577a5686",
   "metadata": {},
   "source": [
    "## 💻 Real World Challenge: Custom Calculator Module\n",
    "\n",
    "### Problem Statement:\n",
    "Create a module named `calculator.py` that contains functions for:\n",
    "- Addition\n",
    "- Subtraction\n",
    "- Multiplication\n",
    "- Division\n",
    "\n",
    "Then create another script that imports and uses this module.\n",
    "\n",
    "Modules make your code cleaner, reusable, and easier to manage! 🧱\n",
    "\n",
    "Happy importing! 🚀\n",
    "\n",
    "---"
   ]
  },
  {
   "cell_type": "code",
   "execution_count": null,
   "id": "df7c39dd",
   "metadata": {},
   "outputs": [],
   "source": [
    "# Module: `calculator.py`\n",
    "\n",
    "def add(a, b):\n",
    "    return a + b\n",
    "\n",
    "def subtract(a, b):\n",
    "    return a - b\n",
    "\n",
    "def multiply(a, b):\n",
    "    return a * b\n",
    "\n",
    "def divide(a, b):\n",
    "    if b == 0:\n",
    "        return \"Cannot divide by zero\"\n",
    "    return a / b\n",
    "\n",
    "# Main Script:\n",
    "\n",
    "import calculator\n",
    "\n",
    "print(\"Addition:\", calculator.add(10, 5))\n",
    "print(\"Division:\", calculator.divide(10, 0))\n",
    "\n",
    "\n",
    "# Expected Output:\n",
    "# Addition: 15\n",
    "# Division: Cannot divide by zero"
   ]
  },
  {
   "cell_type": "markdown",
   "id": "1ac0da24",
   "metadata": {},
   "source": [
    "# ⭐Exceptions Handling 🚨\n",
    "\n",
    "### What are exceptions? \n",
    "Exceptions are **errors** that occur during the execution of a program. Instead of crashing your program, you can **catch and handle** these errors.\n",
    "\n",
    "### Common Errors You Might See:\n",
    "- `ZeroDivisionError`\n",
    "- `ValueError`\n",
    "- `FileNotFoundError`\n",
    "- `TypeError`\n",
    "\n",
    "---\n"
   ]
  },
  {
   "cell_type": "markdown",
   "id": "f4dcba27",
   "metadata": {},
   "source": [
    "## Try and Except Block\n",
    "\n",
    "### Basic Syntax\n",
    "```python\n",
    "try:\n",
    "    # risky code\n",
    "except SomeError:\n",
    "    # handle error\n",
    "```"
   ]
  },
  {
   "cell_type": "markdown",
   "id": "6ef859e8",
   "metadata": {},
   "source": [
    "### Example 1: Division"
   ]
  },
  {
   "cell_type": "code",
   "execution_count": 14,
   "id": "4dd07c78",
   "metadata": {},
   "outputs": [
    {
     "name": "stdout",
     "output_type": "stream",
     "text": [
      "You can't divide by zero!\n"
     ]
    }
   ],
   "source": [
    "try:\n",
    "    x = 10 / 0\n",
    "except ZeroDivisionError:\n",
    "    print(\"You can't divide by zero!\")"
   ]
  },
  {
   "cell_type": "markdown",
   "id": "3a8ad03b",
   "metadata": {},
   "source": [
    "### Example 2: Invalid Input"
   ]
  },
  {
   "cell_type": "code",
   "execution_count": null,
   "id": "ad405fbb",
   "metadata": {},
   "outputs": [],
   "source": [
    "try:\n",
    "    num = int(input(\"Enter a number: \"))\n",
    "except ValueError:\n",
    "    print(\"That's not a valid number!\")"
   ]
  },
  {
   "cell_type": "markdown",
   "id": "1e0b6a93",
   "metadata": {},
   "source": [
    "---\n",
    "\n",
    "## Handling Multiple Exceptions\n",
    "\n",
    "### Using multiple except blocks"
   ]
  },
  {
   "cell_type": "code",
   "execution_count": null,
   "id": "1ae5e8af",
   "metadata": {},
   "outputs": [],
   "source": [
    "try:\n",
    "    x = int(\"hello\")\n",
    "except ValueError:\n",
    "    print(\"Caught a ValueError!\")\n",
    "except TypeError:\n",
    "    print(\"Caught a TypeError!\")"
   ]
  },
  {
   "cell_type": "markdown",
   "id": "281dc83c",
   "metadata": {},
   "source": [
    "### Using a tuple of exceptions"
   ]
  },
  {
   "cell_type": "code",
   "execution_count": null,
   "id": "b1c561c4",
   "metadata": {},
   "outputs": [],
   "source": [
    "try:\n",
    "    x = int(\"world\")\n",
    "except (ValueError, TypeError):\n",
    "    print(\"Caught a ValueError or TypeError!\")"
   ]
  },
  {
   "cell_type": "markdown",
   "id": "0ec8569a",
   "metadata": {},
   "source": [
    "---\n",
    "\n",
    "## Else and Finally Clauses\n",
    "- The `else` block **only runs if no exception was raised** in the `try` block. It's great for code that should only run if everything went smoothly.\n",
    "- The `finally` block **always runs** — whether an exception occurred or not. This is super useful for cleaning up resources, like closing files or disconnecting from a database.\n",
    "\n",
    "Think of it like this:\n",
    "> \"`Try` is the risky part, `except` is the safety net, `else` is the success celebration 🎉, and `finally` is the cleanup crew 🧹.\"\n",
    "\n",
    "\n",
    "### The `else` block"
   ]
  },
  {
   "cell_type": "code",
   "execution_count": 16,
   "id": "e5e9ae89",
   "metadata": {},
   "outputs": [
    {
     "name": "stdout",
     "output_type": "stream",
     "text": [
      "You entered: 36\n"
     ]
    }
   ],
   "source": [
    "try:\n",
    "    num = int(input(\"Enter a number: \"))\n",
    "except ValueError:\n",
    "    print(\"Invalid input\")\n",
    "else:\n",
    "    print(\"You entered:\", num)"
   ]
  },
  {
   "cell_type": "markdown",
   "id": "6a11dcc4",
   "metadata": {},
   "source": [
    "### The `finally` block"
   ]
  },
  {
   "cell_type": "code",
   "execution_count": 17,
   "id": "80d38f72",
   "metadata": {},
   "outputs": [
    {
     "name": "stdout",
     "output_type": "stream",
     "text": [
      "File not found!\n",
      "This always runs, file or not.\n"
     ]
    }
   ],
   "source": [
    "try:\n",
    "    file = open(\"test.txt\")\n",
    "except FileNotFoundError:\n",
    "    print(\"File not found!\")\n",
    "finally:\n",
    "    print(\"This always runs, file or not.\")"
   ]
  },
  {
   "cell_type": "markdown",
   "id": "9df850da",
   "metadata": {},
   "source": [
    "### Generic Exception Handling\n"
   ]
  },
  {
   "cell_type": "code",
   "execution_count": null,
   "id": "ca3d5265",
   "metadata": {},
   "outputs": [],
   "source": [
    "try:\n",
    "    # Code that may raise an exception\n",
    "    num = int(input(\"Enter a number: \"))\n",
    "    result = 10 / num # May raise ZeroDivisionError\n",
    "    print(\"Result:\", result)\n",
    "except Exception as e: # Catching all exceptions\n",
    "    print(\"An error occurred:\", e)"
   ]
  },
  {
   "cell_type": "markdown",
   "id": "c84205cd",
   "metadata": {},
   "source": [
    "---\n",
    "\n",
    "## Raising Exceptions\n",
    "\n",
    "### Manually raise errors"
   ]
  },
  {
   "cell_type": "code",
   "execution_count": null,
   "id": "9744ecc2",
   "metadata": {},
   "outputs": [],
   "source": [
    "def check_age(age):\n",
    "    if age < 0:\n",
    "        raise ValueError(\"Age can't be negative!\")\n",
    "    print(\"Valid age:\", age)\n",
    "\n",
    "check_age(20)\n",
    "check_age(-5)  # This will raise an error"
   ]
  },
  {
   "cell_type": "markdown",
   "id": "dff28798",
   "metadata": {},
   "source": [
    "---\n",
    "\n",
    "## 🧠 Pro Tips Section\n",
    "- Catch **specific exceptions** first — it's good practice!\n",
    "- Use `try-except` around only the code that might fail.\n",
    "- `finally` is great for **cleaning up resources** (e.g., closing files).\n",
    "- Use `raise` to create custom error messages in your own functions.\n",
    "\n",
    "---"
   ]
  },
  {
   "cell_type": "markdown",
   "id": "56525443",
   "metadata": {},
   "source": [
    "## 🎯 Quick Quiz Time\n",
    "\n",
    "### ✅ Quiz 1\n",
    "What happens when this code runs?\n",
    "```python\n",
    "try:\n",
    "    print(1/0)\n",
    "except ZeroDivisionError:\n",
    "    print(\"Oops\")\n",
    "```\n",
    "<details><summary>Answer</summary>Prints \"Oops\"</details>\n",
    "\n",
    "### ✅ Quiz 2\n",
    "True or False: Code in the `finally` block always runs.\n",
    "<details><summary>Answer</summary>True</details>\n",
    "\n",
    "### ✅ Quiz 3\n",
    "Fill in the blank: `try: ... except _____:`\n",
    "<details><summary>Answer</summary>ExceptionType (e.g., ValueError)</details>\n",
    "\n",
    "---"
   ]
  },
  {
   "cell_type": "markdown",
   "id": "6fda2470",
   "metadata": {},
   "source": [
    "## 🎤 Top Interview Questions\n",
    "**Q1.** What's the purpose of the `finally` block?\n",
    "   - A: The finally block ensures that a specific block of code runs no matter what, whether an exception was raised or not \n",
    "\n",
    "**Q2.** How do you raise a custom exception?\n",
    "   - A: Use `raise CustomError(\"Your message\")` to raise a custom exception.\n",
    "\n",
    "**Q3.** What's the difference between `except ValueError` and `except (ValueError, TypeError)`?\n",
    "   - A: except ValueError catches only that error, while except (ValueError, TypeError) catches both.\n",
    "\n",
    "**Q4.** Why is it bad to use a bare `except:` block?\n",
    "   - A: A bare except: hides all errors, including system ones, making debugging hard.\n",
    "\n",
    "**Q5.** Write a function that handles user input and only accepts integers.\n",
    "   - A: Use int(input(\"Enter a number: \")) inside a try block with except ValueError to handle only integers.\n",
    "\n",
    "\n",
    "---"
   ]
  },
  {
   "cell_type": "markdown",
   "id": "2a2307f1",
   "metadata": {},
   "source": [
    "## 💻 Real World Challenge: Safe Calculator\n",
    "\n",
    "### Problem Statement:\n",
    "Create a calculator that handles division safely. It should:\n",
    "- Ask user for two numbers\n",
    "- Divide them\n",
    "- Catch `ZeroDivisionError` and `ValueError`\n",
    "\n",
    "---"
   ]
  },
  {
   "cell_type": "code",
   "execution_count": 21,
   "id": "793f48a8",
   "metadata": {},
   "outputs": [
    {
     "name": "stdout",
     "output_type": "stream",
     "text": [
      "Result: 1.3333333333333333\n",
      "Thanks for using the safe calculator!\n"
     ]
    }
   ],
   "source": [
    "def safe_division():\n",
    "    try:\n",
    "        a = int(input(\"Enter numerator: \"))\n",
    "        b = int(input(\"Enter denominator: \"))\n",
    "        result = a / b\n",
    "    except ZeroDivisionError:\n",
    "        print(\"Cannot divide by zero!\")\n",
    "    except ValueError:\n",
    "        print(\"Please enter valid integers!\")\n",
    "    else:\n",
    "        print(\"Result:\", result)\n",
    "    finally:\n",
    "        print(\"Thanks for using the safe calculator!\")\n",
    "\n",
    "safe_division()"
   ]
  },
  {
   "cell_type": "markdown",
   "id": "1075fe36",
   "metadata": {},
   "source": [
    "# ⭐ File Handling 📂\n",
    "\n",
    "Imagine needing to **save data** from your Python program so that it doesn't vanish after the program ends. That's where **file handling** comes in! 📄\n",
    "\n",
    "In Python, you can **create, read, write, and update files** with just a few lines of code.\n",
    "\n",
    "---\n",
    "\n",
    "## Opening and Reading Files\n",
    "\n",
    "### Syntax:\n",
    "```python\n",
    "file = open('filename.txt', 'mode')\n",
    "```\n",
    "### Common Modes:\n",
    "- `'r'` – Read (default)\n",
    "- `'w'` – Write (overwrites if file exists)\n",
    "- `'a'` – Append\n",
    "- `'b'` – Binary\n",
    "- `'x'` – Create (fails if file exists)\n",
    "\n",
    "### Example 1: Reading a File"
   ]
  },
  {
   "cell_type": "code",
   "execution_count": 23,
   "id": "495cd76c",
   "metadata": {},
   "outputs": [
    {
     "name": "stdout",
     "output_type": "stream",
     "text": [
      "# saved this code in a file named mymath.py\n",
      "\n",
      "def add(a, b):\n",
      "    return a + b\n",
      "\n",
      "def subtract(a, b):\n",
      "    return a - b\n"
     ]
    }
   ],
   "source": [
    "file = open('mymath.py', 'r')\n",
    "content = file.read()\n",
    "print(content)\n",
    "file.close()"
   ]
  },
  {
   "cell_type": "markdown",
   "id": "6017240e",
   "metadata": {},
   "source": [
    "### Example 2: Reading line-by-line"
   ]
  },
  {
   "cell_type": "code",
   "execution_count": 24,
   "id": "59df082e",
   "metadata": {},
   "outputs": [
    {
     "name": "stdout",
     "output_type": "stream",
     "text": [
      "# saved this code in a file named mymath.py\n",
      "\n",
      "def add(a, b):\n",
      "return a + b\n",
      "\n",
      "def subtract(a, b):\n",
      "return a - b\n"
     ]
    }
   ],
   "source": [
    "file = open('mymath.py', 'r')\n",
    "for line in file:\n",
    "    print(line.strip())\n",
    "file.close()"
   ]
  },
  {
   "cell_type": "markdown",
   "id": "2f386f36",
   "metadata": {},
   "source": [
    "---\n",
    "\n",
    "## Writing and Appending to \n",
    "`w` mode overwrites the entire file, while `a` mode adds new content to the end without deleting existing data.\n",
    "\n",
    "### Writing (`'w'` mode)"
   ]
  },
  {
   "cell_type": "code",
   "execution_count": 28,
   "id": "9de85679",
   "metadata": {},
   "outputs": [],
   "source": [
    "file = open('mymath.py', 'w')\n",
    "file.write(\"Hello World!\\n\")\n",
    "file.write(\"Python is awesome!\\n\")\n",
    "file.close()"
   ]
  },
  {
   "cell_type": "markdown",
   "id": "f4524b38",
   "metadata": {},
   "source": [
    "### Appending (`'a'` mode)"
   ]
  },
  {
   "cell_type": "code",
   "execution_count": 29,
   "id": "de1c9e8a",
   "metadata": {},
   "outputs": [],
   "source": [
    "file = open('mymath.py', 'a')\n",
    "file.write(\"Adding another line.\\n\")\n",
    "file.close()"
   ]
  },
  {
   "cell_type": "markdown",
   "id": "053f4f06",
   "metadata": {},
   "source": [
    "### Reading after writing"
   ]
  },
  {
   "cell_type": "code",
   "execution_count": 31,
   "id": "9cb2c865",
   "metadata": {},
   "outputs": [
    {
     "name": "stdout",
     "output_type": "stream",
     "text": [
      "Hello World!\n",
      "Python is awesome!\n",
      "Adding another line.\n",
      "\n"
     ]
    }
   ],
   "source": [
    "with open('mymath.py', 'r') as file:\n",
    "    print(file.read())"
   ]
  },
  {
   "cell_type": "markdown",
   "id": "9069e92b",
   "metadata": {},
   "source": [
    "---\n",
    "\n",
    "## Working with `with` Statement\n",
    "\n",
    "The `with` statement is the **Pythonic way** to handle files. It automatically closes the file for you (even if errors occur).\n",
    "\n",
    "### Example:"
   ]
  },
  {
   "cell_type": "code",
   "execution_count": 32,
   "id": "bfb137e2",
   "metadata": {},
   "outputs": [
    {
     "name": "stdout",
     "output_type": "stream",
     "text": [
      "Hello World!\n",
      "Python is awesome!\n",
      "Adding another line.\n"
     ]
    }
   ],
   "source": [
    "with open('mymath.py', 'r') as file:\n",
    "    for line in file:\n",
    "        print(line.strip())"
   ]
  },
  {
   "cell_type": "markdown",
   "id": "948856fd",
   "metadata": {},
   "source": [
    "> Think of `with` as a safe, smart assistant that always remembers to turn the lights off 💡 (close the file).\n",
    "\n",
    "---"
   ]
  },
  {
   "cell_type": "markdown",
   "id": "0cb04ea5",
   "metadata": {},
   "source": [
    "## Handling File Exceptions\n",
    "\n",
    "Working with files can cause errors like:\n",
    "- File not found\n",
    "- Permission denied\n",
    "\n",
    "### Use try-except:"
   ]
  },
  {
   "cell_type": "code",
   "execution_count": null,
   "id": "b3f73cc5",
   "metadata": {},
   "outputs": [],
   "source": [
    "try:\n",
    "    with open('not_here.txt', 'r') as f:\n",
    "        print(f.read())\n",
    "except FileNotFoundError:\n",
    "    print(\"Oops! File not found.\")"
   ]
  },
  {
   "cell_type": "markdown",
   "id": "f6eaa64f",
   "metadata": {},
   "source": [
    "---\n",
    "\n",
    "## 🧠 Pro Tips Section\n",
    "- Always use `with` for file operations.\n",
    "- Use `strip()` when reading lines to remove `\\n`.\n",
    "- Don't forget to close files if not using `with`.\n",
    "- Use `'a'` mode to keep adding data instead of overwriting.\n",
    "\n",
    "---"
   ]
  },
  {
   "cell_type": "markdown",
   "id": "4b09d979",
   "metadata": {},
   "source": [
    "## 🎯 Quick Quiz Time\n",
    "\n",
    "### ✅ Quiz 1\n",
    "What does `'w'` mode do?\n",
    "<details><summary>Answer</summary>Opens file for writing, erasing previous content.</details>\n",
    "\n",
    "### ✅ Quiz 2\n",
    "What happens if you try to read a non-existent file?\n",
    "<details><summary>Answer</summary>A `FileNotFoundError` occurs.</details>\n",
    "\n",
    "### ✅ Quiz 3\n",
    "Which mode lets you add to the end of a file?\n",
    "<details><summary>Answer</summary>`'a'` (append)</details>\n",
    "\n",
    "---"
   ]
  },
  {
   "cell_type": "markdown",
   "id": "371de884",
   "metadata": {},
   "source": [
    "## 🎤 Top Interview Questions\n",
    "1. What is the difference between `'w'` and `'a'` modes?\n",
    "   - A: `w` overwrites the file, while `a` appends to the end without deleting content.\n",
    "\n",
    "2. Why is using `with` better than manually opening/closing files?\n",
    "   - A: `with` automatically handles opening and closing files, even if errors occur.\n",
    "\n",
    "3. How do you handle missing files in Python?\n",
    "   - A: Use `try-except` with `FileNotFoundError` to handle missing files.\n",
    "\n",
    "4. What happens if you try to open a file in `'x'` mode that already exists?\n",
    "   - A: Opening a file in `x` mode raises a `FileExistsError` if the file already exists.\n",
    "\n",
    "5. How can you read only the first line of a file?\n",
    "   - A: Use `file.readline()` to read only the first line of a file.\n",
    "\n",
    "\n",
    "\n",
    "---"
   ]
  },
  {
   "cell_type": "markdown",
   "id": "89797a7f",
   "metadata": {},
   "source": [
    "## 💻 Real World Challenge: Simple Notepad\n",
    "\n",
    "### Problem Statement:\n",
    "Create a program that lets the user **save notes** to a text file and **read them back** later.\n",
    "\n",
    "### Features:\n",
    "- Ask the user if they want to write or read notes.\n",
    "- If write, take input and append it to the file.\n",
    "- If read, display the content of the file.\n",
    "\n",
    "📂 File handling lets your Python programs remember things — like a digital diary! 📝\n",
    "\n",
    "Happy coding! 💻\n",
    "\n",
    "---"
   ]
  },
  {
   "cell_type": "code",
   "execution_count": 33,
   "id": "66b9da53",
   "metadata": {},
   "outputs": [
    {
     "name": "stdout",
     "output_type": "stream",
     "text": [
      "No notes found yet!\n"
     ]
    }
   ],
   "source": [
    "filename = \"notes.txt\"\n",
    "\n",
    "choice = input(\"Do you want to read or write? (r/w): \").lower()\n",
    "\n",
    "if choice == 'w':\n",
    "    note = input(\"Enter your note: \")\n",
    "    with open(filename, 'a') as f:\n",
    "        f.write(note + \"\\n\")\n",
    "    print(\"Note saved!\")\n",
    "\n",
    "elif choice == 'r':\n",
    "    try:\n",
    "        with open(filename, 'r') as f:\n",
    "            print(\"\\nYour Notes:\")\n",
    "            print(f.read())\n",
    "    except FileNotFoundError:\n",
    "        print(\"No notes found yet!\")\n",
    "else:\n",
    "    print(\"Invalid choice.\")"
   ]
  },
  {
   "cell_type": "markdown",
   "id": "33e05f48",
   "metadata": {},
   "source": [
    "# ⭐Lists 📘\n",
    "\n",
    "A **list** in Python is a collection of items that are ordered, changeable, and allow duplicate values.\n",
    "\n",
    "> Think of a list like a shopping list 🛒—a collection of items you want to keep in a specific order.\n",
    "\n",
    "Example:\n",
    "```python\n",
    "my_list = [\"apple\", \"banana\", \"cherry\"]\n",
    "```\n",
    "\n",
    "---"
   ]
  },
  {
   "cell_type": "markdown",
   "id": "8aebeae0",
   "metadata": {},
   "source": [
    "## Creating and Accessing Lists 🛠️\n",
    "\n",
    "### Creating a List:"
   ]
  },
  {
   "cell_type": "code",
   "execution_count": null,
   "id": "d5683694",
   "metadata": {},
   "outputs": [
    {
     "name": "stdout",
     "output_type": "stream",
     "text": [
      "['apple', 'banana', 'mango']\n"
     ]
    }
   ],
   "source": [
    "num = [\"apple\", \"banana\", \"mango\"]\n",
    "print(num)"
   ]
  },
  {
   "cell_type": "markdown",
   "id": "52e15134",
   "metadata": {},
   "source": [
    "### Accessing Elements:"
   ]
  },
  {
   "cell_type": "code",
   "execution_count": null,
   "id": "8bf5c6ec",
   "metadata": {},
   "outputs": [
    {
     "name": "stdout",
     "output_type": "stream",
     "text": [
      "apple\n",
      "mango\n"
     ]
    }
   ],
   "source": [
    "print(num[0])  # apple\n",
    "print(num[-1]) # mango"
   ]
  },
  {
   "cell_type": "markdown",
   "id": "6dd5c8da",
   "metadata": {},
   "source": [
    "### Checking Length:"
   ]
  },
  {
   "cell_type": "code",
   "execution_count": null,
   "id": "76f04dcf",
   "metadata": {},
   "outputs": [
    {
     "name": "stdout",
     "output_type": "stream",
     "text": [
      "3\n"
     ]
    }
   ],
   "source": [
    "print(len(num))"
   ]
  },
  {
   "cell_type": "markdown",
   "id": "807273c4",
   "metadata": {},
   "source": [
    "---\n",
    "\n",
    "## Modifying Lists 🧰\n",
    "\n",
    "### Changing Items:"
   ]
  },
  {
   "cell_type": "code",
   "execution_count": null,
   "id": "7a1e3389",
   "metadata": {},
   "outputs": [
    {
     "name": "stdout",
     "output_type": "stream",
     "text": [
      "['apple', 'orange', 'mango']\n"
     ]
    }
   ],
   "source": [
    "num[1] = \"orange\"\n",
    "print(num)"
   ]
  },
  {
   "cell_type": "markdown",
   "id": "aeb97b16",
   "metadata": {},
   "source": [
    "### Adding Items:"
   ]
  },
  {
   "cell_type": "code",
   "execution_count": null,
   "id": "19e49b6d",
   "metadata": {},
   "outputs": [
    {
     "name": "stdout",
     "output_type": "stream",
     "text": [
      "['apple', 'kiwi', 'orange', 'mango', 'grape']\n"
     ]
    }
   ],
   "source": [
    "num.append(\"grape\")   # adds to the end of the list\n",
    "num.insert(1, \"kiwi\") # inserts at specific index\n",
    "print(num)"
   ]
  },
  {
   "cell_type": "markdown",
   "id": "da6e5dfc",
   "metadata": {},
   "source": [
    "### Removing Items:"
   ]
  },
  {
   "cell_type": "code",
   "execution_count": null,
   "id": "c8e796a2",
   "metadata": {},
   "outputs": [
    {
     "data": {
      "text/plain": [
       "'grape'"
      ]
     },
     "execution_count": 26,
     "metadata": {},
     "output_type": "execute_result"
    }
   ],
   "source": [
    "num.remove(\"apple\") # removes by value (first occurrence)\n",
    "del num[0]          # removes by index\n",
    "num.pop()           # removes and returns the last item"
   ]
  },
  {
   "cell_type": "markdown",
   "id": "d5b19f64",
   "metadata": {},
   "source": [
    "> 🧹 **remove vs pop**: `remove(value)` deletes by value, `pop(index)` deletes by index and returns the item.\n"
   ]
  },
  {
   "cell_type": "markdown",
   "id": "b69e1cd5",
   "metadata": {},
   "source": [
    "---\n",
    "\n",
    "## List Methods 🔧"
   ]
  },
  {
   "cell_type": "code",
   "execution_count": 28,
   "id": "182f85e8",
   "metadata": {},
   "outputs": [
    {
     "name": "stdout",
     "output_type": "stream",
     "text": [
      "[3, 5, 6, 8]\n",
      "[8, 6, 5, 3]\n",
      "[8, 6, 5, 3]\n",
      "[]\n"
     ]
    }
   ],
   "source": [
    "numbers = [5, 3, 8, 6]\n",
    "\n",
    "numbers.sort()     # Sort ascending\n",
    "print(numbers)\n",
    "numbers.reverse()  # Reverse the list\n",
    "print(numbers)\n",
    "numbers.copy()     # Returns a copy\n",
    "print(numbers)\n",
    "numbers.clear()    # Empties the list\n",
    "print(numbers)"
   ]
  },
  {
   "cell_type": "markdown",
   "id": "520cf047",
   "metadata": {},
   "source": [
    "### Combine Lists:"
   ]
  },
  {
   "cell_type": "code",
   "execution_count": null,
   "id": "e8aa6496",
   "metadata": {},
   "outputs": [],
   "source": [
    "list1 = [1, 2]\n",
    "list2 = [3, 4]\n",
    "print(list1 + list2)"
   ]
  },
  {
   "cell_type": "markdown",
   "id": "e6c59808",
   "metadata": {},
   "source": [
    "---\n",
    "\n",
    "## Looping Through Lists 🔁\n",
    "\n",
    "### Using a `for` loop:"
   ]
  },
  {
   "cell_type": "code",
   "execution_count": null,
   "id": "eaba377d",
   "metadata": {},
   "outputs": [],
   "source": [
    "for fruit in num:\n",
    "    print(fruit)"
   ]
  },
  {
   "cell_type": "markdown",
   "id": "21310627",
   "metadata": {},
   "source": [
    "### Using `while` loop:"
   ]
  },
  {
   "cell_type": "code",
   "execution_count": null,
   "id": "6dc11139",
   "metadata": {},
   "outputs": [],
   "source": [
    "i = 0\n",
    "while i < len(num):\n",
    "    print(num[i])\n",
    "    i += 1"
   ]
  },
  {
   "cell_type": "markdown",
   "id": "f9a41fc7",
   "metadata": {},
   "source": [
    "---\n",
    "## Nested Lists"
   ]
  },
  {
   "cell_type": "code",
   "execution_count": 29,
   "id": "84f6e9f4",
   "metadata": {},
   "outputs": [
    {
     "name": "stdout",
     "output_type": "stream",
     "text": [
      "3\n"
     ]
    }
   ],
   "source": [
    "matrix = [[1, 2], [3, 4], [5, 6]]\n",
    "print(matrix[1][0])  # 3"
   ]
  },
  {
   "cell_type": "markdown",
   "id": "aa2f6e1c",
   "metadata": {},
   "source": [
    "## List Slicing 🧬\n",
    "`list[start : stop : step]`\n",
    "**Key Rules:**\n",
    "- `start` → **Inclusive** (slice includes this index)\n",
    "\n",
    "- `stop` → **Exclusive** (slice goes up to but does not include this index)\n",
    "\n",
    "- `step` → **Stride** (how many indices to skip between elements)"
   ]
  },
  {
   "cell_type": "code",
   "execution_count": null,
   "id": "9de8fe57",
   "metadata": {},
   "outputs": [],
   "source": [
    "num = [0, 1, 2, 3, 4, 5, 6, 7, 8, 9]\n",
    "\n",
    "print(num[2:5])    # From index 2 (included) to 5 (excluded) \n",
    "print(num[1:7:2])  # From 1 to 7, taking every 2nd element\t    \n",
    "print(num[::3])    # Entire list, every 3rd element \n",
    "print(num[5:1:-1]) # From 5 to 1, stepping backwards    \n",
    "print(num[::-1])   # Reverse the list"
   ]
  },
  {
   "cell_type": "markdown",
   "id": "c81cb4ad",
   "metadata": {},
   "source": [
    "**Edge Cases:**\n",
    "- If `start` is omitted → Defaults to `0` (or `-1` if `step` is negative)\n",
    "\n",
    "- If `stop` is omitted → Defaults to `len(list)` (or `-len(list)-1` if `step` is negative)\n",
    "\n",
    "- If `step` is negative → The slice goes backwards\n",
    "\n",
    "- If `start` or `stop` are out of bounds → Python adjusts them gracefully"
   ]
  },
  {
   "cell_type": "markdown",
   "id": "86eb3bcb",
   "metadata": {},
   "source": [
    "---\n",
    "\n",
    "## 🧠 Pro Tips Section\n",
    "- Lists are dynamic: you can add/remove/change items anytime.\n",
    "- Use `in` to check for existence: `'apple' in fruits`\n",
    "- `list()` can convert other iterables to a list.\n",
    "- Be careful with `=` vs `.copy()` (they behave differently).\n",
    "- Use `append()` when simply adding to the end; use `insert()` to control the position.\n",
    "- `remove()` doesn't work with index — use `pop()` for that.\n",
    "\n",
    "---\n",
    "\n",
    "## 🎯 Quick Quiz Time\n",
    "\n",
    "### ✅ Quiz 1\n",
    "How do you append an item to a list?\n",
    "<details><summary>Answer</summary>`my_list.append(item)`</details>\n",
    "\n",
    "### ✅ Quiz 2\n",
    "What will `my_list[-1]` return?\n",
    "<details><summary>Answer</summary>The last item in the list</details>\n",
    "\n",
    "### ✅ Quiz 3\n",
    "What happens if you try to access an index that doesn't exist?\n",
    "<details><summary>Answer</summary>You'll get an IndexError</details>\n",
    "\n",
    "---\n",
    "\n",
    "## 🎤 Top Interview Questions\n",
    "1. What is the difference between `append()` and `insert()`?\n",
    "2. How do you remove an item by value vs by index?\n",
    "3. How do you copy a list without affecting the original?\n",
    "4. What is a shallow vs deep copy of a list?\n",
    "5. Explain list slicing and negative indexing.\n",
    "\n",
    "---\n",
    "\n",
    "## 🚀 Mini Project Challenge: Simple To-Do List App\n",
    "\n",
    "### Problem Statement:\n",
    "Build a simple command-line **To-Do List Manager** that allows users to:\n",
    "- View current tasks\n",
    "- Add new tasks\n",
    "- Remove completed tasks\n",
    "- Exit the program\n",
    "\n",
    "### Starter Code:\n",
    "```python\n",
    "tasks = []\n",
    "\n",
    "while True:\n",
    "    print(\"\\nTo-Do List Manager\")\n",
    "    print(\"1. View Tasks\")\n",
    "    print(\"2. Add Task\")\n",
    "    print(\"3. Remove Task\")\n",
    "    print(\"4. Exit\")\n",
    "\n",
    "    choice = input(\"Enter your choice (1-4): \")\n",
    "\n",
    "    if choice == '1':\n",
    "        for idx, task in enumerate(tasks):\n",
    "            print(f\"{idx+1}. {task}\")\n",
    "    elif choice == '2':\n",
    "        task = input(\"Enter new task: \")\n",
    "        tasks.append(task)\n",
    "        print(\"Task added!\")\n",
    "    elif choice == '3':\n",
    "        task_num = int(input(\"Enter task number to remove: \"))\n",
    "        if 0 < task_num <= len(tasks):\n",
    "            tasks.pop(task_num - 1)\n",
    "            print(\"Task removed!\")\n",
    "        else:\n",
    "            print(\"Invalid task number.\")\n",
    "    elif choice == '4':\n",
    "        print(\"Goodbye!\")\n",
    "        break\n",
    "    else:\n",
    "        print(\"Invalid choice, please try again.\")\n",
    "```\n",
    "\n",
    "### Output Example:\n",
    "```\n",
    "To-Do List Manager\n",
    "1. View Tasks\n",
    "2. Add Task\n",
    "3. Remove Task\n",
    "4. Exit\n",
    "Enter your choice (1-4): 2\n",
    "Enter new task: Learn Python lists\n",
    "Task added!\n",
    "```\n",
    "\n",
    "Lists are the backbone of most Python programs. Master them and you unlock a world of possibilities! 🧠🚀\n",
    "\n",
    "---"
   ]
  },
  {
   "cell_type": "markdown",
   "id": "f51552cb",
   "metadata": {},
   "source": [
    "# ⭐Tuples 📘\n",
    "\n",
    "A **tuple** in Python is like a list, but **immutable** — meaning once it's created, you can't change its contents.\n",
    "\n",
    "> Think of a tuple like your birthdate 🗓️ — it never changes.\n",
    "\n",
    "Example:\n",
    "```python\n",
    "dob = (2005, 5, 15)\n",
    "```\n",
    "\n",
    "---\n",
    "\n",
    "## Creating and Accessing Tuples 🛠️\n",
    "\n",
    "### Creating a Tuple:\n",
    "```python\n",
    "my_tuple = (1, 2, 3)\n",
    "```\n",
    "\n",
    "### Accessing Elements:"
   ]
  },
  {
   "cell_type": "code",
   "execution_count": 1,
   "id": "cbc41381",
   "metadata": {},
   "outputs": [
    {
     "name": "stdout",
     "output_type": "stream",
     "text": [
      "1\n",
      "3\n"
     ]
    }
   ],
   "source": [
    "my_tuple = (1, 2, 3)\n",
    "print(my_tuple[0])  # 1\n",
    "print(my_tuple[-1]) # 3"
   ]
  },
  {
   "cell_type": "markdown",
   "id": "2ab3dffb",
   "metadata": {},
   "source": [
    "### Tuple with One Element:"
   ]
  },
  {
   "cell_type": "code",
   "execution_count": null,
   "id": "1434570b",
   "metadata": {},
   "outputs": [],
   "source": [
    "single = (5,)  # Notice the comma!"
   ]
  },
  {
   "cell_type": "markdown",
   "id": "62793f84",
   "metadata": {},
   "source": [
    "---\n",
    "\n",
    "## Tuple Properties 🔐\n",
    "- Tuples are **ordered**\n",
    "- Tuples are **immutable** (you can't change/add/delete items)\n",
    "- Tuples can **contain different data types**\n",
    "- Tuples can be **nested**\n",
    "\n",
    "---\n",
    "\n",
    "## Tuple Methods 🔧"
   ]
  },
  {
   "cell_type": "code",
   "execution_count": 6,
   "id": "9b64f72c",
   "metadata": {},
   "outputs": [
    {
     "name": "stdout",
     "output_type": "stream",
     "text": [
      "2\n",
      "3\n"
     ]
    }
   ],
   "source": [
    "my_tuple = ('apple', 'banana', 'cherry', 'kiwi', 'banana', 'grapes')\n",
    "\n",
    "print(my_tuple.count('banana'))  # Count of 2 banana: 2\n",
    "print(my_tuple.index('kiwi'))  # Index of first kiwi: 3"
   ]
  },
  {
   "cell_type": "markdown",
   "id": "ce744a98",
   "metadata": {},
   "source": [
    "---\n",
    "\n",
    "## Looping Through Tuples 🔁\n",
    "\n",
    "### Using a `for` loop:"
   ]
  },
  {
   "cell_type": "code",
   "execution_count": 7,
   "id": "7db98e13",
   "metadata": {},
   "outputs": [
    {
     "name": "stdout",
     "output_type": "stream",
     "text": [
      "apple\n",
      "banana\n",
      "cherry\n",
      "kiwi\n",
      "banana\n",
      "grapes\n"
     ]
    }
   ],
   "source": [
    "for item in my_tuple:\n",
    "    print(item)"
   ]
  },
  {
   "cell_type": "markdown",
   "id": "fa8a89f6",
   "metadata": {},
   "source": [
    "### Using enumerate():"
   ]
  },
  {
   "cell_type": "code",
   "execution_count": 8,
   "id": "84b9d71c",
   "metadata": {},
   "outputs": [
    {
     "name": "stdout",
     "output_type": "stream",
     "text": [
      "Index 0 = apple\n",
      "Index 1 = banana\n",
      "Index 2 = cherry\n",
      "Index 3 = kiwi\n",
      "Index 4 = banana\n",
      "Index 5 = grapes\n"
     ]
    }
   ],
   "source": [
    "for i, val in enumerate(my_tuple):\n",
    "    print(f\"Index {i} = {val}\")"
   ]
  },
  {
   "cell_type": "markdown",
   "id": "b40fc178",
   "metadata": {},
   "source": [
    "---\n",
    "\n",
    "## Nested Tuples and Slicing 🧬\n",
    "\n",
    "### Nested Tuples:"
   ]
  },
  {
   "cell_type": "code",
   "execution_count": 9,
   "id": "9d2fc05e",
   "metadata": {},
   "outputs": [
    {
     "name": "stdout",
     "output_type": "stream",
     "text": [
      "3\n"
     ]
    }
   ],
   "source": [
    "nested = ((1, 2), (3, 4))\n",
    "print(nested[1][0])  # 3"
   ]
  },
  {
   "cell_type": "markdown",
   "id": "0c2ca3ef",
   "metadata": {},
   "source": [
    "### Slicing:"
   ]
  },
  {
   "cell_type": "code",
   "execution_count": 10,
   "id": "5cda8cd8",
   "metadata": {},
   "outputs": [
    {
     "name": "stdout",
     "output_type": "stream",
     "text": [
      "(1, 2, 3)\n"
     ]
    }
   ],
   "source": [
    "t = (0, 1, 2, 3, 4)\n",
    "print(t[1:4])  # (1, 2, 3)"
   ]
  },
  {
   "cell_type": "markdown",
   "id": "526f6452",
   "metadata": {},
   "source": [
    "---\n",
    "\n",
    "## 🧠 Pro Tips Section\n",
    "- Use tuples when your data **should not change**.\n",
    "- Tuples are **faster** than lists due to immutability.\n",
    "- Can be used as **dictionary keys**, unlike lists.\n",
    "- Don't forget the **comma** when creating single-element tuples.\n",
    "\n",
    "---\n"
   ]
  },
  {
   "cell_type": "markdown",
   "id": "6c499976",
   "metadata": {},
   "source": [
    "## 🎯 Quick Quiz Time\n",
    "\n",
    "### ✅ Quiz 1\n",
    "True or False: Tuples are mutable.\n",
    "<details><summary>Answer</summary>False</details>\n",
    "\n",
    "### ✅ Quiz 2\n",
    "What is the output of `(5,)[0]`?\n",
    "<details><summary>Answer</summary>5</details>\n",
    "\n",
    "### ✅ Quiz 3\n",
    "Which method returns the index of an item?\n",
    "<details><summary>Answer</summary>`index()`</details>\n",
    "\n",
    "---"
   ]
  },
  {
   "cell_type": "markdown",
   "id": "5ecf475d",
   "metadata": {},
   "source": [
    "## 🎤 Top Interview Questions\n",
    "1. What's the difference between a tuple and a list?\n",
    "2. Why use a tuple instead of a list?\n",
    "3. Can a tuple contain other tuples?\n",
    "4. How do you create a tuple with only one item?\n",
    "5. Are tuples faster than lists?\n",
    "\n",
    "---"
   ]
  },
  {
   "cell_type": "markdown",
   "id": "aaab9117",
   "metadata": {},
   "source": [
    "## 💻 Real World Challenge: Coordinate Tracker\n",
    "\n",
    "### Problem:\n",
    "Create a tuple-based tracker for coordinates (x, y). The user should be able to:\n",
    "- View all coordinates\n",
    "- Add a new coordinate\n",
    "- Exit\n",
    "\n",
    "### Starter Code:\n",
    "```python\n",
    "coordinates = ()\n",
    "\n",
    "while True:\n",
    "    print(\"\\nCoordinate Tracker\")\n",
    "    print(\"1. View Coordinates\")\n",
    "    print(\"2. Add Coordinate\")\n",
    "    print(\"3. Exit\")\n",
    "\n",
    "    choice = input(\"Enter choice: \")\n",
    "\n",
    "    if choice == '1':\n",
    "        print(\"Coordinates:\", coordinates)\n",
    "    elif choice == '2':\n",
    "        x = int(input(\"Enter x: \"))\n",
    "        y = int(input(\"Enter y: \"))\n",
    "        coordinates += ((x, y),)  # Add new tuple\n",
    "    elif choice == '3':\n",
    "        break\n",
    "    else:\n",
    "        print(\"Invalid choice\")\n",
    "```\n",
    "\n",
    "### Output Example:\n",
    "```\n",
    "Coordinate Tracker\n",
    "1. View Coordinates\n",
    "2. Add Coordinate\n",
    "3. Exit\n",
    "Enter choice: 2\n",
    "Enter x: 3\n",
    "Enter y: 4\n",
    "\n",
    "Coordinate Tracker\n",
    "1. View Coordinates\n",
    "2. Add Coordinate\n",
    "3. Exit\n",
    "Enter choice: 1\n",
    "Coordinates: ((3, 4),)\n",
    "```\n",
    "\n",
    "Tuples keep your data safe and unchanged. They’re simple, fast, and perfect for fixed collections. 🔐🚀\n",
    "\n",
    "---"
   ]
  },
  {
   "cell_type": "markdown",
   "id": "e87a5ee7",
   "metadata": {},
   "source": [
    "# ⭐Sets 📘\n",
    "\n",
    "A **set** in Python is an unordered collection of **unique** items.\n",
    "\n",
    "> Think of a set like a basket of fruits where no duplicates are allowed 🍎🍌🍇\n",
    "\n",
    "Example:\n",
    "```python\n",
    "fruits = {\"apple\", \"banana\", \"mango\"}\n",
    "```\n",
    "\n",
    "---\n",
    "\n",
    "## Creating and Accessing Sets 🛠️\n",
    "\n",
    "### Creating a Set:"
   ]
  },
  {
   "cell_type": "code",
   "execution_count": 11,
   "id": "7b2e042d",
   "metadata": {},
   "outputs": [],
   "source": [
    "my_set = {1, 2, 3}"
   ]
  },
  {
   "cell_type": "markdown",
   "id": "9cacb8fc",
   "metadata": {},
   "source": [
    "### Creating from a list:"
   ]
  },
  {
   "cell_type": "code",
   "execution_count": 12,
   "id": "37481dce",
   "metadata": {},
   "outputs": [],
   "source": [
    "my_list = [1, 2, 2, 3]\n",
    "unique_items = set(my_list)"
   ]
  },
  {
   "cell_type": "markdown",
   "id": "ae2772f7",
   "metadata": {},
   "source": [
    "### Accessing Elements:\n",
    "You **can’t access by index** because sets are unordered."
   ]
  },
  {
   "cell_type": "code",
   "execution_count": 13,
   "id": "1cffe0eb",
   "metadata": {},
   "outputs": [
    {
     "name": "stdout",
     "output_type": "stream",
     "text": [
      "1\n",
      "2\n",
      "3\n"
     ]
    }
   ],
   "source": [
    "for item in my_set:\n",
    "    print(item)"
   ]
  },
  {
   "cell_type": "markdown",
   "id": "3e8257f7",
   "metadata": {},
   "source": [
    "---\n",
    "\n",
    "## Set Properties 🔐\n",
    "- **Unordered** (no index positions)\n",
    "- **Mutable** (you can add/remove items)\n",
    "- **No duplicates** allowed\n",
    "- Can hold **mixed data types** (e.g., numbers and strings)\n",
    "\n",
    "---\n",
    "\n",
    "## Set Methods 🔧"
   ]
  },
  {
   "cell_type": "code",
   "execution_count": null,
   "id": "7489ab8d",
   "metadata": {},
   "outputs": [],
   "source": [
    "s = {1, 2, 3}\n",
    "s.add(4)       # Add single item\n",
    "s.update([5, 6])  # Add multiple items\n",
    "s.remove(2)    # Remove item (KeyError if not present)\n",
    "s.discard(10)  # No error if item doesn't exist\n",
    "s.pop()        # Removes random item\n",
    "s.clear()      # Empty the set"
   ]
  },
  {
   "cell_type": "markdown",
   "id": "d1e8da91",
   "metadata": {},
   "source": [
    "---\n",
    "\n",
    "## Set Operations ⚙️"
   ]
  },
  {
   "cell_type": "code",
   "execution_count": 14,
   "id": "3457184d",
   "metadata": {},
   "outputs": [
    {
     "name": "stdout",
     "output_type": "stream",
     "text": [
      "{1, 2, 3, 4, 5}\n",
      "{3}\n",
      "{1, 2}\n",
      "{1, 2, 4, 5}\n"
     ]
    }
   ],
   "source": [
    "a = {1, 2, 3}\n",
    "b = {3, 4, 5}\n",
    "\n",
    "print(a.union(b))       # {1, 2, 3, 4, 5}\n",
    "print(a.intersection(b))  # {3}\n",
    "print(a.difference(b))    # {1, 2}\n",
    "print(a.symmetric_difference(b))  # {1, 2, 4, 5}"
   ]
  },
  {
   "cell_type": "markdown",
   "id": "ddf356c0",
   "metadata": {},
   "source": [
    "### Set Comparisons:"
   ]
  },
  {
   "cell_type": "code",
   "execution_count": 15,
   "id": "76124730",
   "metadata": {},
   "outputs": [
    {
     "name": "stdout",
     "output_type": "stream",
     "text": [
      "False\n",
      "False\n",
      "False\n"
     ]
    }
   ],
   "source": [
    "print(a.issubset(b))\n",
    "print(a.issuperset(b))\n",
    "print(a.isdisjoint(b))"
   ]
  },
  {
   "cell_type": "markdown",
   "id": "025bde34",
   "metadata": {},
   "source": [
    "---\n",
    "\n",
    "## Looping Through Sets 🔁"
   ]
  },
  {
   "cell_type": "code",
   "execution_count": 16,
   "id": "284e0bf9",
   "metadata": {},
   "outputs": [
    {
     "name": "stdout",
     "output_type": "stream",
     "text": [
      "blue\n",
      "green\n",
      "red\n"
     ]
    }
   ],
   "source": [
    "colors = {\"red\", \"green\", \"blue\"}\n",
    "for color in colors:\n",
    "    print(color)"
   ]
  },
  {
   "cell_type": "markdown",
   "id": "6556b346",
   "metadata": {},
   "source": [
    "---\n",
    "\n",
    "## 🧠 Pro Tips Section\n",
    "- Use sets when **you need uniqueness**.\n",
    "- `set()` can convert lists/tuples to sets.\n",
    "- Sets are great for **fast membership tests** (`if x in set`).\n",
    "- Use `discard()` instead of `remove()` to avoid errors.\n",
    "\n",
    "---"
   ]
  },
  {
   "cell_type": "markdown",
   "id": "78d8f460",
   "metadata": {},
   "source": [
    "## 🎯 Quick Quiz Time\n",
    "\n",
    "### ✅ Quiz 1\n",
    "True or False: Sets allow duplicate values.\n",
    "<details><summary>Answer</summary>False</details>\n",
    "\n",
    "### ✅ Quiz 2\n",
    "What does `set([1, 1, 2])` return?\n",
    "<details><summary>Answer</summary>{1, 2}</details>\n",
    "\n",
    "### ✅ Quiz 3\n",
    "What method safely removes an item without raising an error?\n",
    "<details><summary>Answer</summary>`discard()`</details>\n",
    "\n",
    "---\n",
    "\n",
    "## 🎤 Top Interview Questions\n",
    "1. What are sets used for in Python?\n",
    "2. How are sets different from lists and tuples?\n",
    "3. How would you remove duplicates from a list?\n",
    "4. What’s the difference between `remove()` and `discard()`?\n",
    "5. Explain union and intersection in sets.\n",
    "\n",
    "---\n",
    "\n",
    "## 💻 Real World Challenge: Duplicate Email Cleaner\n",
    "\n",
    "### Problem:\n",
    "You have a list of email addresses with duplicates. Your task:\n",
    "- Remove duplicate emails\n",
    "- Print a unique list\n",
    "\n",
    "### Starter Code:\n",
    "```python\n",
    "emails = [\n",
    "    \"user1@mail.com\",\n",
    "    \"user2@mail.com\",\n",
    "    \"user1@mail.com\",\n",
    "    \"user3@mail.com\"\n",
    "]\n",
    "\n",
    "unique_emails = set(emails)\n",
    "for email in unique_emails:\n",
    "    print(email)\n",
    "```\n",
    "\n",
    "### Output Example:\n",
    "```\n",
    "user3@mail.com\n",
    "user2@mail.com\n",
    "user1@mail.com\n",
    "```\n",
    "\n",
    "Sets are your go-to when duplicates are a no-no and speed matters. Learn them, love them! 🚀\n",
    "\n",
    "---"
   ]
  },
  {
   "cell_type": "markdown",
   "id": "33ee4100",
   "metadata": {},
   "source": [
    "# ⭐Dictionaries 📘\n",
    "\n",
    "A **dictionary** in Python is a collection of **key-value** pairs.\n",
    "\n",
    "> Think of it like a real-life dictionary 📖 — you look up a word (key) and get the meaning (value).\n",
    "\n",
    "Example:\n",
    "```python\n",
    "student = {\n",
    "    \"name\": \"Ahmad\",\n",
    "    \"age\": 20,\n",
    "    \"grade\": \"A\"\n",
    "}\n",
    "```\n",
    "\n",
    "---\n",
    "\n",
    "## Creating and Accessing Dictionaries 🛠️\n",
    "\n",
    "### Creating a Dictionary:\n"
   ]
  },
  {
   "cell_type": "code",
   "execution_count": 24,
   "id": "5c4fc62a",
   "metadata": {},
   "outputs": [],
   "source": [
    "person = {\n",
    "    \"name\": \"Usman❤️\",\n",
    "    \"city\": \"Lahore\"\n",
    "}"
   ]
  },
  {
   "cell_type": "markdown",
   "id": "cdf455cf",
   "metadata": {},
   "source": [
    "### Accessing Values:"
   ]
  },
  {
   "cell_type": "code",
   "execution_count": 25,
   "id": "17f53bcb",
   "metadata": {},
   "outputs": [
    {
     "name": "stdout",
     "output_type": "stream",
     "text": [
      "Usman❤️\n",
      "Lahore\n"
     ]
    }
   ],
   "source": [
    "print(person[\"name\"])  # Usman ❤️\n",
    "print(person.get(\"city\"))  # Lahore"
   ]
  },
  {
   "cell_type": "markdown",
   "id": "2448fc62",
   "metadata": {},
   "source": [
    "---\n",
    "\n",
    "## Modifying Dictionaries 🧰\n",
    "\n",
    "### Updating Values:"
   ]
  },
  {
   "cell_type": "code",
   "execution_count": null,
   "id": "35da4d4a",
   "metadata": {},
   "outputs": [],
   "source": [
    "person[\"city\"] = \"Islamabad\""
   ]
  },
  {
   "cell_type": "markdown",
   "id": "4d51260a",
   "metadata": {},
   "source": [
    "### Adding New Key-Value:"
   ]
  },
  {
   "cell_type": "code",
   "execution_count": 26,
   "id": "b0bb0b06",
   "metadata": {},
   "outputs": [],
   "source": [
    "person[\"age\"] = 21"
   ]
  },
  {
   "cell_type": "markdown",
   "id": "4ade3db2",
   "metadata": {},
   "source": [
    "### Removing Key-Value Pairs:"
   ]
  },
  {
   "cell_type": "code",
   "execution_count": 27,
   "id": "3002aca8",
   "metadata": {},
   "outputs": [
    {
     "data": {
      "text/plain": [
       "'Lahore'"
      ]
     },
     "execution_count": 27,
     "metadata": {},
     "output_type": "execute_result"
    }
   ],
   "source": [
    "del person[\"age\"]\n",
    "person.pop(\"city\")"
   ]
  },
  {
   "cell_type": "markdown",
   "id": "24641b57",
   "metadata": {},
   "source": [
    "---\n",
    "\n",
    "## Dictionary Methods 🔧"
   ]
  },
  {
   "cell_type": "code",
   "execution_count": null,
   "id": "57e5594e",
   "metadata": {},
   "outputs": [],
   "source": [
    "d = {\"a\": 1, \"b\": 2, \"c\": 3}\n",
    "\n",
    "print(d.keys())      # dict_keys(['a', 'b', 'c'])\n",
    "print(d.values())    # dict_values([1, 2, 3])\n",
    "print(d.items())     # dict_items([('a', 1), ('b', 2), ('c', 3)])\n",
    "\n",
    "copy_dict = d.copy()\n",
    "d.clear()  # empties the dictionary"
   ]
  },
  {
   "cell_type": "markdown",
   "id": "84301305",
   "metadata": {},
   "source": [
    "---\n",
    "\n",
    "## Looping Through Dictionaries 🔁"
   ]
  },
  {
   "cell_type": "code",
   "execution_count": 28,
   "id": "d8d56eb3",
   "metadata": {},
   "outputs": [
    {
     "name": "stdout",
     "output_type": "stream",
     "text": [
      "name Usman❤️\n",
      "name: Usman❤️\n"
     ]
    }
   ],
   "source": [
    "for key in person:\n",
    "    print(key, person[key])\n",
    "\n",
    "# OR\n",
    "for key, value in person.items():\n",
    "    print(f\"{key}: {value}\")"
   ]
  },
  {
   "cell_type": "markdown",
   "id": "314bb0b9",
   "metadata": {},
   "source": [
    "---\n",
    "\n",
    "## Nested Dictionaries 🧬"
   ]
  },
  {
   "cell_type": "code",
   "execution_count": null,
   "id": "d8eb607b",
   "metadata": {},
   "outputs": [],
   "source": [
    "students = {\n",
    "    \"student1\": {\"name\": \"Ali\", \"age\": 20},\n",
    "    \"student2\": {\"name\": \"Fatima\", \"age\": 22}\n",
    "}\n",
    "\n",
    "print(students[\"student1\"][\"name\"])  # Ali"
   ]
  },
  {
   "cell_type": "markdown",
   "id": "baf57dab",
   "metadata": {},
   "source": [
    "---\n",
    "\n",
    "## 🧠 Pro Tips Section\n",
    "- Keys must be **unique and immutable** (e.g., strings, numbers, tuples)\n",
    "- Values can be any type (even lists or other dicts)\n",
    "- Use `.get()` to avoid errors when key doesn't exist\n",
    "- Combine dictionaries using `dict1.update(dict2)`\n",
    "\n",
    "---\n",
    "\n",
    "## 🎯 Quick Quiz Time\n",
    "\n",
    "### ✅ Quiz 1\n",
    "Which method safely gets a value without error?\n",
    "<details><summary>Answer</summary>`get()`</details>\n",
    "\n",
    "### ✅ Quiz 2\n",
    "Can dictionary keys be lists?\n",
    "<details><summary>Answer</summary>No, keys must be immutable (lists are mutable)</details>\n",
    "\n",
    "### ✅ Quiz 3\n",
    "What does `d.items()` return?\n",
    "<details><summary>Answer</summary>A view object of key-value pairs</details>\n",
    "\n",
    "---\n",
    "\n",
    "## 🎤 Top Interview Questions\n",
    "1. What's the difference between a dictionary and a list?\n",
    "2. How do you check if a key exists in a dictionary?\n",
    "3. What happens if you use a mutable type as a dictionary key?\n",
    "4. How do you merge two dictionaries?\n",
    "5. Explain the role of `.get()` and `.setdefault()`.\n",
    "\n",
    "---\n",
    "\n",
    "## 💻 Real World Challenge: Student Scorebook\n",
    "\n",
    "### Problem:\n",
    "Build a simple dictionary to track students and their scores.\n",
    "\n",
    "### Starter Code:\n",
    "```python\n",
    "scores = {\n",
    "    \"Ali\": 85,\n",
    "    \"Fatima\": 92,\n",
    "    \"Zara\": 78\n",
    "}\n",
    "\n",
    "for name, score in scores.items():\n",
    "    print(f\"{name}: {score}\")\n",
    "```\n",
    "\n",
    "### Expected Output:\n",
    "```\n",
    "Ali: 85\n",
    "Fatima: 92\n",
    "Zara: 78\n",
    "```\n",
    "\n",
    "---\n",
    "\n",
    "## 🚀 Mini Project Challenge: Contact Book\n",
    "\n",
    "### Problem Statement:\n",
    "Build a command-line **Contact Book** that allows the user to:\n",
    "- Add a new contact (name, phone)\n",
    "- View all contacts\n",
    "- Search for a contact by name\n",
    "- Exit the program\n",
    "\n",
    "### Output Example:\n",
    "```\n",
    "Contact Book\n",
    "1. Add Contact\n",
    "2. View Contacts\n",
    "3. Search Contact\n",
    "4. Exit\n",
    "Enter your choice: 1\n",
    "Name: Ahmad\n",
    "Phone: 12345\n",
    "Contact added!\n",
    "```\n",
    "\n",
    "Dictionaries are one of the most powerful tools in Python. Learn them well, and you’ll level up your data organizing game. 🚀\n",
    "\n",
    "---"
   ]
  },
  {
   "cell_type": "code",
   "execution_count": 4,
   "id": "6e71ed05",
   "metadata": {},
   "outputs": [
    {
     "name": "stdout",
     "output_type": "stream",
     "text": [
      "\n",
      "Contact Book\n",
      "1. Add Contact\n",
      "2. View Contacts\n",
      "3. Search Contact\n",
      "4. Exit\n",
      "Goodbye!\n"
     ]
    }
   ],
   "source": [
    "contacts = {}\n",
    "\n",
    "while True:\n",
    "    print(\"\\nContact Book\")\n",
    "    print(\"1. Add Contact\")\n",
    "    print(\"2. View Contacts\")\n",
    "    print(\"3. Search Contact\")\n",
    "    print(\"4. Exit\")\n",
    "\n",
    "    choice = input(\"Enter your choice: \")\n",
    "\n",
    "    if choice == '1':\n",
    "        name = input(\"Name: \")\n",
    "        phone = input(\"Phone: \")\n",
    "        contacts[name] = phone\n",
    "        print(\"Contact added!\")\n",
    "    elif choice == '2':\n",
    "        for name, phone in contacts.items():\n",
    "            print(f\"{name}: {phone}\")\n",
    "    elif choice == '3':\n",
    "        name = input(\"Enter name to search: \")\n",
    "        if name in contacts:\n",
    "            print(f\"{name}: {contacts[name]}\")\n",
    "        else:\n",
    "            print(\"Contact not found.\")\n",
    "    elif choice == '4':\n",
    "        print(\"Goodbye!\")\n",
    "        break\n",
    "    else:\n",
    "        \n",
    "        print(\"Invalid option\")"
   ]
  },
  {
   "cell_type": "markdown",
   "id": "edaa9671",
   "metadata": {},
   "source": [
    "---\n",
    "\n",
    "# Comprehensions 🌱\n",
    " Comprehensions provide a concise way to create collections (lists, dicts, sets) from iterable objects.\n",
    "\n",
    "### 🔁 Traditional way:"
   ]
  },
  {
   "cell_type": "code",
   "execution_count": null,
   "id": "90556977",
   "metadata": {},
   "outputs": [],
   "source": [
    "squares = []\n",
    "for i in range(5):\n",
    "    squares.append(i**2)\n",
    "print(squares)  # [0, 1, 4, 9, 16]"
   ]
  },
  {
   "cell_type": "markdown",
   "id": "fa7b2c4b",
   "metadata": {},
   "source": [
    "### 😎 With list comprehension:"
   ]
  },
  {
   "cell_type": "code",
   "execution_count": null,
   "id": "47bf7b5a",
   "metadata": {},
   "outputs": [],
   "source": [
    "squares = [i**2 for i in range(5)]\n",
    "print(squares)\n"
   ]
  },
  {
   "cell_type": "markdown",
   "id": "faca07c5",
   "metadata": {},
   "source": [
    "## 🧵 List Comprehensions\n",
    "\n",
    "### 🎯 Basic Syntax:\n",
    " `[expression for item in iterable if condition]`\n",
    "\n",
    "### ✅ Examples:"
   ]
  },
  {
   "cell_type": "code",
   "execution_count": 5,
   "id": "68fc54be",
   "metadata": {},
   "outputs": [
    {
     "name": "stdout",
     "output_type": "stream",
     "text": [
      "Even numbers: [0, 2, 4, 6, 8]\n",
      "['HELLO', 'WORLD']\n"
     ]
    }
   ],
   "source": [
    "evens = [x for x in range(10) if x % 2 == 0]\n",
    "print(\"Even numbers:\", evens)\n",
    "\n",
    "words = [word.upper() for word in [\"hello\", \"world\"]]\n",
    "print(words)"
   ]
  },
  {
   "cell_type": "markdown",
   "id": "9ed1be73",
   "metadata": {},
   "source": [
    "### ✅ Nested List Comprehension:"
   ]
  },
  {
   "cell_type": "code",
   "execution_count": null,
   "id": "62157fab",
   "metadata": {},
   "outputs": [],
   "source": [
    "matrix = [[j for j in range(3)] for i in range(3)]\n",
    "print(matrix)"
   ]
  },
  {
   "cell_type": "markdown",
   "id": "38d752c4",
   "metadata": {},
   "source": [
    "---\n",
    "\n",
    "## 📦 Dictionary Comprehensions\n",
    "\n",
    "### 🎯 Syntax:\n",
    " `{key_expr: value_expr for item in iterable if condition}`\n",
    "\n",
    "### ✅ Example:"
   ]
  },
  {
   "cell_type": "code",
   "execution_count": null,
   "id": "6e238596",
   "metadata": {},
   "outputs": [],
   "source": [
    "square_dict = {x: x**2 for x in range(5)}\n",
    "print(square_dict)"
   ]
  },
  {
   "cell_type": "markdown",
   "id": "6b170eb0",
   "metadata": {},
   "source": [
    "### Filtered dict:"
   ]
  },
  {
   "cell_type": "code",
   "execution_count": null,
   "id": "650c4821",
   "metadata": {},
   "outputs": [],
   "source": [
    "names = [\"Alice\", \"Bob\", \"Charlie\"]\n",
    "name_lengths = {name: len(name) for name in names if len(name) > 3}\n",
    "print(name_lengths)"
   ]
  },
  {
   "cell_type": "markdown",
   "id": "171e70cc",
   "metadata": {},
   "source": [
    "---\n",
    "\n",
    "## 🔘 Set Comprehensions\n",
    "\n",
    "### 🎯 Syntax:\n",
    " `{expression for item in iterable if condition}`\n",
    "\n",
    "### ✅ Example:"
   ]
  },
  {
   "cell_type": "code",
   "execution_count": 6,
   "id": "becdcf5d",
   "metadata": {},
   "outputs": [
    {
     "name": "stdout",
     "output_type": "stream",
     "text": [
      "{'d', 'h', 'w', 'r', 'o', 'e', 'l'}\n"
     ]
    }
   ],
   "source": [
    "unique_letters = {letter for word in [\"hello\", \"world\"] for letter in word}\n",
    "print(unique_letters)\n"
   ]
  },
  {
   "cell_type": "markdown",
   "id": "b2de1526",
   "metadata": {},
   "source": [
    "## ⛔ Common Mistakes\n",
    "\n",
    "- ❌ Forgetting the brackets:\n",
    " `x = for i in range(5): i*i   ← ❌ SyntaxError`\n",
    "\n",
    "- ❌ Using the wrong collection type:\n",
    " `Remember: [] for list, {} for dict/set`\n",
    "\n",
    "## 🧠 Pro Tips\n",
    "- Use comprehensions to replace simple for-loops\n",
    "- Avoid too much nesting (hurts readability)\n",
    "- You can use ternary if/else inside!\n",
    "'Example:'\n",
    "`tagged = [\"even\" if x%2==0 else \"odd\" for x in range(5)]\n",
    "print(tagged)`\n",
    "\n",
    "## 🎯 Quick Quiz Time!\n",
    "\n",
    "**Q1:** What does this return?\n",
    " `[x*2 for x in range(3)]`\n",
    "- A. [1, 2, 3]   \n",
    "- B. [0, 2, 4]   \n",
    "- C. [2, 4, 6]\n",
    "\n",
    "**Q2:** Which comprehension creates a set of squares from 1 to 5?\n",
    "```python\n",
    "  A. {x**2 for x in range(1,6)}   \n",
    "  B. [x**2 for x in range(1,6)]\n",
    "```\n",
    "\n",
    "**Q3:** True/False — You can use `if/else` inside a list comprehension.\n",
    "\n",
    " <details><summary>📝 Answers</summary>\n",
    "Q1: B\n",
    "Q2: A\n",
    "Q3: True\n",
    "</details>\n",
    "\n",
    "# 🎤 Top Interview Questions\n",
    "\n",
    "**Q1:** How do you create a dictionary from two lists using comprehension?\n",
    "**# Q2:** What's the difference between set and list comprehension?\n",
    "**# Q3:** Can comprehensions be nested? When should you avoid it?\n",
    "**# Q4:** How do you use conditional logic inside a comprehension?\n",
    "\n",
    "<details><summary>📘 Answers</summary>\n",
    "Q1: {k: v for k, v in zip(list1, list2)}\n",
    "Q2: Set removes duplicates automatically\n",
    "Q3: Yes, but avoid too many levels for readability\n",
    "Q4: Use ternary: [x if cond else y for x in items]\n",
    "</details>\n",
    "\n",
    "## 💻 Real World Challenge: Grading System\n",
    " \n",
    "`🔧 Problem:`  \n",
    "You have a list of scores. Create a dictionary where\n",
    "```python\n",
    " key = student index, value = 'Pass' or 'Fail' (pass if score >= 50)\n",
    "``` \n"
   ]
  },
  {
   "cell_type": "code",
   "execution_count": null,
   "id": "a521f342",
   "metadata": {},
   "outputs": [],
   "source": [
    "# 💡 Hint: Use enumerate()\n",
    "scores = [85, 42, 78, 30, 90]\n",
    "result = {i: (\"Pass\" if score >= 50 else \"Fail\") for i, score in enumerate(scores)}\n",
    "print(result)"
   ]
  },
  {
   "cell_type": "markdown",
   "id": "a808467c",
   "metadata": {},
   "source": [
    "---\n",
    "\n",
    "#  ⭐What is OOP and Why Should You Care? 📘\n",
    "Imagine you're building a game, a library system, or a website. You'll often deal with **real-world things** like players, books, users, products, etc.\n",
    "OOP (Object-Oriented Programming) helps you **model real-world things** in code by using **classes** and **objects**.\n",
    "\n",
    "---\n",
    "\n",
    "## 🧱 Think of a Class as a Blueprint\n",
    "A **class** is like a blueprint for creating things.\n",
    "For example, you can have a class `Dog` that describes **what every dog has and can do**.\n",
    "\n",
    "A blueprint isn't a real dog, but you can use it to create real dogs (which are called **objects** or **instances**).\n",
    "\n",
    "\n",
    "---\n",
    "\n",
    "## 🐶 Let's Create Our First Class"
   ]
  },
  {
   "cell_type": "code",
   "execution_count": 2,
   "id": "5f449a2a",
   "metadata": {},
   "outputs": [
    {
     "name": "stdout",
     "output_type": "stream",
     "text": [
      "Buddy\n",
      "Luna says woof!\n"
     ]
    }
   ],
   "source": [
    "class Dog:\n",
    "    def __init__(self, name, breed):\n",
    "        self.name = name        # Every dog will have a name\n",
    "        self.breed = breed      # ...and a breed\n",
    "\n",
    "    def bark(self): # method\n",
    "        print(f\"{self.name} says woof!\")\n",
    "\n",
    "# 🐾 Creating Objects (Real Dogs!)\n",
    "dog1 = Dog(\"Buddy\", \"Golden Retriever\") \n",
    "dog2 = Dog(\"Luna\", \"German Shepherd\")   \n",
    "\n",
    "# Now we've made two objects(real dogs) using the Dog class.\n",
    "print(dog1.name)     \n",
    "dog2.bark()          "
   ]
  },
  {
   "cell_type": "markdown",
   "id": "759a7c40",
   "metadata": {},
   "source": [
    "### 🏗️ What is a Constructor(`_init_`)?\n",
    "A constructor is a special method that automatically runs when you create a new object from a class.\n",
    "\n",
    "In Python, the constructor is defined using the` __init__() `method.\n",
    "\n",
    "`📦 Purpose:`  \n",
    "It initializes (sets up) the object’s attributes (like setting the name, age, or color when you create a pet)."
   ]
  },
  {
   "cell_type": "markdown",
   "id": "0a0fffa2",
   "metadata": {},
   "source": [
    "### 🧠 What's self?\n",
    "- `self` refers to the current object being created. self = current object\n",
    "\n",
    "- You always need to include it as the first parameter in object methods (also in constructer).\n",
    "\n",
    "- Every method in a class must have `self` as the first parameter (even if you don’t pass it manually)."
   ]
  },
  {
   "cell_type": "markdown",
   "id": "8038e62d",
   "metadata": {},
   "source": [
    "### 📝 Analogy:\n",
    "Think of `__init__()` like a setup checklist for building a robot 🤖. When you create the robot, it needs a name, battery level, and abilities. The constructor ensures the robot is fully ready to go once built."
   ]
  },
  {
   "cell_type": "markdown",
   "id": "2f4544d3",
   "metadata": {},
   "source": [
    "💬 Summary:\n",
    "- Constructor in Python = __init__() method\n",
    "\n",
    "- Automatically runs when you create an object\n",
    "\n",
    "- Used to set up default values or require inputs"
   ]
  },
  {
   "cell_type": "markdown",
   "id": "5935cac3",
   "metadata": {},
   "source": [
    "### 🎯 What Are Attributes?\n",
    "The data or variables stored inside an object is called attributes. Think of them as the characteristics or properties of that object."
   ]
  },
  {
   "cell_type": "code",
   "execution_count": 1,
   "id": "b3bbde9f",
   "metadata": {},
   "outputs": [],
   "source": [
    "# Let's take the exp again\n",
    "class Dog:\n",
    "    def __init__(self, name, breed):\n",
    "        self.name = name\n",
    "        self.breed = breed\n",
    "\n",
    "dog1 = Dog(\"Buddy\", \"Golden Retriever\") "
   ]
  },
  {
   "cell_type": "markdown",
   "id": "7e72d35f",
   "metadata": {},
   "source": [
    "Here, `name` and `breed` are attributes of my_dog.\n",
    "\n",
    "You can access them like this:\n",
    "\n",
    "```python\n",
    "print(my_dog.name)   # Buddy\n",
    "print(my_dog.breed)  # Labrador\n",
    "```"
   ]
  },
  {
   "cell_type": "markdown",
   "id": "a7ce8cc4",
   "metadata": {},
   "source": [
    "### 🔍 Types of Attributes:\n",
    "`1. Instance Attributes:`\n",
    "\n",
    "- Belong to a specific object\n",
    "\n",
    "- Defined in `__init__()` using self  \n",
    "\n",
    "`EXP:`\n",
    "\n",
    "```python\n",
    "self.name = name\n",
    "```\n",
    "`2. Class Attributes:`\n",
    "\n",
    "- Shared by all objects of the class\n",
    "\n",
    "- Defined outside or before __init__()\n",
    "\n",
    "`EXP:`\n",
    "```python\n",
    "class Dog:\n",
    "    species = \"Canis familiaris\"  # Class attribute\n",
    "    def __init__(self, name):\n",
    "        self.name = name # Instance Attribute\n",
    "```\n",
    "\n",
    "`Object Attribute > Class Attributes`"
   ]
  },
  {
   "cell_type": "markdown",
   "id": "723a9814",
   "metadata": {},
   "source": [
    "### 🧠 Summary:\n",
    "| Term | Think of it as...\t| Example |\n",
    "|------|--------------------|---------------|\n",
    "| Attribute | Data/property of the object |\t`name`, `breed` |\n",
    "| Instance | One specific object | `my_dog` |\n",
    "| Class\t| Blueprint for creating objects | `Dog` |"
   ]
  },
  {
   "cell_type": "markdown",
   "id": "6f8025a1",
   "metadata": {},
   "source": [
    "---\n",
    "\n",
    "## 🧪 Code Playground: Try Your Own Example\n",
    "Let's make a class for a car!"
   ]
  },
  {
   "cell_type": "code",
   "execution_count": 7,
   "id": "cb2e1125",
   "metadata": {},
   "outputs": [
    {
     "name": "stdout",
     "output_type": "stream",
     "text": [
      "Toyota\n",
      "Toyota goes beep beep!\n"
     ]
    }
   ],
   "source": [
    "class Car:\n",
    "    def __init__(self, brand, year):\n",
    "        self.brand = brand\n",
    "        self.year = year\n",
    "\n",
    "    def honk(self):\n",
    "        print(f\"{self.brand} goes beep beep!\")\n",
    "\n",
    "my_car = Car(\"Toyota\", 2020)\n",
    "print(my_car.brand)   # Output: Toyota\n",
    "my_car.honk()         # Output: Toyota goes beep beep!"
   ]
  },
  {
   "cell_type": "markdown",
   "id": "5c5ee8fe",
   "metadata": {},
   "source": [
    "---\n",
    "\n",
    "## ✅ Pro Tips\n",
    "- Class names use **CapitalizedWords** (this is called CamelCase).\n",
    "- Always include `self` in instance methods.\n",
    "- `__init__` is the constructor. It's called automatically when you create an object.\n",
    "- Use `f\"{}` syntax for clean, readable string formatting.\n",
    "\n",
    "---\n",
    "\n",
    "## ❓ Quick Quiz (Try Before Looking!)\n",
    "1. What is a class in Python?\n",
    "2. What does `self` do?\n",
    "3. Can two objects from the same class have different values?\n",
    "\n",
    "**Answers:**\n",
    "1. A class is a blueprint for creating objects.\n",
    "2. `self` refers to the specific object that is calling the method.\n",
    "3. Yes! Each object can hold its own data.\n",
    "\n",
    "---\n",
    "## 🎯 Real-World Challenge: Create a Book Class\n",
    "Write a class called `Book` that includes:\n",
    "- `title`\n",
    "- `author`\n",
    "- `pages`\n",
    "\n",
    "Add a method called `description()` that prints the book's info."
   ]
  },
  {
   "cell_type": "code",
   "execution_count": null,
   "id": "61811414",
   "metadata": {},
   "outputs": [
    {
     "name": "stdout",
     "output_type": "stream",
     "text": [
      "Clean Code by Robert C. Martin, 464 pages.\n"
     ]
    }
   ],
   "source": [
    "class Book:\n",
    "    # This is a class named 'Book'. A class is a blueprint for creating objects.\n",
    "    # It defines the attributes (data) and methods (actions) that objects of this class will have.\n",
    "    def __init__(self, title, author, pages):\n",
    "        # This is the constructor method. It's automatically called when you create a new object of the Book class.\n",
    "        # 'self' refers to the instance of the object being created.\n",
    "        self.title = title  # 'self.title' creates an attribute called 'title' for this specific book object and assigns the provided 'title' value to it.\n",
    "        self.author = author  # Similarly, this creates an 'author' attribute and assigns the provided 'author' value.\n",
    "        self.pages = pages  # And this creates a 'pages' attribute and assigns the provided 'pages' value.\n",
    "\n",
    "    def description(self):\n",
    "        # This is a method named 'description'. Methods are functions that are associated with an object.\n",
    "        # They can access and manipulate the object's attributes.\n",
    "        # Again, 'self' refers to the specific book object that this method is being called on.\n",
    "        print(f\"{self.title} by {self.author}, {self.pages} pages.\")\n",
    "\n",
    "# Here, 'book1' is an object (or instance) of the Book class.\n",
    "# When this line is executed, the __init__ method of the Book class is called with the provided arguments.\n",
    "book1 = Book(\"Clean Code\", \"Robert C. Martin\", 464)\n",
    "book1.description() # This line calls the 'description' method on the 'book1' object."
   ]
  },
  {
   "cell_type": "markdown",
   "id": "95db7c34",
   "metadata": {},
   "source": [
    "---\n",
    "\n",
    "## 🧾 Summary (Cheat Sheet Style)\n",
    "| Term | Meaning |\n",
    "|------|---------|\n",
    "| class | Blueprint for objects |\n",
    "| object | Instance of a class |\n",
    "| `__init__` | Constructor method called when object is created |\n",
    "| `self` | Refers to the current object |\n",
    "| method | Function inside a class |\n",
    "\n",
    "---"
   ]
  },
  {
   "cell_type": "markdown",
   "id": "90c660cb",
   "metadata": {},
   "source": [
    "## 📘 What is Encapsulation?\n",
    "Encapsulation is about **protecting the internal state** of an object and exposing only what's necessary. Think of it like a smartphone—you can use it without knowing how it works internally.\n",
    "\n",
    "In Python, you use **private attributes** (with `_` or `__`) to keep things internal.\n",
    "\n",
    "---\n",
    "\n",
    "## 🔒 Public vs Private Variables\n",
    "By default, everything in a class is public.\n",
    "But you can make something private using:\n",
    "\n",
    "- `_single_underscore` → a hint (\"please don't touch this\")\n",
    "- `__double_underscore` → name mangling (Python makes it harder to access)\n"
   ]
  },
  {
   "cell_type": "code",
   "execution_count": 13,
   "id": "4c67931b",
   "metadata": {},
   "outputs": [],
   "source": [
    "class BankAccount:\n",
    "    def __init__(self, owner, balance):\n",
    "        self.owner = owner\n",
    "        self.__balance = balance  # private\n",
    "\n",
    "    def deposit(self, amount):\n",
    "        if amount > 0:\n",
    "            self.__balance += amount\n",
    "\n",
    "    def withdraw(self, amount):\n",
    "        if 0 < amount <= self.__balance:\n",
    "            self.__balance -= amount\n",
    "        else:\n",
    "            print(\"Insufficient funds\")\n",
    "\n",
    "    def get_balance(self):\n",
    "        return self.__balance"
   ]
  },
  {
   "cell_type": "markdown",
   "id": "e008ab68",
   "metadata": {},
   "source": [
    "---\n",
    "\n",
    "## 🧪 Using the BankAccount Class"
   ]
  },
  {
   "cell_type": "code",
   "execution_count": null,
   "id": "a39a3213",
   "metadata": {},
   "outputs": [
    {
     "name": "stdout",
     "output_type": "stream",
     "text": [
      "700\n"
     ]
    }
   ],
   "source": [
    "acc = BankAccount(\"Alice\", 1000)\n",
    "acc.deposit(200)\n",
    "acc.withdraw(500)\n",
    "print(acc.get_balance())  # 700\n",
    "\n",
    "# Try to access the private variable directly\n",
    "# print(acc.__balance)  # ❌ AttributeError\n"
   ]
  },
  {
   "cell_type": "markdown",
   "id": "75dcaeb3",
   "metadata": {},
   "source": [
    "Even though `__balance` is not truly private, Python renames it internally so it's harder to mess with by mistake."
   ]
  },
  {
   "cell_type": "markdown",
   "id": "a2e3b188",
   "metadata": {},
   "source": [
    "---\n",
    "\n",
    "## 🧰 @property Decoraters\n",
    "These are methods to **read and write private variables** safely.\n",
    "Python gives us a cleaner way to do this using `@property` decorators. The @property decorator allows you to access methods like attributes—without needing parentheses."
   ]
  },
  {
   "cell_type": "code",
   "execution_count": 42,
   "id": "bbb215f4",
   "metadata": {},
   "outputs": [
    {
     "name": "stdout",
     "output_type": "stream",
     "text": [
      "Mr Ahmad\n",
      "Choudhary sb\n"
     ]
    }
   ],
   "source": [
    "class Student:\n",
    "    def __init__(self, name):\n",
    "        self._name = name\n",
    "\n",
    "    @property\n",
    "    def name(self):\n",
    "        return self._name\n",
    "\n",
    "    @name.setter\n",
    "    def name(self, value):\n",
    "        if value:\n",
    "            self._name = value\n",
    "        else:\n",
    "            print(\"Name can't be empty\")\n",
    "\n",
    "s1 = Student(\"Mr Ahmad\")  # No () — looks like an attribute, works like a method!\n",
    "print(s1.name)\n",
    "s1.name = \"Choudhary sb\" # safe update\n",
    "print(s1.name)           # Updated Successfully "
   ]
  },
  {
   "cell_type": "markdown",
   "id": "bfb1526b",
   "metadata": {},
   "source": [
    "---\n",
    "\n",
    "## ✅ Pro Tips\n",
    "- Use one underscore `_var` to mark \"internal use\" only.\n",
    "- Use two underscores `__var` to make it harder to access.\n",
    "- Use `@property` when you want to access values like attributes but control them like methods.\n",
    "\n",
    "---\n",
    "\n",
    "## ❓ Quick Quiz\n",
    "1. What is encapsulation?\n",
    "2. What does `__` do to a variable?\n",
    "3. How do you safely access a private variable?\n",
    "\n",
    "**Answers:**\n",
    "1. Hiding internal details and showing only what's necessary.\n",
    "2. It triggers name mangling to protect access.\n",
    "3. Use methods like `get_`/`set_` or `@property`.\n",
    "\n",
    "---\n",
    "\n",
    "## 🎯 Real-World Challenge\n",
    "Create a class `PasswordManager` that:\n",
    "- Stores a private password\n",
    "- Lets you read the password with a method\n",
    "- Lets you update it only if it's at least 8 characters\n"
   ]
  },
  {
   "cell_type": "code",
   "execution_count": 16,
   "id": "6ace1770",
   "metadata": {},
   "outputs": [
    {
     "name": "stdout",
     "output_type": "stream",
     "text": [
      "mySecret\n",
      "Your password is too short.\n",
      "newSecurePass\n"
     ]
    }
   ],
   "source": [
    "class PasswordManager:\n",
    "    def __init__(self, password):\n",
    "        self.__password = password\n",
    "\n",
    "    def get_password(self):\n",
    "        return self.__password\n",
    "    \n",
    "    def set_password(self, new_password):\n",
    "        if len(new_password) >= 8:\n",
    "            self.__password = new_password\n",
    "        else:\n",
    "            print(\"Your password is too short.\")\n",
    "\n",
    "pm = PasswordManager(\"mySecret\")\n",
    "print(pm.get_password())\n",
    "pm.set_password(\"123\")            # Too short\n",
    "pm.set_password(\"newSecurePass\")\n",
    "print(pm.get_password())\n"
   ]
  },
  {
   "cell_type": "markdown",
   "id": "f66b77b9",
   "metadata": {},
   "source": [
    "---\n",
    "\n",
    "## 🧾 Summary\n",
    "| Concept | What it Means |\n",
    "|---------|----------------|\n",
    "| Encapsulation | Hiding internal data |\n",
    "| Private variable | Defined with `__varname` |\n",
    "| Getter | Method to read data |\n",
    "| Setter | Method to write data |\n",
    "| `@property` | Pythonic way to use getters/setters |\n",
    "\n",
    "---"
   ]
  },
  {
   "cell_type": "markdown",
   "id": "32b3955d",
   "metadata": {},
   "source": [
    "#  ⭐Inheritance 🧬 – Reusing Code Like a Pro\n",
    "\n",
    "### 📘 What is Inheritance?\n",
    "Imagine you're designing a zoo app 🦁🐶🐱. You notice that every animal shares some common features — they have names and they can make sounds. Instead of writing the same code for each animal, you write it **once** in a general class called `Animal`, and then let specific animals like `Dog` and `Cat` **inherit** from it. This is inheritance!\n",
    "\n",
    "Inheritance lets you:\n",
    "- Reuse code\n",
    "- Avoid repetition (DRY: Don't Repeat Yourself)\n",
    "- Create a natural hierarchy of classes (like Animal → Dog, Cat, etc.)\n",
    "\n",
    "---\n",
    "\n",
    "## 🧱 Base Class and Subclass\n",
    "- A **base class** (also called a parent class) has the common stuff.\n",
    "- A **subclass** (or child class) inherits everything from the base class and can also have its own extra stuff.\n"
   ]
  },
  {
   "cell_type": "code",
   "execution_count": null,
   "id": "5cbbdf73",
   "metadata": {},
   "outputs": [],
   "source": [
    "class Animal:\n",
    "    def __init__(self, name):\n",
    "        self.name = name\n",
    "\n",
    "    def speak(self):\n",
    "        print(f\"{self.name} makes a sound\")\n",
    "\n",
    "class Dog(Animal):\n",
    "    def speak(self):\n",
    "        print(f\"{self.name} says woof!\")\n",
    "\n",
    "class Cat(Animal):\n",
    "    def speak(self):\n",
    "        print(f\"{self.name} says meow!\")"
   ]
  },
  {
   "cell_type": "markdown",
   "id": "cb0b1caa",
   "metadata": {},
   "source": [
    "> `Dog(Animal)` means \"Dog is an Animal\""
   ]
  },
  {
   "cell_type": "markdown",
   "id": "958771b0",
   "metadata": {},
   "source": [
    "## 🧪 Using the Inherited Classes"
   ]
  },
  {
   "cell_type": "code",
   "execution_count": 18,
   "id": "3954bf22",
   "metadata": {},
   "outputs": [
    {
     "name": "stdout",
     "output_type": "stream",
     "text": [
      "Generic makes a sound\n",
      "Buddy says woof!\n",
      "Whiskers says meow!\n"
     ]
    }
   ],
   "source": [
    "animal = Animal(\"Generic\")\n",
    "animal.speak()  # Output: Generic makes a sound\n",
    "\n",
    "dog = Dog(\"Buddy\")\n",
    "dog.speak()     # Output: Buddy says woof!\n",
    "\n",
    "cat = Cat(\"Whiskers\")\n",
    "cat.speak()     # Output: Whiskers says meow!"
   ]
  },
  {
   "cell_type": "markdown",
   "id": "c58c7944",
   "metadata": {},
   "source": [
    "Each subclass (`Dog`, `Cat`) gets the `name` from `Animal`, but they have their own way of speaking.\n",
    "\n",
    "---"
   ]
  },
  {
   "cell_type": "markdown",
   "id": "f4b0774b",
   "metadata": {},
   "source": [
    "## 🔄 Method Overriding\n",
    "When a child class has a method with the **same name** as the parent, it **overrides** it.\n",
    "\n",
    "> It’s like saying: “Thanks, parent, but I’ll do it my way.”\n"
   ]
  },
  {
   "cell_type": "code",
   "execution_count": 19,
   "id": "025ab6f4",
   "metadata": {},
   "outputs": [],
   "source": [
    "class Dog(Animal):\n",
    "    def speak(self):\n",
    "        print(f\"{self.name} says woof!\")  # Overrides Animal's speak"
   ]
  },
  {
   "cell_type": "markdown",
   "id": "125b69b3",
   "metadata": {},
   "source": [
    "---\n",
    "\n",
    "## 🧰 `super()` – Talking to Your Parent\n",
    "Sometimes you want to keep part of the parent’s behavior but still add your own twist. That’s where `super()` comes in.\n",
    "\n",
    "### 🐦 Example:"
   ]
  },
  {
   "cell_type": "code",
   "execution_count": 20,
   "id": "101b63a6",
   "metadata": {},
   "outputs": [
    {
     "name": "stdout",
     "output_type": "stream",
     "text": [
      "Tweety makes a sound\n",
      "Tweety says tweet!\n"
     ]
    }
   ],
   "source": [
    "class Bird(Animal):\n",
    "    def __init__(self, name, can_fly):\n",
    "        # Call the parent class constructor to set the name\n",
    "        super().__init__(name)\n",
    "        self.can_fly = can_fly  # New property just for Bird\n",
    "\n",
    "    def speak(self):\n",
    "        # First call the parent's speak method\n",
    "        super().speak()\n",
    "        # Then add Bird-specific behavior\n",
    "        print(f\"{self.name} says tweet!\")\n",
    "\n",
    "bird = Bird(\"Tweety\", True)\n",
    "bird.speak()"
   ]
  },
  {
   "cell_type": "markdown",
   "id": "231fdd9d",
   "metadata": {},
   "source": [
    "🔍 Let's break it down:\n",
    "- `super().__init__(name)` calls the parent (`Animal`) class’s `__init__` to set the name.\n",
    "- `self.can_fly = can_fly` adds a new property that only birds have.\n",
    "- In `speak()`, we first let `Animal` print the general sound, and then we add the bird-specific message.\n"
   ]
  },
  {
   "cell_type": "markdown",
   "id": "1c146611",
   "metadata": {},
   "source": [
    "---\n",
    "\n",
    "## ✅ Pro Tips\n",
    "- Use inheritance when you have an **is-a** relationship (e.g., a Dog *is a* Animal).\n",
    "- Use `super()` to tap into the base class without rewriting code.\n",
    "- Only override when necessary.\n",
    "- Keep it simple: don’t overdo inheritance. Sometimes **composition** (having an object inside another) is better.\n",
    "\n",
    "---\n",
    "\n",
    "## ❓ Quick Quiz\n",
    "1. What is inheritance?\n",
    "2. What does `super()` do?\n",
    "3. Can a child class override a method from the parent?\n",
    "\n",
    "**Answers:**\n",
    "1. A way for one class to get properties and behavior from another.\n",
    "2. It allows you to call the parent class’s version of a method.\n",
    "3. Yes — just define a method with the same name.\n",
    "\n",
    "---\n",
    "\n",
    "## 🎯 Real-World Challenge: Inheriting Vehicles\n",
    "Imagine you run a garage app 🚗. You have a base `Vehicle` class and want to extend it to make an `ElectricCar`.\n"
   ]
  },
  {
   "cell_type": "code",
   "execution_count": 21,
   "id": "b84bed01",
   "metadata": {},
   "outputs": [
    {
     "name": "stdout",
     "output_type": "stream",
     "text": [
      "Tesla (2022)\n",
      "Battery: 12 hours\n"
     ]
    }
   ],
   "source": [
    "class Vehicle:\n",
    "    def __init__(self, brand, year):\n",
    "        self.brand = brand\n",
    "        self.year = year\n",
    "\n",
    "    def info(self):\n",
    "        print(f\"{self.brand} ({self.year})\")\n",
    "\n",
    "class ElectricCar(Vehicle):\n",
    "    def __init__(self, brand, year, battery_life):\n",
    "        # Let Vehicle set brand and year\n",
    "        super().__init__(brand, year)\n",
    "        self.battery_life = battery_life  # Extra info for electric cars\n",
    "\n",
    "    def info(self):\n",
    "        # Use Vehicle's info method first\n",
    "        super().info()\n",
    "        # Add extra info\n",
    "        print(f\"Battery: {self.battery_life} hours\")\n",
    "\n",
    "car = ElectricCar(\"Tesla\", 2022, 12)\n",
    "car.info()"
   ]
  },
  {
   "cell_type": "markdown",
   "id": "4fe675af",
   "metadata": {},
   "source": [
    "---\n",
    "\n",
    "## 🧾 Summary (Cheat Sheet Style)\n",
    "| Term | What it Means |\n",
    "|------|----------------|\n",
    "| Inheritance | One class gets stuff from another |\n",
    "| Base Class | The parent class (e.g., `Animal`) |\n",
    "| Subclass | The child class (e.g., `Dog`) |\n",
    "| Overriding | Redefining a method in the child class |\n",
    "| `super()` | Call a method from the parent class |\n",
    "\n",
    "---"
   ]
  },
  {
   "cell_type": "markdown",
   "id": "2e3729fd",
   "metadata": {},
   "source": [
    "#  ⭐Polymorphism 🌀 – One Interface, Many Forms\n",
    "\n",
    "### 📘 What is Polymorphism?\n",
    "Polymorphism means **many forms**. In Python OOP, it lets different classes have **methods with the same name** that behave differently. This makes your code flexible and scalable.\n",
    "\n",
    "> Imagine you’re pressing the \"play\" button 🎵. Whether it’s a music player, a video player, or a game – the button is the same, but the action is different. That’s polymorphism!\n",
    "\n",
    "---\n",
    "\n",
    "## 🔁 Method Overriding (Again)\n",
    "Polymorphism often works with **method overriding**, where child classes change the behavior of a method defined in the parent class.\n",
    "\n",
    "### 🐾 Real-World Example:"
   ]
  },
  {
   "cell_type": "code",
   "execution_count": 25,
   "id": "1cf524b4",
   "metadata": {},
   "outputs": [
    {
     "name": "stdout",
     "output_type": "stream",
     "text": [
      "Dog says woof!\n",
      "Cat says meow!\n"
     ]
    }
   ],
   "source": [
    "class Animal:\n",
    "    def speak(self):\n",
    "        print(\"The animal makes a sound\")\n",
    "\n",
    "class Dog(Animal):\n",
    "    def speak(self):\n",
    "        print(\"Dog says woof!\")\n",
    "\n",
    "class Cat(Animal):\n",
    "    def speak(self):\n",
    "        print(\"Cat says meow!\")\n",
    "\n",
    "# 🧪 Using Polymorphism\n",
    "def make_animal_speak(animal):\n",
    "    animal.speak()  # Same interface, different behavior\n",
    "\n",
    "dog = Dog()\n",
    "cat = Cat()\n",
    "\n",
    "make_animal_speak(dog)   # Output: Dog says woof!\n",
    "make_animal_speak(cat)   # Output: Cat says meow!"
   ]
  },
  {
   "cell_type": "markdown",
   "id": "b593eef7",
   "metadata": {},
   "source": [
    "- Now, all these classes have the same method name `speak()`, but each one acts differently.\n",
    "- 🔍 Even though we don’t know the exact type of `animal`, it still works. Python automatically picks the right version of `speak()`!\n",
    "---"
   ]
  },
  {
   "cell_type": "markdown",
   "id": "5fd07a47",
   "metadata": {},
   "source": [
    "## ✨ Polymorphism with Loops\n",
    "You can use polymorphism to treat different objects the same way:"
   ]
  },
  {
   "cell_type": "code",
   "execution_count": 26,
   "id": "881eccf2",
   "metadata": {},
   "outputs": [
    {
     "name": "stdout",
     "output_type": "stream",
     "text": [
      "Dog says woof!\n",
      "Cat says meow!\n",
      "The animal makes a sound\n"
     ]
    }
   ],
   "source": [
    "animals = [Dog(), Cat(), Animal()]\n",
    "\n",
    "for a in animals:\n",
    "    a.speak()"
   ]
  },
  {
   "cell_type": "markdown",
   "id": "a4117f16",
   "metadata": {},
   "source": [
    "---\n",
    "\n",
    "## 🧰 Polymorphism with Inheritance\n",
    "Let’s build a payment system. Each payment type will process the payment differently, but we’ll call the same method `process_payment()`.\n"
   ]
  },
  {
   "cell_type": "code",
   "execution_count": 28,
   "id": "52882ee5",
   "metadata": {},
   "outputs": [
    {
     "name": "stdout",
     "output_type": "stream",
     "text": [
      "Charged $100 to your credit card.\n",
      "Paid $200 via PayPal.\n",
      "Transferred $300 in crypto.\n"
     ]
    }
   ],
   "source": [
    "class PaymentMethod:\n",
    "    def process_payment(self, amount):\n",
    "        print(f\"Processing payment of ${amount}\")\n",
    "\n",
    "class CreditCard(PaymentMethod):\n",
    "    def process_payment(self, amount):\n",
    "        print(f\"Charged ${amount} to your credit card.\")\n",
    "\n",
    "class PayPal(PaymentMethod):\n",
    "    def process_payment(self, amount):\n",
    "        print(f\"Paid ${amount} via PayPal.\")\n",
    "\n",
    "class Crypto(PaymentMethod):\n",
    "    def process_payment(self, amount):\n",
    "        print(f\"Transferred ${amount} in crypto.\")\n",
    "\n",
    "def checkout(payment_method, amount):\n",
    "    payment_method.process_payment(amount)\n",
    "\n",
    "checkout(CreditCard(), 100)\n",
    "checkout(PayPal(), 200)\n",
    "checkout(Crypto(), 300)"
   ]
  },
  {
   "cell_type": "markdown",
   "id": "ad9657a1",
   "metadata": {},
   "source": [
    "---\n",
    "\n",
    "## 🧾 Summary\n",
    "| Concept | What it Means |\n",
    "|--------|-------------------------|\n",
    "| Polymorphism | Same method name, different behavior |\n",
    "| Method Overriding | Child class changes parent's method |\n",
    "| Flexible Interfaces | One function works for many object types |\n",
    "\n",
    "---"
   ]
  },
  {
   "cell_type": "markdown",
   "id": "80f976b6",
   "metadata": {},
   "source": [
    "---\n",
    "\n",
    "## ❓ Quick Quiz\n",
    "1. What does polymorphism mean?\n",
    "2. How does Python choose which method to run?\n",
    "3. Can you use the same function to handle different object types?\n",
    "\n",
    "**Answers:**\n",
    "1. It means one interface can work with many forms (object types).\n",
    "2. It looks at the object's class and runs the correct method.\n",
    "3. Yes! That's the beauty of polymorphism.\n",
    "\n",
    "---\n",
    "\n",
    "## 🎯 Real-World Challenge: Polymorphic Notifications\n",
    "You’re building a notification system. You want Email, SMS, and Push notifications to all have a `send()` method.\n"
   ]
  },
  {
   "cell_type": "code",
   "execution_count": 29,
   "id": "0a0025f8",
   "metadata": {},
   "outputs": [
    {
     "name": "stdout",
     "output_type": "stream",
     "text": [
      "📧 Email sent: Hello, world!\n",
      "📱 SMS sent: Hello, world!\n",
      "🔔 Push sent: Hello, world!\n"
     ]
    }
   ],
   "source": [
    "class Notification:\n",
    "    def send(self, message):\n",
    "        print(f\"Sending: {message}\")\n",
    "\n",
    "class Email(Notification):\n",
    "    def send(self, message):\n",
    "        print(f\"📧 Email sent: {message}\")\n",
    "\n",
    "class SMS(Notification):\n",
    "    def send(self, message):\n",
    "        print(f\"📱 SMS sent: {message}\")\n",
    "\n",
    "class Push(Notification):\n",
    "    def send(self, message):\n",
    "        print(f\"🔔 Push sent: {message}\")\n",
    "\n",
    "# Try it:\n",
    "messages = [Email(), SMS(), Push()]\n",
    "\n",
    "for m in messages:\n",
    "    m.send(\"Hello, world!\")"
   ]
  },
  {
   "cell_type": "markdown",
   "id": "b5aaa822",
   "metadata": {},
   "source": [
    "#  ⭐Composition Over Inheritance 🏗️ – Build Flexible Systems\n",
    "\n",
    "### 📘 What is Composition?\n",
    "**Composition** is a design principle where you build complex objects by combining simpler ones. Instead of relying only on inheritance (is-a), composition uses a **has-a** relationship.\n",
    "\n",
    "> Think of a car 🚗. It **has** an engine, **has** wheels, and **has** a GPS. A car isn't a type of engine or wheel – it just uses them. That's composition!\n",
    "\n",
    "---\n",
    "\n",
    "## 🔍 Inheritance Recap\n",
    "Inheritance creates a hierarchy. For example:"
   ]
  },
  {
   "cell_type": "code",
   "execution_count": null,
   "id": "bed548ac",
   "metadata": {},
   "outputs": [],
   "source": [
    "class Animal:\n",
    "    def move(self):\n",
    "        print(\"Moving...\")\n",
    "\n",
    "class Bird(Animal):\n",
    "    def fly(self):\n",
    "        print(\"Flying high!\")"
   ]
  },
  {
   "cell_type": "markdown",
   "id": "f0ab5c50",
   "metadata": {},
   "source": [
    "This works, but too much inheritance can make your code hard to manage. Changes to the base class might accidentally break everything.\n"
   ]
  },
  {
   "cell_type": "markdown",
   "id": "434c4bdd",
   "metadata": {},
   "source": [
    "## 🧱 Composition in Action\n",
    "Let’s refactor to use composition:"
   ]
  },
  {
   "cell_type": "code",
   "execution_count": 31,
   "id": "33572f98",
   "metadata": {},
   "outputs": [
    {
     "name": "stdout",
     "output_type": "stream",
     "text": [
      "Engine started\n",
      "Wheels are rotating\n",
      "Car is driving\n"
     ]
    }
   ],
   "source": [
    "class Engine:\n",
    "    def start(self):\n",
    "        print(\"Engine started\")\n",
    "\n",
    "class Wheels:\n",
    "    def rotate(self):\n",
    "        print(\"Wheels are rotating\")\n",
    "\n",
    "class Car:\n",
    "    def __init__(self):\n",
    "        self.engine = Engine()\n",
    "        self.wheels = Wheels()\n",
    "\n",
    "    def drive(self):\n",
    "        self.engine.start()\n",
    "        self.wheels.rotate()\n",
    "        print(\"Car is driving\")\n",
    "\n",
    "my_car = Car()\n",
    "my_car.drive()"
   ]
  },
  {
   "cell_type": "markdown",
   "id": "9220e020",
   "metadata": {},
   "source": [
    "---\n",
    "\n",
    "## ✅ Why Use Composition?\n",
    "| Benefit | Explanation |\n",
    "|--------|-------------|\n",
    "| Flexibility | Easily swap or extend parts without breaking hierarchy |\n",
    "| Reusability | Reuse components in multiple places |\n",
    "| Loose Coupling | Classes depend on fewer details of others |\n",
    "| Better Design | Models real-world relationships more naturally |\n",
    "\n",
    "---\n",
    "\n",
    "## 🧰 Strategy Pattern (Real-World Example)\n",
    "Let’s build a `Printer` that uses different output strategies:\n"
   ]
  },
  {
   "cell_type": "code",
   "execution_count": 32,
   "id": "ae5812bc",
   "metadata": {},
   "outputs": [
    {
     "name": "stdout",
     "output_type": "stream",
     "text": [
      "HELLO WORLD\n",
      "<PDF> hello world </PDF>\n"
     ]
    }
   ],
   "source": [
    "class TextFormatter:\n",
    "    def format(self, text):\n",
    "        return text.upper()\n",
    "\n",
    "class PDFFormatter:\n",
    "    def format(self, text):\n",
    "        return f\"<PDF> {text} </PDF>\"\n",
    "\n",
    "class Printer:\n",
    "    def __init__(self, formatter):\n",
    "        self.formatter = formatter\n",
    "\n",
    "    def print_document(self, text):\n",
    "        formatted = self.formatter.format(text)\n",
    "        print(formatted)\n",
    "\n",
    "printer1 = Printer(TextFormatter())\n",
    "printer1.print_document(\"hello world\")\n",
    "\n",
    "printer2 = Printer(PDFFormatter())\n",
    "printer2.print_document(\"hello world\")"
   ]
  },
  {
   "cell_type": "markdown",
   "id": "5ee47e1d",
   "metadata": {},
   "source": [
    "---\n",
    "\n",
    "## 🧾 Composition vs Inheritance – Quick View\n",
    "| Feature | Inheritance | Composition |\n",
    "|--------|-------------|-------------|\n",
    "| Relationship | is-a | has-a |\n",
    "| Reusability | Good, but tightly coupled | Excellent, loosely coupled |\n",
    "| Flexibility | Hard to change | Easy to swap parts |\n",
    "| Scalability | Can become rigid | Very scalable |\n",
    "\n",
    "---\n",
    "\n",
    "## ❓ Quick Quiz\n",
    "1. What is composition?\n",
    "2. How is it different from inheritance?\n",
    "3. Why might you choose composition over inheritance?\n",
    "\n",
    "**Answers:**\n",
    "1. Building objects using other objects.\n",
    "2. Composition uses has-a, while inheritance uses is-a.\n",
    "3. For better flexibility, reusability, and cleaner design.\n",
    "\n",
    "---\n",
    "\n",
    "## 🎯 Real-World Challenge: Robot with Abilities\n",
    "Create a `Robot` that can speak and move. Use composition.\n"
   ]
  },
  {
   "cell_type": "code",
   "execution_count": 33,
   "id": "047e09c3",
   "metadata": {},
   "outputs": [
    {
     "name": "stdout",
     "output_type": "stream",
     "text": [
      "Hello, I am a robot.\n",
      "Robot is moving forward.\n"
     ]
    }
   ],
   "source": [
    "class Speaker:\n",
    "    def speak(self):\n",
    "        print(\"Hello, I am a robot.\")\n",
    "\n",
    "class Mover:\n",
    "    def move(self):\n",
    "        print(\"Robot is moving forward.\")\n",
    "\n",
    "class Robot:\n",
    "    def __init__(self):\n",
    "        self.speaker = Speaker()\n",
    "        self.mover = Mover()\n",
    "\n",
    "    def introduce(self):\n",
    "        self.speaker.speak()\n",
    "\n",
    "    def travel(self):\n",
    "        self.mover.move()\n",
    "\n",
    "r2d2 = Robot()\n",
    "r2d2.introduce()\n",
    "r2d2.travel()"
   ]
  },
  {
   "cell_type": "markdown",
   "id": "80c425e4",
   "metadata": {},
   "source": [
    "#  ⭐Magic Methods & Operator Overloading ✨\n",
    "\n",
    "- Making Your Classes Feel Like Built-ins\n",
    "\n",
    "### 📘 What are Magic Methods?\n",
    "Magic methods (also called **dunder methods** because they start and end with double underscores, like `__init__`) are special methods used to **customize the behavior of your objects**.\n",
    "\n",
    "> Think of them as secret hooks Python uses to give your class superpowers!\n",
    "\n",
    "For example:\n",
    "- `__init__` initializes an object.\n",
    "- `__str__` controls what `print(obj)` shows.\n",
    "- `__add__` lets you use `+` with your objects.\n",
    "- `__sub__` lets you use `-` with your objects.\n",
    "- `__mul__` lets you use `*` with your objects. And so on\n",
    "\n",
    "---\n",
    "\n",
    "## 🔧 Common Magic Methods\n",
    "| Method | Purpose |\n",
    "|--------|---------|\n",
    "| `__init__` | Constructor – runs when object is created |\n",
    "| `__str__` | String representation – used by `print()` |\n",
    "| `__repr__` | Developer-friendly string representation |\n",
    "| `__add__` | Add operator `+` |\n",
    "| `__len__` | Called by `len()` |\n",
    "| `__eq__` | Checks equality `==` |\n",
    "\n",
    "---\n",
    "\n",
    "## 🛠️ `__init__` and `__str__` Example"
   ]
  },
  {
   "cell_type": "code",
   "execution_count": 35,
   "id": "f3273fb7",
   "metadata": {},
   "outputs": [
    {
     "name": "stdout",
     "output_type": "stream",
     "text": [
      "'1984' by George Orwell\n"
     ]
    }
   ],
   "source": [
    "class Book:\n",
    "    def __init__(self, title, author):\n",
    "        self.title = title\n",
    "        self.author = author\n",
    "\n",
    "    def __str__(self):\n",
    "        return f\"'{self.title}' by {self.author}\"\n",
    "    \n",
    "b = Book(\"1984\", \"George Orwell\")\n",
    "print(b)  # Output: '1984' by George Orwell"
   ]
  },
  {
   "cell_type": "markdown",
   "id": "a67cc410",
   "metadata": {},
   "source": [
    "Without `__str__`, you'd see something like `<__main__.Book object at 0x...>`.\n",
    "\n",
    "---"
   ]
  },
  {
   "cell_type": "markdown",
   "id": "cb0388af",
   "metadata": {},
   "source": [
    "## ➕ Operator Overloading with `__add__`\n",
    "Let’s say you have a `Point` class. You want to use `+` to add points.\n"
   ]
  },
  {
   "cell_type": "code",
   "execution_count": 36,
   "id": "0adec0ba",
   "metadata": {},
   "outputs": [
    {
     "name": "stdout",
     "output_type": "stream",
     "text": [
      "(6, 8)\n"
     ]
    }
   ],
   "source": [
    "class Point:\n",
    "    def __init__(self, x, y):\n",
    "        self.x = x\n",
    "        self.y = y\n",
    "\n",
    "    def __add__(self, other):\n",
    "        return Point(self.x + other.x, self.y + other.y)\n",
    "\n",
    "    def __str__(self):\n",
    "        return f\"({self.x}, {self.y})\"\n",
    "\n",
    "p1 = Point(2, 3)\n",
    "p2 = Point(4, 5)\n",
    "result = p1 + p2\n",
    "print(result)  # Output: (6, 8)"
   ]
  },
  {
   "cell_type": "markdown",
   "id": "9932f9b2",
   "metadata": {},
   "source": [
    "Python sees `p1 + p2` and internally does `p1.__add__(p2)`.\n",
    "\n",
    "---\n",
    "\n",
    "## 🟰 Overloading `==` with `__eq__`"
   ]
  },
  {
   "cell_type": "code",
   "execution_count": 37,
   "id": "2a098b22",
   "metadata": {},
   "outputs": [
    {
     "name": "stdout",
     "output_type": "stream",
     "text": [
      "True\n"
     ]
    }
   ],
   "source": [
    "class Person:\n",
    "    def __init__(self, name, age):\n",
    "        self.name = name\n",
    "        self.age = age\n",
    "\n",
    "    def __eq__(self, other):\n",
    "        return self.name == other.name and self.age == other.age\n",
    "    \n",
    "p1 = Person(\"Alice\", 30)\n",
    "p2 = Person(\"Alice\", 30)\n",
    "print(p1 == p2)  # Output: True"
   ]
  },
  {
   "cell_type": "markdown",
   "id": "88b5c5eb",
   "metadata": {},
   "source": [
    "Without `__eq__`, Python would check if `p1` and `p2` are the *same object*, not if their contents match.\n",
    "\n",
    "---\n",
    "\n",
    "## 📏 Overloading `len()` with `__len__`"
   ]
  },
  {
   "cell_type": "code",
   "execution_count": 38,
   "id": "900b67f0",
   "metadata": {},
   "outputs": [
    {
     "name": "stdout",
     "output_type": "stream",
     "text": [
      "3\n"
     ]
    }
   ],
   "source": [
    "class Basket:\n",
    "    def __init__(self, items):\n",
    "        self.items = items\n",
    "\n",
    "    def __len__(self):\n",
    "        return len(self.items)\n",
    "    \n",
    "b = Basket([\"apple\", \"banana\", \"orange\"])\n",
    "print(len(b))  # Output: 3"
   ]
  },
  {
   "cell_type": "markdown",
   "id": "95b04d08",
   "metadata": {},
   "source": [
    "---\n",
    "\n",
    "## 🧾 Summary\n",
    "| Magic Method | Triggered by |\n",
    "|--------------|--------------|\n",
    "| `__init__` | Object creation |\n",
    "| `__str__` | `print(obj)` |\n",
    "| `__repr__` | `repr(obj)`, interactive shell |\n",
    "| `__add__` | `obj1 + obj2` |\n",
    "| `__eq__` | `obj1 == obj2` |\n",
    "| `__len__` | `len(obj)` |\n",
    "\n",
    "---\n",
    "\n",
    "## ❓ Quick Quiz\n",
    "1. What are magic methods used for?\n",
    "2. What does `__add__` do?\n",
    "3. How do you customize `print(obj)`?\n",
    "\n",
    "**Answers:**\n",
    "1. To define how objects behave with built-in operations.\n",
    "2. Allows objects to use the `+` operator.\n",
    "3. By implementing the `__str__` method.\n",
    "\n",
    "---\n",
    "\n",
    "## 🎯 Real-World Challenge: Money Class\n",
    "Create a `Money` class that:\n",
    "- Stores `amount` and `currency`\n",
    "- Supports `+` to add two Money objects\n",
    "- Supports `==` to compare amounts and currency\n"
   ]
  },
  {
   "cell_type": "code",
   "execution_count": 39,
   "id": "3a9da330",
   "metadata": {},
   "outputs": [
    {
     "name": "stdout",
     "output_type": "stream",
     "text": [
      "120 USD\n",
      "False\n"
     ]
    }
   ],
   "source": [
    "class Money:\n",
    "    def __init__(self, amount, currency):\n",
    "        self.amount = amount\n",
    "        self.currency = currency\n",
    "\n",
    "    def __add__(self, other):\n",
    "        if self.currency != other.currency:\n",
    "            raise ValueError(\"Currencies must match\")\n",
    "        return Money(self.amount + other.amount, self.currency)\n",
    "\n",
    "    def __eq__(self, other):\n",
    "        return self.amount == other.amount and self.currency == other.currency\n",
    "\n",
    "    def __str__(self):\n",
    "        return f\"{self.amount} {self.currency}\"\n",
    "    \n",
    "m1 = Money(50, \"USD\")\n",
    "m2 = Money(70, \"USD\")\n",
    "print(m1 + m2)  # 120 USD\n",
    "print(m1 == m2)  # False"
   ]
  },
  {
   "cell_type": "markdown",
   "id": "ecb4510a",
   "metadata": {},
   "source": [
    "#  ⭐Classmethods, Staticmethods, and Instance Methods 🧭\n",
    "### 📘 Why This Matters\n",
    "In Python, methods aren’t all the same. Some work with the object (instance), some with the class itself, and others don’t need either. Let's break down the 3 key types:\n",
    "\n",
    "---\n",
    "\n",
    "## 🔹 1. Instance Methods (The Most Common)\n",
    "These are regular methods that:\n",
    "- Take `self` as the first argument\n",
    "- Can access and modify object attributes\n",
    "\n"
   ]
  },
  {
   "cell_type": "code",
   "execution_count": 40,
   "id": "c240912f",
   "metadata": {},
   "outputs": [
    {
     "name": "stdout",
     "output_type": "stream",
     "text": [
      "Buddy says woof!\n"
     ]
    }
   ],
   "source": [
    "class Dog:\n",
    "    def __init__(self, name):\n",
    "        self.name = name\n",
    "\n",
    "    def bark(self):\n",
    "        print(f\"{self.name} says woof!\")\n",
    "\n",
    "d = Dog(\"Buddy\")\n",
    "d.bark()  # Output: Buddy says woof!"
   ]
  },
  {
   "cell_type": "markdown",
   "id": "12013506",
   "metadata": {},
   "source": [
    "✅ Uses: Accessing and modifying **instance-level data**\n",
    "\n",
    "---\n",
    "\n",
    "## 🔷 2. Class Methods\n",
    "- Defined with `@classmethod`\n",
    "- First parameter is `cls` (not `self`)\n",
    "- Works with the class, not an instance\n"
   ]
  },
  {
   "cell_type": "code",
   "execution_count": null,
   "id": "b7771295",
   "metadata": {},
   "outputs": [],
   "source": [
    "class Pizza:\n",
    "    def __init__(self, ingredients):\n",
    "        self.ingredients = ingredients\n",
    "\n",
    "    @classmethod\n",
    "    def margherita(cls):\n",
    "        return cls([\"cheese\", \"tomato\"])\n",
    "\n",
    "    @classmethod\n",
    "    def pepperoni(cls):\n",
    "        return cls([\"cheese\", \"tomato\", \"pepperoni\"])\n",
    "    \n",
    "p1 = Pizza.margherita()\n",
    "p2 = Pizza.pepperoni()\n",
    "print(p1.ingredients)  # ['cheese', 'tomato']\n",
    "print(p2.ingredients)  # ['cheese', 'tomato', 'pepperoni']"
   ]
  },
  {
   "cell_type": "markdown",
   "id": "5a59bbf1",
   "metadata": {},
   "source": [
    "✅ Uses: Alternative constructors, class-level logic\n",
    "\n",
    "---\n",
    "\n",
    "## 🔸 3. Static Methods\n",
    "- Defined with `@staticmethod`\n",
    "- Don’t take `self` or `cls`\n",
    "- Behave like plain functions but live in the class namespace. We can't use in objects of classes\n"
   ]
  },
  {
   "cell_type": "code",
   "execution_count": null,
   "id": "3f2c80f9",
   "metadata": {},
   "outputs": [],
   "source": [
    "class Math:\n",
    "    @staticmethod\n",
    "    def add(x, y):\n",
    "        return x + y\n",
    "    \n",
    "print(Math.add(3, 4))  # Output: 7"
   ]
  },
  {
   "cell_type": "markdown",
   "id": "c933ec07",
   "metadata": {},
   "source": [
    "✅ Uses: Utility functions that make sense grouped with the class but don't need object or class data\n",
    "\n",
    "---\n",
    "\n",
    "## 📊 Comparison Table\n",
    "| Feature | Instance Method | Class Method | Static Method |\n",
    "|--------|------------------|--------------|---------------|\n",
    "| First Arg | `self` (object) | `cls` (class) | None |\n",
    "| Access Instance? | ✅ Yes | ❌ No | ❌ No |\n",
    "| Access Class? | ✅ (indirect) | ✅ Yes | ❌ No |\n",
    "| Use Case | Work with object data | Alternate constructors | Utility/helper functions |\n",
    "\n",
    "---\n",
    "\n",
    "## ❓ Quick Quiz\n",
    "1. What’s the difference between `@classmethod` and `@staticmethod`?\n",
    "2. When would you use a static method?\n",
    "3. Can an instance method access class-level data?\n",
    "\n",
    "**Answers:**\n",
    "1. `classmethod` takes `cls` and can modify class state. `staticmethod` takes nothing special.\n",
    "2. When the method doesn’t need access to instance or class.\n",
    "3. Yes, using `self.__class__` or class name.\n",
    "\n",
    "---\n",
    "\n",
    "## 🎯 Real-World Challenge: Factory Method\n",
    "Design a `Car` class with:\n",
    "- An instance method `drive()`\n",
    "- A class method `from_model_year()` that sets default features based on year\n",
    "- A static method `is_valid_license(plate)` to validate plate numbers\n"
   ]
  },
  {
   "cell_type": "code",
   "execution_count": 41,
   "id": "882e111f",
   "metadata": {},
   "outputs": [
    {
     "name": "stdout",
     "output_type": "stream",
     "text": [
      "Classic (1995) is driving.\n",
      "True\n"
     ]
    }
   ],
   "source": [
    "class Car:\n",
    "    def __init__(self, brand, year):\n",
    "        self.brand = brand\n",
    "        self.year = year\n",
    "\n",
    "    def drive(self):\n",
    "        print(f\"{self.brand} ({self.year}) is driving.\")\n",
    "\n",
    "    @classmethod\n",
    "    def from_model_year(cls, year):\n",
    "        if year < 2000:\n",
    "            return cls(\"Classic\", year)\n",
    "        return cls(\"ModernCar\", year)\n",
    "\n",
    "    @staticmethod\n",
    "    def is_valid_license(plate):\n",
    "        return len(plate) == 7 and plate.isalnum()\n",
    "\n",
    "car1 = Car.from_model_year(1995)\n",
    "car1.drive()\n",
    "print(Car.is_valid_license(\"ABC1234\"))  # True"
   ]
  },
  {
   "cell_type": "markdown",
   "id": "da44c25e",
   "metadata": {},
   "source": [
    "#  ⭐Advanced OOP Topics 🧠\n",
    "\n",
    "> Master the deeper side of object-oriented design with real-world analogies and examples.\n",
    "\n",
    "---\n",
    "\n",
    "## 🧩 1. Abstract Base Classes (ABC Module)\n",
    "Abstract classes define a **blueprint**. They **can't be instantiated** and require subclasses to implement certain methods.\n",
    "\n",
    "Think of an abstract class like a **contract** – any class that signs it must fulfill the obligations (methods).\n"
   ]
  },
  {
   "cell_type": "code",
   "execution_count": null,
   "id": "4df2496d",
   "metadata": {},
   "outputs": [],
   "source": [
    "from abc import ABC, abstractmethod\n",
    "\n",
    "class Animal(ABC):\n",
    "    @abstractmethod\n",
    "    def speak(self):\n",
    "        pass\n",
    "\n",
    "class Dog(Animal):\n",
    "    def speak(self):\n",
    "        return \"Woof!\"\n",
    "    \n",
    "# a = Animal()  # ❌ Error: can't instantiate abstract class\n",
    "\n",
    "d = Dog()\n",
    "print(d.speak())  # Woof!"
   ]
  },
  {
   "cell_type": "markdown",
   "id": "eeaacd0f",
   "metadata": {},
   "source": [
    "✅ Use when designing **interfaces** or enforcing consistent APIs\n",
    "\n",
    "---\n",
    "\n",
    "## 🔧 2. Mixins – Plug-and-Play Behaviors\n",
    "Mixins are small reusable classes that you can **mix into** other classes to add functionality, without using inheritance hierarchies.\n"
   ]
  },
  {
   "cell_type": "code",
   "execution_count": 42,
   "id": "b4638b8d",
   "metadata": {},
   "outputs": [
    {
     "name": "stdout",
     "output_type": "stream",
     "text": [
      "[LOG]: Hello, Alice!\n"
     ]
    }
   ],
   "source": [
    "class LoggerMixin:\n",
    "    def log(self, message):\n",
    "        print(f\"[LOG]: {message}\")\n",
    "\n",
    "class User(LoggerMixin):\n",
    "    def __init__(self, name):\n",
    "        self.name = name\n",
    "\n",
    "    def greet(self):\n",
    "        self.log(f\"Hello, {self.name}!\")\n",
    "\n",
    "u = User(\"Alice\")\n",
    "u.greet()  # [LOG]: Hello, Alice!"
   ]
  },
  {
   "cell_type": "markdown",
   "id": "42b62546",
   "metadata": {},
   "source": [
    "✅ Use mixins when you want to add optional behaviors like logging, serialization, etc.\n",
    "\n",
    "---\n",
    "\n",
    "## 👪 3. Multiple Inheritance\n",
    "A class can inherit from **more than one parent**.\n"
   ]
  },
  {
   "cell_type": "code",
   "execution_count": null,
   "id": "a5a91b07",
   "metadata": {},
   "outputs": [],
   "source": [
    "class Flyer:\n",
    "    def fly(self):\n",
    "        print(\"Flying\")\n",
    "\n",
    "class Swimmer:\n",
    "    def swim(self):\n",
    "        print(\"Swimming\")\n",
    "\n",
    "class Duck(Flyer, Swimmer):\n",
    "    pass\n",
    "\n",
    "d = Duck()\n",
    "d.fly()     # Flying\n",
    "d.swim()    # Swimming"
   ]
  },
  {
   "cell_type": "markdown",
   "id": "448c543e",
   "metadata": {},
   "source": [
    "✅ Be cautious: multiple inheritance can introduce complexity like the **diamond problem**, solved by Python’s Method Resolution Order (MRO).\n",
    "\n",
    "---\n",
    "\n",
    "## 💉 4. Dependency Injection\n",
    "Instead of a class creating its own dependencies, we **inject** them, which makes the class more flexible and testable.\n"
   ]
  },
  {
   "cell_type": "code",
   "execution_count": null,
   "id": "4c6efdab",
   "metadata": {},
   "outputs": [],
   "source": [
    "class Engine:\n",
    "    def start(self):\n",
    "        print(\"Engine starting...\")\n",
    "\n",
    "class Car:\n",
    "    def __init__(self, engine):\n",
    "        self.engine = engine\n",
    "\n",
    "    def start(self):\n",
    "        self.engine.start()\n",
    "\n",
    "e = Engine()\n",
    "c = Car(e)\n",
    "c.start()  # Engine starting..."
   ]
  },
  {
   "cell_type": "markdown",
   "id": "5d841695",
   "metadata": {},
   "source": [
    "✅ This makes the class easier to mock, test, and swap parts.\n",
    "\n",
    "---\n",
    "\n",
    "## 🏗️ 5. Design Patterns\n",
    "Let’s briefly cover 3 important OOP design patterns:\n",
    "\n",
    "### 🟦 Singleton\n",
    "Only one instance of a class exists."
   ]
  },
  {
   "cell_type": "code",
   "execution_count": 43,
   "id": "ea82016a",
   "metadata": {},
   "outputs": [],
   "source": [
    "class Singleton:\n",
    "    _instance = None\n",
    "\n",
    "    def __new__(cls):\n",
    "        if not cls._instance:\n",
    "            cls._instance = super().__new__(cls)\n",
    "        return cls._instance"
   ]
  },
  {
   "cell_type": "markdown",
   "id": "faf46fad",
   "metadata": {},
   "source": [
    "### 🟨 Factory\n",
    "Create objects **without specifying exact classes**."
   ]
  },
  {
   "cell_type": "code",
   "execution_count": 44,
   "id": "957727c7",
   "metadata": {},
   "outputs": [],
   "source": [
    "class Animal:\n",
    "    def speak(self):\n",
    "        pass\n",
    "\n",
    "class Dog(Animal):\n",
    "    def speak(self):\n",
    "        return \"Woof!\"\n",
    "\n",
    "class Cat(Animal):\n",
    "    def speak(self):\n",
    "        return \"Meow!\"\n",
    "\n",
    "class AnimalFactory:\n",
    "    def create_animal(self, animal_type):\n",
    "        if animal_type == \"dog\": return Dog()\n",
    "        if animal_type == \"cat\": return Cat()"
   ]
  },
  {
   "cell_type": "markdown",
   "id": "204d7130",
   "metadata": {},
   "source": [
    "### 🟩 Strategy\n",
    "Change an object’s behavior by **injecting a strategy**."
   ]
  },
  {
   "cell_type": "code",
   "execution_count": 46,
   "id": "a70cc9f0",
   "metadata": {},
   "outputs": [
    {
     "name": "stdout",
     "output_type": "stream",
     "text": [
      "Flying high!\n",
      "Can't fly.\n"
     ]
    }
   ],
   "source": [
    "class FlyStrategy:\n",
    "    def fly(self): print(\"Flying high!\")\n",
    "\n",
    "class NoFlyStrategy:\n",
    "    def fly(self): print(\"Can't fly.\")\n",
    "\n",
    "class Bird:\n",
    "    def __init__(self, fly_behavior):\n",
    "        self.fly_behavior = fly_behavior\n",
    "\n",
    "    def fly(self):\n",
    "        self.fly_behavior.fly()\n",
    "\n",
    "bird = Bird(FlyStrategy())\n",
    "bird.fly()  # Flying high!\n",
    "\n",
    "bird.fly_behavior = NoFlyStrategy()\n",
    "bird.fly()  # Can't fly."
   ]
  },
  {
   "cell_type": "markdown",
   "id": "f2883e2c",
   "metadata": {},
   "source": [
    "✅ Design patterns solve common design problems elegantly and flexibly.\n",
    "\n",
    "---\n",
    "\n",
    "## 🧾 Summary\n",
    "| Concept | Use Case |\n",
    "|--------|----------|\n",
    "| Abstract Class | Enforce a method contract |\n",
    "| Mixin | Add optional, reusable features |\n",
    "| Multiple Inheritance | Combine behaviors from many parents |\n",
    "| Dependency Injection | Decouple dependencies for flexibility |\n",
    "| Singleton | Ensure one instance only |\n",
    "| Factory | Create objects from abstract logic |\n",
    "| Strategy | Swap behaviors at runtime |\n",
    "\n",
    "---"
   ]
  },
  {
   "cell_type": "markdown",
   "id": "20d546e9",
   "metadata": {},
   "source": [
    "\n"
   ]
  },
  {
   "cell_type": "markdown",
   "id": "26fb3044",
   "metadata": {},
   "source": [
    "#  Iterators,Decoraters & Generators 🔁"
   ]
  },
  {
   "cell_type": "markdown",
   "id": "f93e0e38",
   "metadata": {},
   "source": [
    "### 📍 Introduction\n",
    "\n",
    "Hey there, Pythonista! 👋 Welcome to one of the coolest topics in Python: **Iterators, Decorators, and Generators**. They're like the secret tools that help you write clean, efficient, and powerful code. Whether you're prepping for interviews 🎯, learning for fun 🚀, or aiming to level up in coding 💪, this notebook has you covered!\n",
    "\n",
    "## What are Iterators? <a name=\"what-are-iterators\"></a>\n",
    "\n",
    "In Python, an **iterator** is an object that can be iterated upon, meaning you can traverse through all the values. Technically, it implements the `__iter__()` and `__next__()` methods.\n"
   ]
  },
  {
   "cell_type": "code",
   "execution_count": null,
   "id": "8d8c138d",
   "metadata": {},
   "outputs": [],
   "source": [
    "my_list = [1, 2, 3]\n",
    "it = iter(my_list)\n",
    "print(next(it))  # Output: 1\n",
    "print(next(it))  # Output: 2"
   ]
  },
  {
   "cell_type": "code",
   "execution_count": null,
   "id": "b9d01eb5",
   "metadata": {},
   "outputs": [],
   "source": [
    "# Creating Custom iterator\n",
    "class CountUpto:\n",
    "    def __init__(self, max):\n",
    "        self.max = max\n",
    "        self.current = 1\n",
    "\n",
    "    def __iter__(self):\n",
    "        return self\n",
    "\n",
    "    def __next__(self):\n",
    "        if self.current <= self.max:\n",
    "            num = self.current\n",
    "            self.current += 1\n",
    "            return num\n",
    "        else:\n",
    "            raise StopIteration\n",
    "\n",
    "for number in CountUpto(3):\n",
    "    print(number)"
   ]
  },
  {
   "cell_type": "markdown",
   "id": "4c5a59a3",
   "metadata": {},
   "source": [
    "### Common Mistakes in Iterators <a name=\"common-mistakes-in-iterators\"></a>\n",
    "\n",
    "✅ Forgetting to raise `StopIteration`\n",
    "\n",
    "✅ Not returning self from `__iter__()`\n",
    "\n",
    "### 🧠 Pro Tips <a name=\"pro-tips-iterators\"></a>\n",
    "\n",
    "- Use **`iter()`** on any iterable (like list, dict, etc.)\n",
    "- Remember: For loops use iterators under the hood!\n",
    "\n",
    "### 🎯 Quick Quiz Time <a name=\"quick-quiz-iterators\"></a>\n",
    "\n",
    "**Q1:** Which method must be defined in a class to make it an iterator?\n",
    "- A) `__getitem__()`\n",
    "- B) `__next__()` \n",
    "- C) `__init__()`\n",
    "- D) `__call__()`\n",
    "\n",
    "<details><summary>Answer</summary>\n",
    "B) ✅`__next__()`\n",
    "</details>\n",
    "\n",
    "### 🎤 Top Interview Questions <a name=\"interview-iterators\"></a>\n",
    "\n",
    "**1.** What is the difference between iterable and iterator?\n",
    "<details><summary>Answer</summary>\n",
    "An iterable is an object that has an `__iter__()` method, while an iterator is the object that implements `__next__()`. Iterables can be converted into iterators using `iter()`.\n",
    "</details>\n",
    "\n",
    "**2.** Explain how a for-loop works internally in Python.\n",
    "<details><summary>Answer</summary>\n",
    "A for-loop calls `iter()` on the iterable and then repeatedly calls `next()` on the returned iterator until `StopIteration` is raised.\n",
    "</details>\n",
    "\n",
    "**Q3.** How would you implement a reverse iterator?\n",
    "<details><summary>Answer</summary>\n",
    "By writing a custom class that returns items from the end to the start in the `__next__()` method.\n",
    "</details>\n",
    "\n",
    "---"
   ]
  },
  {
   "cell_type": "markdown",
   "id": "fd16973f",
   "metadata": {},
   "source": [
    "## 🎨 Decorators <a name=\"decorators\"></a>\n",
    "\n",
    "### 1️⃣ What Are Decorators?\n",
    "🧠 **Think of decorators like gift wrapping** - you can wrap any function to add extra functionality!\n",
    "\n",
    "- Decorators are **functions that modify other functions**\n",
    "\n",
    "- They use the `@decorator_name` syntax.\n",
    "\n"
   ]
  },
  {
   "cell_type": "markdown",
   "id": "87f64b1a",
   "metadata": {},
   "source": [
    "Decorators can seem confusing at first, but let me explain them in the simplest way possible with a fun analogy!\n",
    "\n",
    "🧸 **The Toy Wrapping Machine Analogy**   \n",
    "Imagine you have:\n",
    "\n",
    "1. **A toy** (your original function)\n",
    "\n",
    "2. A **wrapping machine** (the decorator)\n",
    "\n",
    "3. **wrapping paper** (the extra functionality)"
   ]
  },
  {
   "cell_type": "code",
   "execution_count": 2,
   "id": "dafa62c8",
   "metadata": {},
   "outputs": [
    {
     "name": "stdout",
     "output_type": "stream",
     "text": [
      "🎁 Wrapping the toy in shiny paper!\n",
      "I'm a cool toy!\n",
      "🎀 Adding a bow on top!\n"
     ]
    }
   ],
   "source": [
    "# The toy (original function)\n",
    "def toy():\n",
    "    print(\"I'm a cool toy!\")\n",
    "\n",
    "# The wrapping machine (decorator)\n",
    "def wrapping_machine(toy_function):\n",
    "    def wrapper():\n",
    "        # Wrapping paper (extra functionality)\n",
    "        print(\"🎁 Wrapping the toy in shiny paper!\")\n",
    "        toy_function()\n",
    "        print(\"🎀 Adding a bow on top!\")\n",
    "    return wrapper\n",
    "\n",
    "# Wrapping the toy\n",
    "wrapped_toy = wrapping_machine(toy)\n",
    "\n",
    "# Now when you play with the wrapped toy:\n",
    "wrapped_toy()"
   ]
  },
  {
   "cell_type": "markdown",
   "id": "e3681427",
   "metadata": {},
   "source": [
    "**✨ The Magic `@` Symbol**  \n",
    "Python gives us a shortcut to wrap toys (functions) using `@`:"
   ]
  },
  {
   "cell_type": "code",
   "execution_count": 3,
   "id": "9947f478",
   "metadata": {},
   "outputs": [
    {
     "name": "stdout",
     "output_type": "stream",
     "text": [
      "🎁 Wrapping the toy in shiny paper!\n",
      "I'm a cool toy!\n",
      "🎀 Adding a bow on top!\n"
     ]
    }
   ],
   "source": [
    "@wrapping_machine\n",
    "def toy():\n",
    "    print(\"I'm a cool toy!\")\n",
    "\n",
    "# Now toy is already wrapped!\n",
    "toy()"
   ]
  },
  {
   "cell_type": "markdown",
   "id": "9431a09f",
   "metadata": {},
   "source": [
    "This does the exact same thing as `wrapped_toy = wrapping_machine(toy)` but looks cleaner!\n",
    "\n",
    "**🍪 Real Cookie Example**\n",
    "Let's make a real example with cookies:"
   ]
  },
  {
   "cell_type": "code",
   "execution_count": 4,
   "id": "a693563c",
   "metadata": {},
   "outputs": [
    {
     "name": "stdout",
     "output_type": "stream",
     "text": [
      "🔥 Heating up the oven!\n",
      "🥣 Putting cookie dough on the tray\n",
      "🍪 Cookies are ready!\n"
     ]
    }
   ],
   "source": [
    "# The decorator (oven)\n",
    "def oven(func):\n",
    "    def wrapper():\n",
    "        print(\"🔥 Heating up the oven!\")\n",
    "        func()\n",
    "        print(\"🍪 Cookies are ready!\")\n",
    "    return wrapper\n",
    "\n",
    "# The cookie dough (original function)\n",
    "@oven\n",
    "def make_cookies():\n",
    "    print(\"🥣 Putting cookie dough on the tray\")\n",
    "\n",
    "# Now bake!\n",
    "make_cookies()"
   ]
  },
  {
   "cell_type": "markdown",
   "id": "32d86ece",
   "metadata": {},
   "source": [
    "**📝 Key Points to Remember**\n",
    "1. Decorators are functions that wrap other functions\n",
    "\n",
    "2. The `@decorator_name` goes right above the function you want to wrap\n",
    "\n",
    "3. It automatically \"wraps\" your function with the decorator's functionality\n",
    "\n",
    "### 🤔 Why Use Decorators?\n",
    "They let you add the same extra functionality to many functions without repeating code! Like:\n",
    "\n",
    "- Timing how long functions take\n",
    "\n",
    "- Logging when functions run\n",
    "\n",
    "- Checking if users are logged in"
   ]
  },
  {
   "cell_type": "markdown",
   "id": "e42ed8a4",
   "metadata": {},
   "source": [
    "---\n",
    "\n",
    "### 2️⃣ Creating Your First Decorator\n",
    "Let's build a decorator that logs function execution:"
   ]
  },
  {
   "cell_type": "code",
   "execution_count": null,
   "id": "d5847f8b",
   "metadata": {},
   "outputs": [
    {
     "name": "stdout",
     "output_type": "stream",
     "text": [
      "📝 Calling add with (2, 3), {}\n",
      "📝 add returned 5\n",
      "5\n"
     ]
    }
   ],
   "source": [
    "def logger(func):\n",
    "    def wrapper(*args, **kwargs):\n",
    "        print(f\"📝 Calling {func.__name__} with {args}, {kwargs}\")\n",
    "        result = func(*args, **kwargs)\n",
    "        print(f\"📝 {func.__name__} returned {result}\")\n",
    "        return result\n",
    "    return wrapper\n",
    "\n",
    "@logger\n",
    "def add(a, b):\n",
    "    return a + b\n",
    "\n",
    "add(2, 3)"
   ]
  },
  {
   "cell_type": "markdown",
   "id": "ea5461a2",
   "metadata": {},
   "source": [
    "**Key Points:**\n",
    "\n",
    "- `*args` and `**kwargs` capture all arguments\n",
    "\n",
    "- `func.__name__` gets the original function's name\n",
    "\n",
    "- Always return the result from the inner function!\n",
    "\n",
    "---"
   ]
  },
  {
   "cell_type": "markdown",
   "id": "85fb9303",
   "metadata": {},
   "source": [
    "### 3️⃣ Decorators with Arguments\n",
    "Need to pass parameters to your decorator? Add another layer!"
   ]
  },
  {
   "cell_type": "code",
   "execution_count": 8,
   "id": "107e88ac",
   "metadata": {},
   "outputs": [
    {
     "name": "stdout",
     "output_type": "stream",
     "text": [
      "Hello Alice!\n",
      "Hello Alice!\n",
      "Hello Alice!\n"
     ]
    }
   ],
   "source": [
    "def repeat(times):\n",
    "    def decorator(func):\n",
    "        def wrapper(*args, **kwargs):\n",
    "            for _ in range(times):\n",
    "                result = func(*args, **kwargs)\n",
    "            return result\n",
    "        return wrapper\n",
    "    return decorator\n",
    "\n",
    "@repeat(times=3)\n",
    "def say_hello(name):\n",
    "    print(f\"Hello {name}!\")\n",
    "\n",
    "say_hello(\"Alice\")"
   ]
  },
  {
   "cell_type": "markdown",
   "id": "0f45d594",
   "metadata": {},
   "source": [
    "**How It Works:**\n",
    "\n",
    "- `repeat(3)` returns the `decorator` function\n",
    "\n",
    "- `decorator` takes the function and returns `wrapper`\n",
    "\n",
    "- `wrapper` runs the function multiple times\n",
    "\n",
    "---"
   ]
  },
  {
   "cell_type": "markdown",
   "id": "670bac46",
   "metadata": {},
   "source": [
    "### 4️⃣ Chaining Decorators\n",
    "Stack decorators like building blocks!"
   ]
  },
  {
   "cell_type": "code",
   "execution_count": 12,
   "id": "da406ab4",
   "metadata": {},
   "outputs": [
    {
     "name": "stdout",
     "output_type": "stream",
     "text": [
      "<b><i>Hello World</i></b>\n"
     ]
    }
   ],
   "source": [
    "def bold(func):\n",
    "    def wrapper():\n",
    "        return \"<b>\" + func() + \"</b>\"\n",
    "    return wrapper\n",
    "\n",
    "def italic(func):\n",
    "    def wrapper():\n",
    "        return \"<i>\" + func() + \"</i>\"\n",
    "    return wrapper\n",
    "\n",
    "@bold\n",
    "@italic\n",
    "def hello():\n",
    "    return \"Hello World\"\n",
    "\n",
    "print(hello())  # <b><i>Hello World</i></b>"
   ]
  },
  {
   "cell_type": "markdown",
   "id": "4672ff42",
   "metadata": {},
   "source": [
    "**Explanation:**\n",
    "1. The `hello()` function returns the string `Hello World`.\n",
    "\n",
    "2. The `@italic` decorator wraps hello() so that it returns `<i>Hello World</i>`\n",
    "\n",
    "3. The `@bold` decorator then wraps that result so it becomes `<b><i>Hello World</i></b>`.\n",
    "\n",
    "- The order of decorator application is bottom-up"
   ]
  },
  {
   "cell_type": "markdown",
   "id": "51459b7a",
   "metadata": {},
   "source": [
    "---\n",
    "### 5️⃣ Class Decorators\n",
    "Decorators can also work with classes: Let's understand with an analogy that a kingdom can have only one castle no matter how many times people ask for it."
   ]
  },
  {
   "cell_type": "code",
   "execution_count": null,
   "id": "de5b290f",
   "metadata": {},
   "outputs": [
    {
     "name": "stdout",
     "output_type": "stream",
     "text": [
      "Loading database...\n",
      "True\n"
     ]
    }
   ],
   "source": [
    "def singleton(cls):  # The castle-building rule\n",
    "    instances = {}   # The kingdom's record book (stores the one castle)\n",
    "    \n",
    "    def wrapper(*args, **kwargs):  # The castle gatekeeper\n",
    "        if cls not in instances:   # If no castle exists yet\n",
    "            instances[cls] = cls(*args, **kwargs)  # Build a new castle\n",
    "        return instances[cls]      # Always return the existing castle\n",
    "    \n",
    "    return wrapper  # The rule enforcer\n",
    "\n",
    "@singleton\n",
    "class Database:\n",
    "    def __init__(self):\n",
    "        print(\"Building new Castle...\")\n",
    "\n",
    "db1 = Database()\n",
    "db2 = Database()\n",
    "print(db1 is db2)  # True - same instance!"
   ]
  },
  {
   "cell_type": "markdown",
   "id": "10c60e55",
   "metadata": {},
   "source": [
    "[Start] \n",
    "   │\n",
    "   ▼\n",
    "db1 = Database() → Is there a Database instance in the Kingdom?\n",
    "   │                    │\n",
    "   │                    No → Create new instance (print \"Building new Castle...\")\n",
    "   │                    │\n",
    "   ▼                    ▼\n",
    "db2 = Database() → Is there a Database instance in the Kingdom?\n",
    "   │                    │\n",
    "   │                    Yes → Return existing instance\n",
    "   │                    │\n",
    "   ▼                    ▼\n",
    "print(db1 is db2) → True (Same Castle!)"
   ]
  },
  {
   "cell_type": "markdown",
   "id": "59504c66",
   "metadata": {},
   "source": [
    "---\n",
    "### 6️⃣ Built-in Decorators\n",
    "Python includes handy decorators:\n",
    "\n",
    "**`@property`**\n",
    "- Lets you access a method like an attribute (no parentheses needed).    \n",
    "    (Example: `obj.value` instead of `obj.get_value()`) "
   ]
  },
  {
   "cell_type": "code",
   "execution_count": null,
   "id": "eb43fa63",
   "metadata": {},
   "outputs": [],
   "source": [
    "class Circle:\n",
    "    def __init__(self, radius):\n",
    "        self._radius = radius\n",
    "    \n",
    "    @property\n",
    "    def diameter(self):\n",
    "        return 2 * self._radius\n",
    "\n",
    "c = Circle(5)\n",
    "print(c.diameter)  # 10 (no parentheses!)"
   ]
  },
  {
   "cell_type": "markdown",
   "id": "1c0df88a",
   "metadata": {},
   "source": [
    "**`@classmethod`** & **`@staticmethod`**\n",
    "1. Binds a method to the class (not instance), with the class (`cls`) as the first argument.     \n",
    "    (Example: `Class.method()` where `cls` refers to the class itself)\n",
    "\n",
    "\n",
    "2. A method that belongs to a class but doesn't access self or cls (like a plain function).    \n",
    "    (Example: `Class.helper()` – no implicit arguments passed)"
   ]
  },
  {
   "cell_type": "code",
   "execution_count": 14,
   "id": "ee13135c",
   "metadata": {},
   "outputs": [],
   "source": [
    "class Pizza:\n",
    "    @classmethod\n",
    "    def margherita(cls):\n",
    "        return cls(\"mozzarella\", \"tomatoes\")\n",
    "    \n",
    "    @staticmethod\n",
    "    def cooking_time():\n",
    "        return \"15 minutes\""
   ]
  },
  {
   "cell_type": "markdown",
   "id": "31d46de6",
   "metadata": {},
   "source": [
    "---\n",
    "### 7️⃣ Real-World Examples\n",
    "*Timing Functions*"
   ]
  },
  {
   "cell_type": "code",
   "execution_count": 5,
   "id": "bd4dbbb6",
   "metadata": {},
   "outputs": [
    {
     "name": "stdout",
     "output_type": "stream",
     "text": [
      "⏱️ slow_function took 1.00s\n"
     ]
    }
   ],
   "source": [
    "import time\n",
    "\n",
    "def timer(func):\n",
    "    def wrapper(*args, **kwargs):\n",
    "        start = time.time()\n",
    "        result = func(*args, **kwargs)\n",
    "        end = time.time()\n",
    "        print(f\"⏱️ {func.__name__} took {end-start:.2f}s\")\n",
    "        return result\n",
    "    return wrapper\n",
    "\n",
    "@timer\n",
    "def slow_function():\n",
    "    time.sleep(1)\n",
    "\n",
    "slow_function()"
   ]
  },
  {
   "cell_type": "markdown",
   "id": "60fb74ba",
   "metadata": {},
   "source": [
    "**Authorization**"
   ]
  },
  {
   "cell_type": "code",
   "execution_count": 6,
   "id": "1065238b",
   "metadata": {},
   "outputs": [],
   "source": [
    "def requires_auth(func):\n",
    "    def wrapper(*args, **kwargs):\n",
    "        if not user_authenticated:\n",
    "            raise PermissionError(\"Login required\")\n",
    "        return func(*args, **kwargs)\n",
    "    return wrapper"
   ]
  },
  {
   "cell_type": "markdown",
   "id": "d6933213",
   "metadata": {},
   "source": [
    "---\n",
    "### 8️⃣ Mini-Challenges\n",
    "1. **Create a Cache Decorator**"
   ]
  },
  {
   "cell_type": "code",
   "execution_count": 15,
   "id": "49d25c65",
   "metadata": {},
   "outputs": [],
   "source": [
    "def cache(func):\n",
    "    stored = {}\n",
    "    def wrapper(*args):\n",
    "        if args in stored:\n",
    "            return stored[args]\n",
    "        result = func(*args)\n",
    "        stored[args] = result\n",
    "        return result\n",
    "    return wrapper\n",
    "\n",
    "@cache\n",
    "def fibonacci(n):\n",
    "    if n < 2:\n",
    "        return n\n",
    "    return fibonacci(n-1) + fibonacci(n-2)"
   ]
  },
  {
   "cell_type": "markdown",
   "id": "503f7e30",
   "metadata": {},
   "source": [
    "2. **Retry Decorator**"
   ]
  },
  {
   "cell_type": "code",
   "execution_count": 16,
   "id": "67112aba",
   "metadata": {},
   "outputs": [],
   "source": [
    "def retry(max_attempts=3):\n",
    "    def decorator(func):\n",
    "        def wrapper(*args, **kwargs):\n",
    "            attempts = 0\n",
    "            while attempts < max_attempts:\n",
    "                try:\n",
    "                    return func(*args, **kwargs)\n",
    "                except Exception as e:\n",
    "                    attempts += 1\n",
    "                    print(f\"Attempt {attempts} failed: {e}\")\n",
    "            raise Exception(\"All attempts failed\")\n",
    "        return wrapper\n",
    "    return decorator"
   ]
  },
  {
   "cell_type": "markdown",
   "id": "50aa6ba1",
   "metadata": {},
   "source": [
    "---\n",
    "### 9️⃣ Project: API Timing Decorator\n",
    "🎯 **Goal:** Track execution time of API calls and log results."
   ]
  },
  {
   "cell_type": "code",
   "execution_count": 17,
   "id": "b90cfb87",
   "metadata": {},
   "outputs": [
    {
     "name": "stdout",
     "output_type": "stream",
     "text": [
      "\n",
      "            🚀 API Performance Report\n",
      "            --------------------------\n",
      "            Route: /users\n",
      "            Status: 200\n",
      "            Time: 0.00s\n",
      "            \n"
     ]
    },
    {
     "data": {
      "text/plain": [
       "<__main__.MockResponse at 0x182019e46b0>"
      ]
     },
     "execution_count": 17,
     "metadata": {},
     "output_type": "execute_result"
    }
   ],
   "source": [
    "import time\n",
    "import requests\n",
    "\n",
    "def api_timer(route_name):\n",
    "    def decorator(func):\n",
    "        def wrapper(*args, **kwargs):\n",
    "            start = time.time()\n",
    "            response = func(*args, **kwargs)\n",
    "            duration = time.time() - start\n",
    "            \n",
    "            print(f\"\"\"\n",
    "            🚀 API Performance Report\n",
    "            --------------------------\n",
    "            Route: {route_name}\n",
    "            Status: {response.status_code}\n",
    "            Time: {duration:.2f}s\n",
    "            \"\"\")\n",
    "            \n",
    "            return response\n",
    "        return wrapper\n",
    "    return decorator\n",
    "\n",
    "@api_timer(route_name=\"/users\")\n",
    "def get_users():\n",
    "    return requests.get(\"https://api.example.com/users\")\n",
    "\n",
    "# Simulate API call\n",
    "class MockResponse:\n",
    "    status_code = 200\n",
    "get_users = api_timer(\"/users\")(lambda: MockResponse())\n",
    "get_users()"
   ]
  },
  {
   "cell_type": "markdown",
   "id": "cbb9ae9a",
   "metadata": {},
   "source": [
    "### Common Gotchas <a name=\"common-gotchas-decorators\"></a>\n",
    "\n",
    "⚠️ Not using `functools.wraps` can cause metadata loss (like `__name__`)\n"
   ]
  },
  {
   "cell_type": "code",
   "execution_count": 45,
   "id": "bff792ba",
   "metadata": {},
   "outputs": [],
   "source": [
    "from functools import wraps\n",
    "\n",
    "def my_decorator(func):\n",
    "    @wraps(func)\n",
    "    def wrapper():\n",
    "        print(\"Before\")\n",
    "        return func()\n",
    "    return wrapper"
   ]
  },
  {
   "cell_type": "markdown",
   "id": "dcbdeb6f",
   "metadata": {},
   "source": [
    "\n",
    "\n",
    "### 🎯 Quick Quiz Time <a name=\"quick-quiz-decorators\"></a>\n",
    "\n",
    "**Q** What does a decorator return?\n",
    "- A) A string\n",
    "- B) A new function \n",
    "- C) An error\n",
    "- D) A class\n",
    "\n",
    "<details><summary>Answer</summary>\n",
    "B) ✅A new function\n",
    "</details>\n",
    "\n",
    "> Which pattern do decorators implement?\n",
    "- a) Singleton\n",
    "- b) Decorator\n",
    "- c) Factory\n",
    "\n",
    "> How many nested functions does a decorator with arguments need?\n",
    "- a) 1\n",
    "- b) 2\n",
    "- c) 3\n",
    "\n",
    "> What does `@property` do?\n",
    "- a) Makes a method callable without parentheses\n",
    "- b) Converts a method to a class method\n",
    "- c) Caches the method result\n",
    "\n",
    "*(Answers: 1-b, 2-c, 3-a)*\n",
    "\n",
    "\n",
    "\n",
    "### 🎤 Top Interview Questions <a name=\"interview-decorators\"></a>\n",
    "\n",
    "**Q1.** What are decorators and where would you use them?\n",
    "<details><summary>Answer</summary>\n",
    "Decorators are functions that modify other functions. Common uses include logging, access control, and instrumentation.\n",
    "</details>\n",
    "\n",
    "**Q2.** How do you create a decorator that takes arguments?<details><summary>Answer</summary>\n",
    "Use nested functions: the outer function accepts arguments and returns the actual decorator.\n",
    "</details>\n",
    "\n",
    "**Q3.** How to preserve function metadata while using decorators?\n",
    "<details><summary>Answer</summary>\n",
    "Use `functools.wraps(func)` inside your wrapper.\n",
    "</details>\n",
    "\n",
    "---"
   ]
  },
  {
   "cell_type": "markdown",
   "id": "f8a2e529",
   "metadata": {},
   "source": [
    "**Next Steps:**\n",
    "\n",
    "- Explore **functools.wraps** to preserve function metadata\n",
    "\n",
    "- Try **decorator** libraries like `@lru_cache`\n",
    "\n",
    "- Build a **web framework middleware system**\n",
    "---"
   ]
  },
  {
   "cell_type": "markdown",
   "id": "63457203",
   "metadata": {},
   "source": [
    "## ⚙️ Generators <a name=\"generators\"></a>\n",
    "\n",
    "### What are Generators? <a name=\"what-are-generators\"></a>\n",
    "\n",
    "Generators are functions that return an iterator and allow you to iterate **one item at a time** using `yield` instead of `return`.\n"
   ]
  },
  {
   "cell_type": "code",
   "execution_count": 50,
   "id": "0f96cf8f",
   "metadata": {},
   "outputs": [
    {
     "name": "stdout",
     "output_type": "stream",
     "text": [
      "1\n",
      "2\n",
      "3\n",
      "4\n"
     ]
    }
   ],
   "source": [
    "def count_up_to(n):\n",
    "    count = 1\n",
    "    while count <= n:\n",
    "        yield count\n",
    "        count += 1\n",
    "       \n",
    "# Using yield\n",
    "for num in count_up_to(4):\n",
    "    print(num)"
   ]
  },
  {
   "cell_type": "markdown",
   "id": "dd757d75",
   "metadata": {},
   "source": [
    "### Common Pitfalls <a name=\"common-pitfalls-generators\"></a>\n",
    "\n",
    "- You can iterate generators **only once**\n",
    "- Forgetting to use `yield`\n",
    "\n",
    "### 🧠 Pro Tips <a name=\"pro-tips-generators\"></a>\n",
    "\n",
    "- Use generators for large data to save memory 🌱\n",
    "- Combine with `next()` for manual iteration\n",
    "\n",
    "### 🎯 Quick Quiz Time <a name=\"quick-quiz-generators\"></a>\n",
    "\n",
    "**Q3:** What keyword turns a function into a generator?\n",
    "- A) `return`\n",
    "- B) `def`\n",
    "- C) `yield` \n",
    "- D) `async`\n",
    "\n",
    "<details><summary>Answer</summary>\n",
    "C) ✅`yield`\n",
    "</details>\n",
    "\n",
    "### 🎤 Top Interview Questions <a name=\"interview-generators\"></a>\n",
    "\n",
    "**Q1.** Explain the difference between `yield` and `return`.<details><summary></summary>\n",
    "`return` exits the function and sends back a value. `yield` pauses the function and returns a value, continuing from the same point on the next call.\n",
    "</details>\n",
    "\n",
    "**Q2.** Why are generators memory efficient?\n",
    "<details><summary></summary>\n",
    "They yield items one at a time without storing the entire sequence in memory.\n",
    "</details>\n",
    "\n",
    "**Q3.** How would you turn a generator into a list?\n",
    "<details><summary></summary>\n",
    "Use `list(generator_function())`.\n",
    "</details>\n",
    "\n",
    "---\n",
    "\n",
    "## 💻 Real World Challenge <a name=\"real-world-challenge\"></a>\n",
    "\n",
    "### Project: Login Authentication Flow <a name=\"project-auth-flow\"></a>\n",
    "\n",
    "**Objective**: Simulate a login authentication system.\n",
    "\n",
    "**Requirements**:\n",
    "- Ask for username and password\n",
    "- Check against a stored dictionary\n",
    "- Retry option with max 3 attempts\n"
   ]
  },
  {
   "cell_type": "code",
   "execution_count": null,
   "id": "301c7ccb",
   "metadata": {},
   "outputs": [
    {
     "name": "stdout",
     "output_type": "stream",
     "text": [
      "✅ Login Successful!\n"
     ]
    }
   ],
   "source": [
    "users = {'admin': '1234', 'user1': 'abcd'}\n",
    "\n",
    "def login_system():\n",
    "    attempts = 0\n",
    "    while attempts < 3:\n",
    "        username = input(\"Enter username: \")\n",
    "        password = input(\"Enter password: \")\n",
    "\n",
    "        if users.get(username) == password:\n",
    "            print(\"✅ Login Successful!\")\n",
    "            return\n",
    "        else:\n",
    "            print(\"❌ Invalid credentials. Try again.\")\n",
    "            attempts += 1\n",
    "    print(\"🔒 Account locked due to 3 failed attempts.\")\n",
    "\n",
    "login_system()"
   ]
  },
  {
   "cell_type": "markdown",
   "id": "f3a6d6bd",
   "metadata": {},
   "source": [
    "# 🧠 Math in Python\n",
    "\n",
    "## 🔢 math Module:\n",
    "Python has a built-in module called `math`, which extends the list of mathematical functions.\n",
    "\n",
    "To use it, you must import the `math` module:"
   ]
  },
  {
   "cell_type": "code",
   "execution_count": null,
   "id": "9f21182c",
   "metadata": {},
   "outputs": [],
   "source": [
    "import math\n",
    "\n",
    "## 🧭 Rounding & Precision\n",
    "print(\"Ceil 4.3:\", math.ceil(4.3))       # ⬆️ Rounds up to 5\n",
    "print(\"Floor 4.7:\", math.floor(4.7))     # ⬇️ Rounds down to 4\n",
    "print(\"Trunc -4.7:\", math.trunc(-4.7))   # 🔪 Trims decimal → -4\n",
    "\n",
    "## 🌱 Roots and Powers\n",
    "print(\"Square root of 16:\", math.sqrt(16))\n",
    "print(\"2^3:\", math.pow(2, 3))             # Returns float\n",
    "print(\"3^4:\", 3**4)                      # Same as pow, returns int\n",
    "\n",
    "## 💡 Logarithms & Constants\n",
    "print(\"log base e of 10:\", math.log(10))\n",
    "print(\"log base 10 of 1000:\", math.log10(1000))\n",
    "print(\"Pi:\", math.pi)\n",
    "print(\"Euler's e:\", math.e)\n"
   ]
  },
  {
   "cell_type": "code",
   "execution_count": null,
   "id": "120e9fae",
   "metadata": {},
   "outputs": [],
   "source": [
    "# Built-in Math Functions\n",
    "x = min(5, 10, 25) # To find the lowest in an iterable\n",
    "y = max(5, 10, 25) # To find highest value...\n",
    "\n",
    "z = abs(-7.25) # Returns the absolute (positive) value\n",
    "\n",
    "# The pow(x, y) function returns the value of x to the power of y (xy).\n",
    "a = pow(4, 3)\n",
    "\n",
    "print(x, y, z, a)"
   ]
  },
  {
   "cell_type": "markdown",
   "id": "21dbc639",
   "metadata": {},
   "source": [
    "## 📏 Trigonometry in Python"
   ]
  },
  {
   "cell_type": "code",
   "execution_count": null,
   "id": "208fa5ac",
   "metadata": {},
   "outputs": [],
   "source": [
    "\n",
    "\n",
    "## All functions take radians!\n",
    "angle_deg = 30\n",
    "angle_rad = math.radians(angle_deg)\n",
    "\n",
    "print(\"sin(30°):\", math.sin(angle_rad))\n",
    "print(\"cos(30°):\", math.cos(angle_rad))\n",
    "print(\"tan(30°):\", math.tan(angle_rad))\n",
    "\n",
    "## Inverse Trig:\n",
    "print(\"arcsin(0.5):\", math.degrees(math.asin(0.5)))  # Converts back to degrees"
   ]
  },
  {
   "cell_type": "markdown",
   "id": "1059c7c2",
   "metadata": {},
   "source": [
    "---\n",
    "\n",
    "## 🧮 Common Mathematical Formulas\n"
   ]
  },
  {
   "cell_type": "code",
   "execution_count": null,
   "id": "ecc7120a",
   "metadata": {},
   "outputs": [],
   "source": [
    "## ✅ Area of Circle\n",
    "def area_circle(radius):\n",
    "    return math.pi * radius**2\n",
    "print(\"Area of circle (r=5):\", area_circle(5))\n",
    "\n",
    "## ✅ Quadratic Formula\n",
    "def solve_quadratic(a, b, c):\n",
    "    disc = b**2 - 4*a*c\n",
    "    if disc < 0:\n",
    "        return \"No real roots\"\n",
    "    root1 = (-b + math.sqrt(disc)) / (2*a)\n",
    "    root2 = (-b - math.sqrt(disc)) / (2*a)\n",
    "    return root1, root2\n",
    "print(\"Roots of x^2 - 5x + 6:\", solve_quadratic(1, -5, 6))\n",
    "\n",
    "## ✅ Distance Between Two Points\n",
    "def distance(p1, p2):\n",
    "    return math.sqrt((p2[0] - p1[0])**2 + (p2[1] - p1[1])**2)\n",
    "print(\"Distance between (0,0) and (3,4):\", distance((0,0), (3,4)))"
   ]
  },
  {
   "cell_type": "markdown",
   "id": "725a7d12",
   "metadata": {},
   "source": [
    "---\n",
    "\n",
    "## 🧰 Random, Statistics & Useful Utilities\n"
   ]
  },
  {
   "cell_type": "code",
   "execution_count": null,
   "id": "840eed64",
   "metadata": {},
   "outputs": [],
   "source": [
    "import random\n",
    "import statistics\n",
    "\n",
    "## 🎲 Random Module\n",
    "print(\"Random number (0-1):\", random.random())\n",
    "print(\"Random integer (1-10):\", random.randint(1, 10))\n",
    "\n",
    "## 🎯 Choose from list\n",
    "options = ['apple', 'banana', 'cherry']\n",
    "print(\"Random choice:\", random.choice(options))\n",
    "\n",
    "## 📊 Statistics Module\n",
    "nums = [10, 20, 20, 40, 50]\n",
    "print(\"Mean:\", statistics.mean(nums))\n",
    "print(\"Median:\", statistics.median(nums))\n",
    "print(\"Mode:\", statistics.mode(nums))\n",
    "print(\"Standard Deviation:\", statistics.stdev(nums))"
   ]
  },
  {
   "cell_type": "markdown",
   "id": "54763c56",
   "metadata": {},
   "source": [
    "---\n",
    "\n",
    "## 🧠 Pro Tips & Best Practices\n",
    "- Use `math.isclose(a, b)` to compare floats instead of `==`\n",
    "- `round(number, digits)` to format outputs\n",
    "- Avoid floating point surprises by understanding binary precision\n",
    "- Use `decimal` module for accurate financial calculations\n",
    "\n",
    "---\n",
    "\n",
    "## 🎯 Quick Quiz Time\n",
    "\n",
    "**Q1:** What does `math.floor(-2.3)` return?\n",
    "- A. -2  \n",
    "- B. -3  \n",
    "- C. 2  \n",
    "- D. Error\n",
    "\n",
    "**Q2:** Which module helps calculate mean/median/mode?\n",
    "- A. math  \n",
    "- B. random  \n",
    "- C. statistics  \n",
    "- D. decimal\n",
    "\n",
    "**Q3:** True or False — `math.sin()` takes degrees\n",
    "\n",
    "<details><summary>📝 Answers</summary>\n",
    "- Q1: B\n",
    "- Q2: C\n",
    "- Q3: False (use radians)\n",
    "</details>\n",
    "\n",
    "---\n",
    "\n",
    "## 🎤 Top Interview Questions\n",
    "\n",
    "**Q1:** How would you calculate compound interest using math functions?\n",
    "**Q2:** When do you use math.isclose()?\n",
    "**Q3:** What's the difference between math.pow() and ** operator?\n",
    "**Q4:** How do you handle float precision issues?\n",
    "\n",
    "<details><summary>📘 Answers</summary>\n",
    "Q1: Use A*(1 + r/n)^(nt)\n",
    "Q2: When comparing floats to avoid precision bugs\n",
    "Q3: math.pow always returns float; ** may return int\n",
    "Q4: Use round() or decimal module\n",
    "</details>\n",
    "\n",
    "---\n",
    "\n",
    "## 💻 Real World Challenge: BMI Calculator\n",
    "\n",
    "`📌 Problem:`   \n",
    "Write a function that calculates BMI given height (m) and weight (kg).\n"
   ]
  },
  {
   "cell_type": "code",
   "execution_count": null,
   "id": "83aec7e8",
   "metadata": {},
   "outputs": [],
   "source": [
    "# 💡 Formula: BMI = weight / (height^2)\n",
    "\n",
    "def calculate_bmi(weight, height):\n",
    "    bmi = weight / (height ** 2)\n",
    "    return round(bmi, 2)\n",
    "\n",
    "print(\"BMI (70kg, 1.75m):\", calculate_bmi(70, 1.75))"
   ]
  },
  {
   "cell_type": "markdown",
   "id": "fb5ba002",
   "metadata": {},
   "source": [
    "---\n",
    "\n",
    "# Standard Libraries & Tools\n",
    "\n",
    "Welcome! In this notebook, we explore Python's standard (and widely-used) libraries that make your scripts powerful, automation-ready, and real-world applicable. Let's get productive 🚀\n",
    "\n",
    "### 📅 datetime: Working with Dates and Times"
   ]
  },
  {
   "cell_type": "code",
   "execution_count": 7,
   "id": "a0d3e46f",
   "metadata": {},
   "outputs": [
    {
     "name": "stdout",
     "output_type": "stream",
     "text": [
      "Current Date & Time: 2025-04-23 09:22:15.981664\n",
      "Date: 2025-04-23\n",
      "Time: 09:22:15.981664\n",
      "My DOB: 2005-05-15\n",
      "10 days later: 2025-05-03 09:22:15.981664\n"
     ]
    }
   ],
   "source": [
    "import datetime\n",
    "\n",
    "now = datetime.datetime.now()\n",
    "print(\"Current Date & Time:\", now)\n",
    "\n",
    "# Get just date or time\n",
    "print(\"Date:\", now.date())\n",
    "print(\"Time:\", now.time())\n",
    "\n",
    "# Create a specific date\n",
    "dob = datetime.date(2005, 5, 15)\n",
    "print(\"My DOB:\", dob)\n",
    "\n",
    "# Time delta (difference between dates)\n",
    "future = now + datetime.timedelta(days=10)\n",
    "print(\"10 days later:\", future)"
   ]
  },
  {
   "cell_type": "markdown",
   "id": "ecfd5225",
   "metadata": {},
   "source": [
    "### 🖥️ os and sys: System and File Management"
   ]
  },
  {
   "cell_type": "code",
   "execution_count": 8,
   "id": "6d6f504b",
   "metadata": {},
   "outputs": [
    {
     "name": "stdout",
     "output_type": "stream",
     "text": [
      "Current Directory: d:\\Projects\n",
      "Files: ['Guess_the_Number.py', 'Hangman.py', 'music.mp3', 'Password.py', 'Password.py.py', 'Practice.py', 'Python MiniNotebook.ipynb', 'Rock_Paper_Scissor.py', 'saved_passwords.txt', 'Tic_Tac_Toe.py', 'WebCalculator.py']\n",
      "Python Path: c:\\Users\\GNG\\AppData\\Local\\Programs\\Python\\Python312\\python.exe\n",
      "Command-line args: ['C:\\\\Users\\\\GNG\\\\AppData\\\\Roaming\\\\Python\\\\Python312\\\\site-packages\\\\ipykernel_launcher.py', '--f=c:\\\\Users\\\\GNG\\\\AppData\\\\Roaming\\\\jupyter\\\\runtime\\\\kernel-v3bfac61156641f750903682ba7c6217f9912ed2dc.json']\n"
     ]
    }
   ],
   "source": [
    "import os\n",
    "import sys\n",
    "\n",
    "# Get current directory\n",
    "print(\"Current Directory:\", os.getcwd())\n",
    "\n",
    "# List files in current directory\n",
    "print(\"Files:\", os.listdir())\n",
    "\n",
    "# sys info\n",
    "print(\"Python Path:\", sys.executable)\n",
    "print(\"Command-line args:\", sys.argv)"
   ]
  },
  {
   "cell_type": "markdown",
   "id": "57a1ae00",
   "metadata": {},
   "source": [
    "### 📐 math and random: Calculations & Randomness"
   ]
  },
  {
   "cell_type": "code",
   "execution_count": 10,
   "id": "e796b44b",
   "metadata": {},
   "outputs": [
    {
     "name": "stdout",
     "output_type": "stream",
     "text": [
      "Square Root of 64: 8.0\n",
      "Random Float 0-1: 0.4090641616340511\n",
      "Random Choice: cherry\n"
     ]
    }
   ],
   "source": [
    "import math\n",
    "import random\n",
    "\n",
    "print(\"Square Root of 64:\", math.sqrt(64))\n",
    "print(\"Random Float 0-1:\", random.random())\n",
    "print(\"Random Choice:\", random.choice(['apple', 'banana', 'cherry']))"
   ]
  },
  {
   "cell_type": "markdown",
   "id": "b02199a8",
   "metadata": {},
   "source": [
    "### 🔍 re: Regular Expressions"
   ]
  },
  {
   "cell_type": "code",
   "execution_count": 9,
   "id": "b06bdbca",
   "metadata": {},
   "outputs": [
    {
     "name": "stdout",
     "output_type": "stream",
     "text": [
      "Found Email: test@example.com\n",
      "Numbers: ['12', '5']\n"
     ]
    }
   ],
   "source": [
    "import re\n",
    "\n",
    "text = \"Email me at test@example.com\"\n",
    "match = re.search(r\"\\S+@\\S+\", text)\n",
    "if match:\n",
    "    print(\"Found Email:\", match.group())\n",
    "\n",
    "# Find all digits\n",
    "nums = re.findall(r\"\\d+\", \"Order 12 apples and 5 bananas\")\n",
    "print(\"Numbers:\", nums)"
   ]
  },
  {
   "cell_type": "markdown",
   "id": "7af16dc9",
   "metadata": {},
   "source": [
    "### 🗂️ shutil: File Operations"
   ]
  },
  {
   "cell_type": "code",
   "execution_count": null,
   "id": "01660008",
   "metadata": {},
   "outputs": [],
   "source": [
    "import shutil\n",
    "\n",
    "# Copy a file\n",
    "# shutil.copy(\"source.txt\", \"destination.txt\")\n",
    "\n",
    "# Create and remove directories\n",
    "# os.mkdir(\"new_folder\")\n",
    "# shutil.rmtree(\"new_folder\")"
   ]
  },
  {
   "cell_type": "markdown",
   "id": "d7fc4247",
   "metadata": {},
   "source": [
    "### 🛠️ argparse: Command-line Tools"
   ]
  },
  {
   "cell_type": "code",
   "execution_count": null,
   "id": "1ff2d0c1",
   "metadata": {},
   "outputs": [],
   "source": [
    "import argparse\n",
    "\n",
    "# Example: Run this file with arguments from terminal like:\n",
    "# python script.py --name Ahmad\n",
    "\n",
    "# parser = argparse.ArgumentParser()\n",
    "# parser.add_argument('--name', help='Your name')\n",
    "# args = parser.parse_args()\n",
    "# print(f\"Hello, {args.name}!\")"
   ]
  },
  {
   "cell_type": "markdown",
   "id": "f90d31ea",
   "metadata": {},
   "source": [
    "### 🌐 venv and pip: Virtual Environments and Installing Packages\n",
    "\n",
    "#### Create a Virtual Environment:\n",
    "```bash\n",
    "python -m venv env\n",
    "```\n",
    "\n",
    "#### Activate:\n",
    "```bash\n",
    "# Windows\n",
    "env\\Scripts\\activate\n",
    "\n",
    "# Linux/macOS\n",
    "source env/bin/activate\n",
    "```\n",
    "\n",
    "#### Install packages:\n",
    "```bash\n",
    "pip install requests\n",
    "pip freeze > requirements.txt\n",
    "```\n",
    "\n",
    "#### Deactivate:\n",
    "```bash\n",
    "deactivate\n",
    "```"
   ]
  },
  {
   "cell_type": "markdown",
   "id": "fdfae035",
   "metadata": {},
   "source": [
    "### 📡 requests: API Handling Made Easy"
   ]
  },
  {
   "cell_type": "code",
   "execution_count": null,
   "id": "4707e720",
   "metadata": {},
   "outputs": [],
   "source": [
    "import requests\n",
    "\n",
    "response = requests.get(\"https://api.github.com\")\n",
    "print(\"Status Code:\", response.status_code)\n",
    "print(\"Headers:\", response.headers['content-type'])\n",
    "print(\"JSON:\", response.json())"
   ]
  },
  {
   "cell_type": "markdown",
   "id": "d7cad6d8",
   "metadata": {},
   "source": [
    "---"
   ]
  }
 ],
 "metadata": {
  "kernelspec": {
   "display_name": "Python 3",
   "language": "python",
   "name": "python3"
  },
  "language_info": {
   "codemirror_mode": {
    "name": "ipython",
    "version": 3
   },
   "file_extension": ".py",
   "mimetype": "text/x-python",
   "name": "python",
   "nbconvert_exporter": "python",
   "pygments_lexer": "ipython3",
   "version": "3.12.5"
  }
 },
 "nbformat": 4,
 "nbformat_minor": 5
}
